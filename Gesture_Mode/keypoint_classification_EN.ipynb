{
  "cells": [
    {
      "cell_type": "code",
      "execution_count": 1,
      "metadata": {
        "id": "igMyGnjE9hEp"
      },
      "outputs": [
        {
          "name": "stdout",
          "output_type": "stream",
          "text": [
            "WARNING:tensorflow:From d:\\Projects\\VocalWave\\.venv\\lib\\site-packages\\keras\\src\\losses.py:2976: The name tf.losses.sparse_softmax_cross_entropy is deprecated. Please use tf.compat.v1.losses.sparse_softmax_cross_entropy instead.\n",
            "\n"
          ]
        }
      ],
      "source": [
        "import csv\n",
        "\n",
        "import numpy as np\n",
        "import tensorflow as tf\n",
        "from sklearn.model_selection import train_test_split\n",
        "\n",
        "RANDOM_SEED = 68"
      ]
    },
    {
      "cell_type": "markdown",
      "metadata": {
        "id": "t2HDvhIu9hEr"
      },
      "source": [
        "# Specify each path"
      ]
    },
    {
      "cell_type": "code",
      "execution_count": 2,
      "metadata": {
        "id": "9NvZP2Zn9hEy"
      },
      "outputs": [],
      "source": [
        "dataset = 'model/keypoint_classifier/keypoint.csv'\n",
        "model_save_path = 'model/keypoint_classifier/keypoint_classifier.hdf5'\n",
        "tflite_save_path = 'model/keypoint_classifier/keypoint_classifier.tflite'"
      ]
    },
    {
      "cell_type": "markdown",
      "metadata": {
        "id": "s5oMH7x19hEz"
      },
      "source": [
        "# Set number of classes"
      ]
    },
    {
      "cell_type": "code",
      "execution_count": 3,
      "metadata": {
        "id": "du4kodXL9hEz"
      },
      "outputs": [],
      "source": [
        "NUM_CLASSES = 9"
      ]
    },
    {
      "cell_type": "markdown",
      "metadata": {
        "id": "XjnL0uso9hEz"
      },
      "source": [
        "# Dataset reading"
      ]
    },
    {
      "cell_type": "code",
      "execution_count": 4,
      "metadata": {
        "id": "QT5ZqtEz9hE0"
      },
      "outputs": [],
      "source": [
        "X_dataset = np.loadtxt(dataset, delimiter=',', dtype='float32', usecols=list(range(1, (21 * 2) + 1)))"
      ]
    },
    {
      "cell_type": "code",
      "execution_count": 5,
      "metadata": {
        "id": "QmoKFsp49hE0"
      },
      "outputs": [],
      "source": [
        "y_dataset = np.loadtxt(dataset, delimiter=',', dtype='int32', usecols=(0))"
      ]
    },
    {
      "cell_type": "code",
      "execution_count": 6,
      "metadata": {
        "id": "xQU7JTZ_9hE0"
      },
      "outputs": [],
      "source": [
        "X_train, X_test, y_train, y_test = train_test_split(X_dataset, y_dataset, train_size=0.8, random_state=RANDOM_SEED)"
      ]
    },
    {
      "cell_type": "markdown",
      "metadata": {
        "id": "mxK_lETT9hE0"
      },
      "source": [
        "# Model building"
      ]
    },
    {
      "cell_type": "code",
      "execution_count": 7,
      "metadata": {
        "id": "vHBmUf1t9hE1"
      },
      "outputs": [
        {
          "name": "stdout",
          "output_type": "stream",
          "text": [
            "WARNING:tensorflow:From d:\\Projects\\VocalWave\\.venv\\lib\\site-packages\\keras\\src\\backend.py:1398: The name tf.executing_eagerly_outside_functions is deprecated. Please use tf.compat.v1.executing_eagerly_outside_functions instead.\n",
            "\n"
          ]
        }
      ],
      "source": [
        "model = tf.keras.models.Sequential([\n",
        "    tf.keras.layers.Input((21 * 2, )),\n",
        "    tf.keras.layers.Dropout(0.2),\n",
        "    tf.keras.layers.Dense(20, activation='relu'),\n",
        "    tf.keras.layers.Dropout(0.4),\n",
        "    tf.keras.layers.Dense(10, activation='relu'),\n",
        "    tf.keras.layers.Dense(NUM_CLASSES, activation='softmax')\n",
        "])"
      ]
    },
    {
      "cell_type": "code",
      "execution_count": 8,
      "metadata": {
        "colab": {
          "base_uri": "https://localhost:8080/"
        },
        "id": "ypqky9tc9hE1",
        "outputId": "5db082bb-30e3-4110-bf63-a1ee777ecd46"
      },
      "outputs": [
        {
          "name": "stdout",
          "output_type": "stream",
          "text": [
            "Model: \"sequential\"\n",
            "_________________________________________________________________\n",
            " Layer (type)                Output Shape              Param #   \n",
            "=================================================================\n",
            " dropout (Dropout)           (None, 42)                0         \n",
            "                                                                 \n",
            " dense (Dense)               (None, 20)                860       \n",
            "                                                                 \n",
            " dropout_1 (Dropout)         (None, 20)                0         \n",
            "                                                                 \n",
            " dense_1 (Dense)             (None, 10)                210       \n",
            "                                                                 \n",
            " dense_2 (Dense)             (None, 9)                 99        \n",
            "                                                                 \n",
            "=================================================================\n",
            "Total params: 1169 (4.57 KB)\n",
            "Trainable params: 1169 (4.57 KB)\n",
            "Non-trainable params: 0 (0.00 Byte)\n",
            "_________________________________________________________________\n"
          ]
        }
      ],
      "source": [
        "model.summary()  # tf.keras.utils.plot_model(model, show_shapes=True)"
      ]
    },
    {
      "cell_type": "code",
      "execution_count": 9,
      "metadata": {
        "id": "MbMjOflQ9hE1"
      },
      "outputs": [],
      "source": [
        "# Model checkpoint callback\n",
        "cp_callback = tf.keras.callbacks.ModelCheckpoint(model_save_path, verbose=1, save_weights_only=False)\n",
        "# Callback for early stopping\n",
        "es_callback = tf.keras.callbacks.EarlyStopping(patience=20, verbose=1)"
      ]
    },
    {
      "cell_type": "code",
      "execution_count": 10,
      "metadata": {
        "id": "c3Dac0M_9hE2"
      },
      "outputs": [
        {
          "name": "stdout",
          "output_type": "stream",
          "text": [
            "WARNING:tensorflow:From d:\\Projects\\VocalWave\\.venv\\lib\\site-packages\\keras\\src\\optimizers\\__init__.py:309: The name tf.train.Optimizer is deprecated. Please use tf.compat.v1.train.Optimizer instead.\n",
            "\n"
          ]
        }
      ],
      "source": [
        "# Model compilation\n",
        "model.compile(\n",
        "    optimizer='adam',\n",
        "    loss='sparse_categorical_crossentropy',\n",
        "    metrics=['accuracy']\n",
        ")"
      ]
    },
    {
      "cell_type": "markdown",
      "metadata": {
        "id": "7XI0j1Iu9hE2"
      },
      "source": [
        "# Model training"
      ]
    },
    {
      "cell_type": "code",
      "execution_count": 11,
      "metadata": {
        "colab": {
          "base_uri": "https://localhost:8080/"
        },
        "id": "WirBl-JE9hE3",
        "outputId": "71b30ca2-8294-4d9d-8aa2-800d90d399de",
        "scrolled": true
      },
      "outputs": [
        {
          "name": "stdout",
          "output_type": "stream",
          "text": [
            "Epoch 1/200\n",
            "WARNING:tensorflow:From d:\\Projects\\VocalWave\\.venv\\lib\\site-packages\\keras\\src\\utils\\tf_utils.py:492: The name tf.ragged.RaggedTensorValue is deprecated. Please use tf.compat.v1.ragged.RaggedTensorValue instead.\n",
            "\n",
            "WARNING:tensorflow:From d:\\Projects\\VocalWave\\.venv\\lib\\site-packages\\keras\\src\\engine\\base_layer_utils.py:384: The name tf.executing_eagerly_outside_functions is deprecated. Please use tf.compat.v1.executing_eagerly_outside_functions instead.\n",
            "\n",
            " 67/100 [===================>..........] - ETA: 0s - loss: 2.0832 - accuracy: 0.2306\n",
            "Epoch 1: saving model to model/keypoint_classifier\\keypoint_classifier.hdf5\n",
            "100/100 [==============================] - 2s 6ms/step - loss: 1.9975 - accuracy: 0.2778 - val_loss: 1.6575 - val_accuracy: 0.4543\n"
          ]
        },
        {
          "name": "stderr",
          "output_type": "stream",
          "text": [
            "d:\\Projects\\VocalWave\\.venv\\lib\\site-packages\\keras\\src\\engine\\training.py:3103: UserWarning: You are saving your model as an HDF5 file via `model.save()`. This file format is considered legacy. We recommend using instead the native Keras format, e.g. `model.save('my_model.keras')`.\n",
            "  saving_api.save_model(\n"
          ]
        },
        {
          "name": "stdout",
          "output_type": "stream",
          "text": [
            "Epoch 2/200\n",
            " 98/100 [============================>.] - ETA: 0s - loss: 1.5282 - accuracy: 0.4529\n",
            "Epoch 2: saving model to model/keypoint_classifier\\keypoint_classifier.hdf5\n",
            "100/100 [==============================] - 0s 3ms/step - loss: 1.5267 - accuracy: 0.4531 - val_loss: 1.2055 - val_accuracy: 0.6241\n",
            "Epoch 3/200\n",
            " 71/100 [====================>.........] - ETA: 0s - loss: 1.2498 - accuracy: 0.5397\n",
            "Epoch 3: saving model to model/keypoint_classifier\\keypoint_classifier.hdf5\n",
            "100/100 [==============================] - 0s 2ms/step - loss: 1.2168 - accuracy: 0.5510 - val_loss: 0.8975 - val_accuracy: 0.7116\n",
            "Epoch 4/200\n",
            " 72/100 [====================>.........] - ETA: 0s - loss: 1.0501 - accuracy: 0.6042\n",
            "Epoch 4: saving model to model/keypoint_classifier\\keypoint_classifier.hdf5\n",
            "100/100 [==============================] - 0s 2ms/step - loss: 1.0339 - accuracy: 0.6100 - val_loss: 0.7174 - val_accuracy: 0.8338\n",
            "Epoch 5/200\n",
            " 87/100 [=========================>....] - ETA: 0s - loss: 0.9144 - accuracy: 0.6607\n",
            "Epoch 5: saving model to model/keypoint_classifier\\keypoint_classifier.hdf5\n",
            "100/100 [==============================] - 0s 2ms/step - loss: 0.9105 - accuracy: 0.6622 - val_loss: 0.5905 - val_accuracy: 0.8687\n",
            "Epoch 6/200\n",
            " 87/100 [=========================>....] - ETA: 0s - loss: 0.8495 - accuracy: 0.6828\n",
            "Epoch 6: saving model to model/keypoint_classifier\\keypoint_classifier.hdf5\n",
            "100/100 [==============================] - 0s 2ms/step - loss: 0.8419 - accuracy: 0.6853 - val_loss: 0.5087 - val_accuracy: 0.8914\n",
            "Epoch 7/200\n",
            " 83/100 [=======================>......] - ETA: 0s - loss: 0.7697 - accuracy: 0.7152\n",
            "Epoch 7: saving model to model/keypoint_classifier\\keypoint_classifier.hdf5\n",
            "100/100 [==============================] - 0s 2ms/step - loss: 0.7657 - accuracy: 0.7151 - val_loss: 0.4551 - val_accuracy: 0.8999\n",
            "Epoch 8/200\n",
            " 85/100 [========================>.....] - ETA: 0s - loss: 0.7348 - accuracy: 0.7301\n",
            "Epoch 8: saving model to model/keypoint_classifier\\keypoint_classifier.hdf5\n",
            "100/100 [==============================] - 0s 2ms/step - loss: 0.7297 - accuracy: 0.7326 - val_loss: 0.4214 - val_accuracy: 0.9021\n",
            "Epoch 9/200\n",
            " 76/100 [=====================>........] - ETA: 0s - loss: 0.6957 - accuracy: 0.7459\n",
            "Epoch 9: saving model to model/keypoint_classifier\\keypoint_classifier.hdf5\n",
            "100/100 [==============================] - 0s 2ms/step - loss: 0.6899 - accuracy: 0.7499 - val_loss: 0.3845 - val_accuracy: 0.9232\n",
            "Epoch 10/200\n",
            " 73/100 [====================>.........] - ETA: 0s - loss: 0.6549 - accuracy: 0.7631\n",
            "Epoch 10: saving model to model/keypoint_classifier\\keypoint_classifier.hdf5\n",
            "100/100 [==============================] - 0s 2ms/step - loss: 0.6556 - accuracy: 0.7620 - val_loss: 0.3593 - val_accuracy: 0.9342\n",
            "Epoch 11/200\n",
            " 75/100 [=====================>........] - ETA: 0s - loss: 0.6411 - accuracy: 0.7725\n",
            "Epoch 11: saving model to model/keypoint_classifier\\keypoint_classifier.hdf5\n",
            "100/100 [==============================] - 0s 2ms/step - loss: 0.6339 - accuracy: 0.7713 - val_loss: 0.3281 - val_accuracy: 0.9414\n",
            "Epoch 12/200\n",
            " 77/100 [======================>.......] - ETA: 0s - loss: 0.6306 - accuracy: 0.7708\n",
            "Epoch 12: saving model to model/keypoint_classifier\\keypoint_classifier.hdf5\n",
            "100/100 [==============================] - 0s 2ms/step - loss: 0.6262 - accuracy: 0.7743 - val_loss: 0.3162 - val_accuracy: 0.9449\n",
            "Epoch 13/200\n",
            " 89/100 [=========================>....] - ETA: 0s - loss: 0.5989 - accuracy: 0.7857\n",
            "Epoch 13: saving model to model/keypoint_classifier\\keypoint_classifier.hdf5\n",
            "100/100 [==============================] - 0s 2ms/step - loss: 0.5977 - accuracy: 0.7857 - val_loss: 0.2962 - val_accuracy: 0.9465\n",
            "Epoch 14/200\n",
            " 87/100 [=========================>....] - ETA: 0s - loss: 0.5726 - accuracy: 0.8006\n",
            "Epoch 14: saving model to model/keypoint_classifier\\keypoint_classifier.hdf5\n",
            "100/100 [==============================] - 0s 2ms/step - loss: 0.5721 - accuracy: 0.8010 - val_loss: 0.2785 - val_accuracy: 0.9474\n",
            "Epoch 15/200\n",
            " 87/100 [=========================>....] - ETA: 0s - loss: 0.5777 - accuracy: 0.8006\n",
            "Epoch 15: saving model to model/keypoint_classifier\\keypoint_classifier.hdf5\n",
            "100/100 [==============================] - 0s 2ms/step - loss: 0.5749 - accuracy: 0.8002 - val_loss: 0.2628 - val_accuracy: 0.9490\n",
            "Epoch 16/200\n",
            " 86/100 [========================>.....] - ETA: 0s - loss: 0.5639 - accuracy: 0.8067\n",
            "Epoch 16: saving model to model/keypoint_classifier\\keypoint_classifier.hdf5\n",
            "100/100 [==============================] - 0s 2ms/step - loss: 0.5630 - accuracy: 0.8062 - val_loss: 0.2581 - val_accuracy: 0.9534\n",
            "Epoch 17/200\n",
            " 75/100 [=====================>........] - ETA: 0s - loss: 0.5409 - accuracy: 0.8156\n",
            "Epoch 17: saving model to model/keypoint_classifier\\keypoint_classifier.hdf5\n",
            "100/100 [==============================] - 0s 2ms/step - loss: 0.5372 - accuracy: 0.8177 - val_loss: 0.2379 - val_accuracy: 0.9550\n",
            "Epoch 18/200\n",
            " 87/100 [=========================>....] - ETA: 0s - loss: 0.5333 - accuracy: 0.8163\n",
            "Epoch 18: saving model to model/keypoint_classifier\\keypoint_classifier.hdf5\n",
            "100/100 [==============================] - 0s 2ms/step - loss: 0.5331 - accuracy: 0.8176 - val_loss: 0.2296 - val_accuracy: 0.9565\n",
            "Epoch 19/200\n",
            " 88/100 [=========================>....] - ETA: 0s - loss: 0.5277 - accuracy: 0.8218\n",
            "Epoch 19: saving model to model/keypoint_classifier\\keypoint_classifier.hdf5\n",
            "100/100 [==============================] - 0s 2ms/step - loss: 0.5248 - accuracy: 0.8232 - val_loss: 0.2194 - val_accuracy: 0.9619\n",
            "Epoch 20/200\n",
            " 86/100 [========================>.....] - ETA: 0s - loss: 0.5069 - accuracy: 0.8289\n",
            "Epoch 20: saving model to model/keypoint_classifier\\keypoint_classifier.hdf5\n",
            "100/100 [==============================] - 0s 2ms/step - loss: 0.5036 - accuracy: 0.8306 - val_loss: 0.2025 - val_accuracy: 0.9657\n",
            "Epoch 21/200\n",
            " 71/100 [====================>.........] - ETA: 0s - loss: 0.5000 - accuracy: 0.8338\n",
            "Epoch 21: saving model to model/keypoint_classifier\\keypoint_classifier.hdf5\n",
            "100/100 [==============================] - 0s 2ms/step - loss: 0.5076 - accuracy: 0.8298 - val_loss: 0.2009 - val_accuracy: 0.9666\n",
            "Epoch 22/200\n",
            " 89/100 [=========================>....] - ETA: 0s - loss: 0.4907 - accuracy: 0.8330\n",
            "Epoch 22: saving model to model/keypoint_classifier\\keypoint_classifier.hdf5\n",
            "100/100 [==============================] - 0s 2ms/step - loss: 0.4930 - accuracy: 0.8329 - val_loss: 0.1975 - val_accuracy: 0.9707\n",
            "Epoch 23/200\n",
            " 86/100 [========================>.....] - ETA: 0s - loss: 0.4931 - accuracy: 0.8337\n",
            "Epoch 23: saving model to model/keypoint_classifier\\keypoint_classifier.hdf5\n",
            "100/100 [==============================] - 0s 2ms/step - loss: 0.4925 - accuracy: 0.8352 - val_loss: 0.1857 - val_accuracy: 0.9720\n",
            "Epoch 24/200\n",
            " 71/100 [====================>.........] - ETA: 0s - loss: 0.4945 - accuracy: 0.8316\n",
            "Epoch 24: saving model to model/keypoint_classifier\\keypoint_classifier.hdf5\n",
            "100/100 [==============================] - 0s 2ms/step - loss: 0.4833 - accuracy: 0.8364 - val_loss: 0.1810 - val_accuracy: 0.9726\n",
            "Epoch 25/200\n",
            " 76/100 [=====================>........] - ETA: 0s - loss: 0.4641 - accuracy: 0.8428\n",
            "Epoch 25: saving model to model/keypoint_classifier\\keypoint_classifier.hdf5\n",
            "100/100 [==============================] - 0s 2ms/step - loss: 0.4680 - accuracy: 0.8398 - val_loss: 0.1649 - val_accuracy: 0.9780\n",
            "Epoch 26/200\n",
            " 88/100 [=========================>....] - ETA: 0s - loss: 0.4668 - accuracy: 0.8452\n",
            "Epoch 26: saving model to model/keypoint_classifier\\keypoint_classifier.hdf5\n",
            "100/100 [==============================] - 0s 2ms/step - loss: 0.4620 - accuracy: 0.8465 - val_loss: 0.1608 - val_accuracy: 0.9798\n",
            "Epoch 27/200\n",
            " 85/100 [========================>.....] - ETA: 0s - loss: 0.4517 - accuracy: 0.8503\n",
            "Epoch 27: saving model to model/keypoint_classifier\\keypoint_classifier.hdf5\n",
            "100/100 [==============================] - 0s 2ms/step - loss: 0.4526 - accuracy: 0.8500 - val_loss: 0.1642 - val_accuracy: 0.9792\n",
            "Epoch 28/200\n",
            " 86/100 [========================>.....] - ETA: 0s - loss: 0.4512 - accuracy: 0.8497\n",
            "Epoch 28: saving model to model/keypoint_classifier\\keypoint_classifier.hdf5\n",
            "100/100 [==============================] - 0s 2ms/step - loss: 0.4545 - accuracy: 0.8498 - val_loss: 0.1542 - val_accuracy: 0.9795\n",
            "Epoch 29/200\n",
            " 85/100 [========================>.....] - ETA: 0s - loss: 0.4448 - accuracy: 0.8517\n",
            "Epoch 29: saving model to model/keypoint_classifier\\keypoint_classifier.hdf5\n",
            "100/100 [==============================] - 0s 2ms/step - loss: 0.4446 - accuracy: 0.8525 - val_loss: 0.1595 - val_accuracy: 0.9786\n",
            "Epoch 30/200\n",
            " 75/100 [=====================>........] - ETA: 0s - loss: 0.4370 - accuracy: 0.8545\n",
            "Epoch 30: saving model to model/keypoint_classifier\\keypoint_classifier.hdf5\n",
            "100/100 [==============================] - 0s 2ms/step - loss: 0.4367 - accuracy: 0.8537 - val_loss: 0.1503 - val_accuracy: 0.9798\n",
            "Epoch 31/200\n",
            " 86/100 [========================>.....] - ETA: 0s - loss: 0.4375 - accuracy: 0.8509\n",
            "Epoch 31: saving model to model/keypoint_classifier\\keypoint_classifier.hdf5\n",
            "100/100 [==============================] - 0s 2ms/step - loss: 0.4406 - accuracy: 0.8492 - val_loss: 0.1525 - val_accuracy: 0.9808\n",
            "Epoch 32/200\n",
            " 66/100 [==================>...........] - ETA: 0s - loss: 0.4321 - accuracy: 0.8505\n",
            "Epoch 32: saving model to model/keypoint_classifier\\keypoint_classifier.hdf5\n",
            "100/100 [==============================] - 0s 2ms/step - loss: 0.4300 - accuracy: 0.8535 - val_loss: 0.1489 - val_accuracy: 0.9776\n",
            "Epoch 33/200\n",
            " 86/100 [========================>.....] - ETA: 0s - loss: 0.4238 - accuracy: 0.8553\n",
            "Epoch 33: saving model to model/keypoint_classifier\\keypoint_classifier.hdf5\n",
            "100/100 [==============================] - 0s 2ms/step - loss: 0.4268 - accuracy: 0.8543 - val_loss: 0.1412 - val_accuracy: 0.9821\n",
            "Epoch 34/200\n",
            " 74/100 [=====================>........] - ETA: 0s - loss: 0.4260 - accuracy: 0.8558\n",
            "Epoch 34: saving model to model/keypoint_classifier\\keypoint_classifier.hdf5\n",
            "100/100 [==============================] - 0s 2ms/step - loss: 0.4258 - accuracy: 0.8581 - val_loss: 0.1356 - val_accuracy: 0.9833\n",
            "Epoch 35/200\n",
            " 86/100 [========================>.....] - ETA: 0s - loss: 0.4214 - accuracy: 0.8563\n",
            "Epoch 35: saving model to model/keypoint_classifier\\keypoint_classifier.hdf5\n",
            "100/100 [==============================] - 0s 2ms/step - loss: 0.4183 - accuracy: 0.8580 - val_loss: 0.1391 - val_accuracy: 0.9767\n",
            "Epoch 36/200\n",
            " 85/100 [========================>.....] - ETA: 0s - loss: 0.4197 - accuracy: 0.8574\n",
            "Epoch 36: saving model to model/keypoint_classifier\\keypoint_classifier.hdf5\n",
            "100/100 [==============================] - 0s 2ms/step - loss: 0.4194 - accuracy: 0.8561 - val_loss: 0.1350 - val_accuracy: 0.9814\n",
            "Epoch 37/200\n",
            " 86/100 [========================>.....] - ETA: 0s - loss: 0.4258 - accuracy: 0.8595\n",
            "Epoch 37: saving model to model/keypoint_classifier\\keypoint_classifier.hdf5\n",
            "100/100 [==============================] - 0s 2ms/step - loss: 0.4242 - accuracy: 0.8595 - val_loss: 0.1303 - val_accuracy: 0.9836\n",
            "Epoch 38/200\n",
            " 74/100 [=====================>........] - ETA: 0s - loss: 0.4314 - accuracy: 0.8538\n",
            "Epoch 38: saving model to model/keypoint_classifier\\keypoint_classifier.hdf5\n",
            "100/100 [==============================] - 0s 2ms/step - loss: 0.4256 - accuracy: 0.8562 - val_loss: 0.1268 - val_accuracy: 0.9843\n",
            "Epoch 39/200\n",
            " 87/100 [=========================>....] - ETA: 0s - loss: 0.4184 - accuracy: 0.8554\n",
            "Epoch 39: saving model to model/keypoint_classifier\\keypoint_classifier.hdf5\n",
            "100/100 [==============================] - 0s 2ms/step - loss: 0.4161 - accuracy: 0.8572 - val_loss: 0.1365 - val_accuracy: 0.9817\n",
            "Epoch 40/200\n",
            " 75/100 [=====================>........] - ETA: 0s - loss: 0.4044 - accuracy: 0.8669\n",
            "Epoch 40: saving model to model/keypoint_classifier\\keypoint_classifier.hdf5\n",
            "100/100 [==============================] - 0s 2ms/step - loss: 0.4028 - accuracy: 0.8689 - val_loss: 0.1300 - val_accuracy: 0.9789\n",
            "Epoch 41/200\n",
            " 87/100 [=========================>....] - ETA: 0s - loss: 0.4085 - accuracy: 0.8625\n",
            "Epoch 41: saving model to model/keypoint_classifier\\keypoint_classifier.hdf5\n",
            "100/100 [==============================] - 0s 2ms/step - loss: 0.4065 - accuracy: 0.8640 - val_loss: 0.1325 - val_accuracy: 0.9792\n",
            "Epoch 42/200\n",
            " 75/100 [=====================>........] - ETA: 0s - loss: 0.4053 - accuracy: 0.8667\n",
            "Epoch 42: saving model to model/keypoint_classifier\\keypoint_classifier.hdf5\n",
            "100/100 [==============================] - 0s 2ms/step - loss: 0.4046 - accuracy: 0.8659 - val_loss: 0.1255 - val_accuracy: 0.9833\n",
            "Epoch 43/200\n",
            " 77/100 [======================>.......] - ETA: 0s - loss: 0.3951 - accuracy: 0.8673\n",
            "Epoch 43: saving model to model/keypoint_classifier\\keypoint_classifier.hdf5\n",
            "100/100 [==============================] - 0s 2ms/step - loss: 0.3996 - accuracy: 0.8654 - val_loss: 0.1189 - val_accuracy: 0.9836\n",
            "Epoch 44/200\n",
            " 76/100 [=====================>........] - ETA: 0s - loss: 0.4088 - accuracy: 0.8622\n",
            "Epoch 44: saving model to model/keypoint_classifier\\keypoint_classifier.hdf5\n",
            "100/100 [==============================] - 0s 2ms/step - loss: 0.4044 - accuracy: 0.8646 - val_loss: 0.1139 - val_accuracy: 0.9833\n",
            "Epoch 45/200\n",
            " 86/100 [========================>.....] - ETA: 0s - loss: 0.3933 - accuracy: 0.8666\n",
            "Epoch 45: saving model to model/keypoint_classifier\\keypoint_classifier.hdf5\n",
            "100/100 [==============================] - 0s 2ms/step - loss: 0.3965 - accuracy: 0.8651 - val_loss: 0.1108 - val_accuracy: 0.9861\n",
            "Epoch 46/200\n",
            " 88/100 [=========================>....] - ETA: 0s - loss: 0.3864 - accuracy: 0.8704\n",
            "Epoch 46: saving model to model/keypoint_classifier\\keypoint_classifier.hdf5\n",
            "100/100 [==============================] - 0s 2ms/step - loss: 0.3848 - accuracy: 0.8698 - val_loss: 0.1126 - val_accuracy: 0.9839\n",
            "Epoch 47/200\n",
            " 73/100 [====================>.........] - ETA: 0s - loss: 0.3828 - accuracy: 0.8701\n",
            "Epoch 47: saving model to model/keypoint_classifier\\keypoint_classifier.hdf5\n",
            "100/100 [==============================] - 0s 2ms/step - loss: 0.3852 - accuracy: 0.8699 - val_loss: 0.1191 - val_accuracy: 0.9808\n",
            "Epoch 48/200\n",
            " 74/100 [=====================>........] - ETA: 0s - loss: 0.3897 - accuracy: 0.8712\n",
            "Epoch 48: saving model to model/keypoint_classifier\\keypoint_classifier.hdf5\n",
            "100/100 [==============================] - 0s 2ms/step - loss: 0.3856 - accuracy: 0.8707 - val_loss: 0.1182 - val_accuracy: 0.9808\n",
            "Epoch 49/200\n",
            " 92/100 [==========================>...] - ETA: 0s - loss: 0.3934 - accuracy: 0.8674\n",
            "Epoch 49: saving model to model/keypoint_classifier\\keypoint_classifier.hdf5\n",
            "100/100 [==============================] - 0s 2ms/step - loss: 0.3932 - accuracy: 0.8679 - val_loss: 0.1077 - val_accuracy: 0.9843\n",
            "Epoch 50/200\n",
            " 77/100 [======================>.......] - ETA: 0s - loss: 0.3770 - accuracy: 0.8729\n",
            "Epoch 50: saving model to model/keypoint_classifier\\keypoint_classifier.hdf5\n",
            "100/100 [==============================] - 0s 2ms/step - loss: 0.3801 - accuracy: 0.8730 - val_loss: 0.1152 - val_accuracy: 0.9792\n",
            "Epoch 51/200\n",
            " 88/100 [=========================>....] - ETA: 0s - loss: 0.3821 - accuracy: 0.8722\n",
            "Epoch 51: saving model to model/keypoint_classifier\\keypoint_classifier.hdf5\n",
            "100/100 [==============================] - 0s 2ms/step - loss: 0.3799 - accuracy: 0.8730 - val_loss: 0.1104 - val_accuracy: 0.9836\n",
            "Epoch 52/200\n",
            " 80/100 [=======================>......] - ETA: 0s - loss: 0.3667 - accuracy: 0.8815\n",
            "Epoch 52: saving model to model/keypoint_classifier\\keypoint_classifier.hdf5\n",
            "100/100 [==============================] - 0s 2ms/step - loss: 0.3676 - accuracy: 0.8811 - val_loss: 0.1117 - val_accuracy: 0.9821\n",
            "Epoch 53/200\n",
            " 85/100 [========================>.....] - ETA: 0s - loss: 0.3834 - accuracy: 0.8728\n",
            "Epoch 53: saving model to model/keypoint_classifier\\keypoint_classifier.hdf5\n",
            "100/100 [==============================] - 0s 2ms/step - loss: 0.3803 - accuracy: 0.8745 - val_loss: 0.1114 - val_accuracy: 0.9814\n",
            "Epoch 54/200\n",
            " 76/100 [=====================>........] - ETA: 0s - loss: 0.3596 - accuracy: 0.8812\n",
            "Epoch 54: saving model to model/keypoint_classifier\\keypoint_classifier.hdf5\n",
            "100/100 [==============================] - 0s 2ms/step - loss: 0.3578 - accuracy: 0.8814 - val_loss: 0.1071 - val_accuracy: 0.9827\n",
            "Epoch 55/200\n",
            " 74/100 [=====================>........] - ETA: 0s - loss: 0.3691 - accuracy: 0.8781\n",
            "Epoch 55: saving model to model/keypoint_classifier\\keypoint_classifier.hdf5\n",
            "100/100 [==============================] - 0s 2ms/step - loss: 0.3753 - accuracy: 0.8756 - val_loss: 0.1043 - val_accuracy: 0.9849\n",
            "Epoch 56/200\n",
            " 86/100 [========================>.....] - ETA: 0s - loss: 0.3677 - accuracy: 0.8760\n",
            "Epoch 56: saving model to model/keypoint_classifier\\keypoint_classifier.hdf5\n",
            "100/100 [==============================] - 0s 2ms/step - loss: 0.3657 - accuracy: 0.8770 - val_loss: 0.1103 - val_accuracy: 0.9808\n",
            "Epoch 57/200\n",
            " 85/100 [========================>.....] - ETA: 0s - loss: 0.3620 - accuracy: 0.8815\n",
            "Epoch 57: saving model to model/keypoint_classifier\\keypoint_classifier.hdf5\n",
            "100/100 [==============================] - 0s 2ms/step - loss: 0.3671 - accuracy: 0.8799 - val_loss: 0.1061 - val_accuracy: 0.9833\n",
            "Epoch 58/200\n",
            " 87/100 [=========================>....] - ETA: 0s - loss: 0.3620 - accuracy: 0.8820\n",
            "Epoch 58: saving model to model/keypoint_classifier\\keypoint_classifier.hdf5\n",
            "100/100 [==============================] - 0s 2ms/step - loss: 0.3641 - accuracy: 0.8815 - val_loss: 0.1153 - val_accuracy: 0.9789\n",
            "Epoch 59/200\n",
            " 75/100 [=====================>........] - ETA: 0s - loss: 0.3696 - accuracy: 0.8769\n",
            "Epoch 59: saving model to model/keypoint_classifier\\keypoint_classifier.hdf5\n",
            "100/100 [==============================] - 0s 2ms/step - loss: 0.3735 - accuracy: 0.8761 - val_loss: 0.0992 - val_accuracy: 0.9849\n",
            "Epoch 60/200\n",
            " 69/100 [===================>..........] - ETA: 0s - loss: 0.3742 - accuracy: 0.8778\n",
            "Epoch 60: saving model to model/keypoint_classifier\\keypoint_classifier.hdf5\n",
            "100/100 [==============================] - 0s 2ms/step - loss: 0.3725 - accuracy: 0.8779 - val_loss: 0.1091 - val_accuracy: 0.9802\n",
            "Epoch 61/200\n",
            " 77/100 [======================>.......] - ETA: 0s - loss: 0.3729 - accuracy: 0.8800\n",
            "Epoch 61: saving model to model/keypoint_classifier\\keypoint_classifier.hdf5\n",
            "100/100 [==============================] - 0s 2ms/step - loss: 0.3726 - accuracy: 0.8785 - val_loss: 0.1004 - val_accuracy: 0.9843\n",
            "Epoch 62/200\n",
            " 76/100 [=====================>........] - ETA: 0s - loss: 0.3567 - accuracy: 0.8831\n",
            "Epoch 62: saving model to model/keypoint_classifier\\keypoint_classifier.hdf5\n",
            "100/100 [==============================] - 0s 2ms/step - loss: 0.3585 - accuracy: 0.8831 - val_loss: 0.1006 - val_accuracy: 0.9824\n",
            "Epoch 63/200\n",
            " 88/100 [=========================>....] - ETA: 0s - loss: 0.3673 - accuracy: 0.8784\n",
            "Epoch 63: saving model to model/keypoint_classifier\\keypoint_classifier.hdf5\n",
            "100/100 [==============================] - 0s 2ms/step - loss: 0.3693 - accuracy: 0.8791 - val_loss: 0.0982 - val_accuracy: 0.9830\n",
            "Epoch 64/200\n",
            " 74/100 [=====================>........] - ETA: 0s - loss: 0.3573 - accuracy: 0.8823\n",
            "Epoch 64: saving model to model/keypoint_classifier\\keypoint_classifier.hdf5\n",
            "100/100 [==============================] - 0s 2ms/step - loss: 0.3557 - accuracy: 0.8828 - val_loss: 0.1039 - val_accuracy: 0.9786\n",
            "Epoch 65/200\n",
            " 85/100 [========================>.....] - ETA: 0s - loss: 0.3502 - accuracy: 0.8847\n",
            "Epoch 65: saving model to model/keypoint_classifier\\keypoint_classifier.hdf5\n",
            "100/100 [==============================] - 0s 2ms/step - loss: 0.3520 - accuracy: 0.8849 - val_loss: 0.1001 - val_accuracy: 0.9827\n",
            "Epoch 66/200\n",
            "100/100 [==============================] - ETA: 0s - loss: 0.3435 - accuracy: 0.8878\n",
            "Epoch 66: saving model to model/keypoint_classifier\\keypoint_classifier.hdf5\n",
            "100/100 [==============================] - 0s 2ms/step - loss: 0.3435 - accuracy: 0.8878 - val_loss: 0.0976 - val_accuracy: 0.9852\n",
            "Epoch 67/200\n",
            " 76/100 [=====================>........] - ETA: 0s - loss: 0.3577 - accuracy: 0.8823\n",
            "Epoch 67: saving model to model/keypoint_classifier\\keypoint_classifier.hdf5\n",
            "100/100 [==============================] - 0s 2ms/step - loss: 0.3519 - accuracy: 0.8845 - val_loss: 0.0997 - val_accuracy: 0.9849\n",
            "Epoch 68/200\n",
            " 78/100 [======================>.......] - ETA: 0s - loss: 0.3677 - accuracy: 0.8801\n",
            "Epoch 68: saving model to model/keypoint_classifier\\keypoint_classifier.hdf5\n",
            "100/100 [==============================] - 0s 2ms/step - loss: 0.3666 - accuracy: 0.8802 - val_loss: 0.0982 - val_accuracy: 0.9852\n",
            "Epoch 69/200\n",
            " 89/100 [=========================>....] - ETA: 0s - loss: 0.3654 - accuracy: 0.8790\n",
            "Epoch 69: saving model to model/keypoint_classifier\\keypoint_classifier.hdf5\n",
            "100/100 [==============================] - 0s 2ms/step - loss: 0.3621 - accuracy: 0.8801 - val_loss: 0.0977 - val_accuracy: 0.9833\n",
            "Epoch 70/200\n",
            " 86/100 [========================>.....] - ETA: 0s - loss: 0.3553 - accuracy: 0.8844\n",
            "Epoch 70: saving model to model/keypoint_classifier\\keypoint_classifier.hdf5\n",
            "100/100 [==============================] - 0s 2ms/step - loss: 0.3573 - accuracy: 0.8839 - val_loss: 0.1010 - val_accuracy: 0.9814\n",
            "Epoch 71/200\n",
            " 88/100 [=========================>....] - ETA: 0s - loss: 0.3449 - accuracy: 0.8881\n",
            "Epoch 71: saving model to model/keypoint_classifier\\keypoint_classifier.hdf5\n",
            "100/100 [==============================] - 0s 2ms/step - loss: 0.3443 - accuracy: 0.8874 - val_loss: 0.0917 - val_accuracy: 0.9849\n",
            "Epoch 72/200\n",
            " 87/100 [=========================>....] - ETA: 0s - loss: 0.3528 - accuracy: 0.8840\n",
            "Epoch 72: saving model to model/keypoint_classifier\\keypoint_classifier.hdf5\n",
            "100/100 [==============================] - 0s 2ms/step - loss: 0.3521 - accuracy: 0.8839 - val_loss: 0.0947 - val_accuracy: 0.9852\n",
            "Epoch 73/200\n",
            " 85/100 [========================>.....] - ETA: 0s - loss: 0.3492 - accuracy: 0.8834\n",
            "Epoch 73: saving model to model/keypoint_classifier\\keypoint_classifier.hdf5\n",
            "100/100 [==============================] - 0s 2ms/step - loss: 0.3490 - accuracy: 0.8837 - val_loss: 0.0886 - val_accuracy: 0.9849\n",
            "Epoch 74/200\n",
            " 87/100 [=========================>....] - ETA: 0s - loss: 0.3494 - accuracy: 0.8829\n",
            "Epoch 74: saving model to model/keypoint_classifier\\keypoint_classifier.hdf5\n",
            "100/100 [==============================] - 0s 2ms/step - loss: 0.3488 - accuracy: 0.8823 - val_loss: 0.0977 - val_accuracy: 0.9811\n",
            "Epoch 75/200\n",
            " 74/100 [=====================>........] - ETA: 0s - loss: 0.3608 - accuracy: 0.8783\n",
            "Epoch 75: saving model to model/keypoint_classifier\\keypoint_classifier.hdf5\n",
            "100/100 [==============================] - 0s 2ms/step - loss: 0.3632 - accuracy: 0.8791 - val_loss: 0.0994 - val_accuracy: 0.9833\n",
            "Epoch 76/200\n",
            " 79/100 [======================>.......] - ETA: 0s - loss: 0.3479 - accuracy: 0.8879\n",
            "Epoch 76: saving model to model/keypoint_classifier\\keypoint_classifier.hdf5\n",
            "100/100 [==============================] - 0s 2ms/step - loss: 0.3482 - accuracy: 0.8863 - val_loss: 0.0939 - val_accuracy: 0.9833\n",
            "Epoch 77/200\n",
            " 89/100 [=========================>....] - ETA: 0s - loss: 0.3400 - accuracy: 0.8893\n",
            "Epoch 77: saving model to model/keypoint_classifier\\keypoint_classifier.hdf5\n",
            "100/100 [==============================] - 0s 2ms/step - loss: 0.3423 - accuracy: 0.8887 - val_loss: 0.0981 - val_accuracy: 0.9821\n",
            "Epoch 78/200\n",
            " 78/100 [======================>.......] - ETA: 0s - loss: 0.3498 - accuracy: 0.8855\n",
            "Epoch 78: saving model to model/keypoint_classifier\\keypoint_classifier.hdf5\n",
            "100/100 [==============================] - 0s 2ms/step - loss: 0.3508 - accuracy: 0.8854 - val_loss: 0.0861 - val_accuracy: 0.9865\n",
            "Epoch 79/200\n",
            " 92/100 [==========================>...] - ETA: 0s - loss: 0.3452 - accuracy: 0.8876\n",
            "Epoch 79: saving model to model/keypoint_classifier\\keypoint_classifier.hdf5\n",
            "100/100 [==============================] - 0s 2ms/step - loss: 0.3439 - accuracy: 0.8881 - val_loss: 0.0877 - val_accuracy: 0.9861\n",
            "Epoch 80/200\n",
            " 76/100 [=====================>........] - ETA: 0s - loss: 0.3429 - accuracy: 0.8826\n",
            "Epoch 80: saving model to model/keypoint_classifier\\keypoint_classifier.hdf5\n",
            "100/100 [==============================] - 0s 2ms/step - loss: 0.3432 - accuracy: 0.8847 - val_loss: 0.0877 - val_accuracy: 0.9843\n",
            "Epoch 81/200\n",
            " 89/100 [=========================>....] - ETA: 0s - loss: 0.3570 - accuracy: 0.8828\n",
            "Epoch 81: saving model to model/keypoint_classifier\\keypoint_classifier.hdf5\n",
            "100/100 [==============================] - 0s 2ms/step - loss: 0.3544 - accuracy: 0.8839 - val_loss: 0.0898 - val_accuracy: 0.9855\n",
            "Epoch 82/200\n",
            " 86/100 [========================>.....] - ETA: 0s - loss: 0.3449 - accuracy: 0.8864\n",
            "Epoch 82: saving model to model/keypoint_classifier\\keypoint_classifier.hdf5\n",
            "100/100 [==============================] - 0s 2ms/step - loss: 0.3460 - accuracy: 0.8872 - val_loss: 0.0882 - val_accuracy: 0.9852\n",
            "Epoch 83/200\n",
            " 87/100 [=========================>....] - ETA: 0s - loss: 0.3541 - accuracy: 0.8807\n",
            "Epoch 83: saving model to model/keypoint_classifier\\keypoint_classifier.hdf5\n",
            "100/100 [==============================] - 0s 2ms/step - loss: 0.3491 - accuracy: 0.8834 - val_loss: 0.0883 - val_accuracy: 0.9846\n",
            "Epoch 84/200\n",
            " 83/100 [=======================>......] - ETA: 0s - loss: 0.3446 - accuracy: 0.8882\n",
            "Epoch 84: saving model to model/keypoint_classifier\\keypoint_classifier.hdf5\n",
            "100/100 [==============================] - 0s 2ms/step - loss: 0.3451 - accuracy: 0.8867 - val_loss: 0.0846 - val_accuracy: 0.9852\n",
            "Epoch 85/200\n",
            " 87/100 [=========================>....] - ETA: 0s - loss: 0.3375 - accuracy: 0.8880\n",
            "Epoch 85: saving model to model/keypoint_classifier\\keypoint_classifier.hdf5\n",
            "100/100 [==============================] - 0s 2ms/step - loss: 0.3429 - accuracy: 0.8853 - val_loss: 0.0924 - val_accuracy: 0.9839\n",
            "Epoch 86/200\n",
            " 90/100 [==========================>...] - ETA: 0s - loss: 0.3370 - accuracy: 0.8906\n",
            "Epoch 86: saving model to model/keypoint_classifier\\keypoint_classifier.hdf5\n",
            "100/100 [==============================] - 0s 2ms/step - loss: 0.3373 - accuracy: 0.8902 - val_loss: 0.0898 - val_accuracy: 0.9839\n",
            "Epoch 87/200\n",
            " 92/100 [==========================>...] - ETA: 0s - loss: 0.3434 - accuracy: 0.8829\n",
            "Epoch 87: saving model to model/keypoint_classifier\\keypoint_classifier.hdf5\n",
            "100/100 [==============================] - 0s 2ms/step - loss: 0.3431 - accuracy: 0.8832 - val_loss: 0.0905 - val_accuracy: 0.9839\n",
            "Epoch 88/200\n",
            " 86/100 [========================>.....] - ETA: 0s - loss: 0.3338 - accuracy: 0.8935\n",
            "Epoch 88: saving model to model/keypoint_classifier\\keypoint_classifier.hdf5\n",
            "100/100 [==============================] - 0s 2ms/step - loss: 0.3385 - accuracy: 0.8914 - val_loss: 0.0896 - val_accuracy: 0.9846\n",
            "Epoch 89/200\n",
            " 85/100 [========================>.....] - ETA: 0s - loss: 0.3466 - accuracy: 0.8807\n",
            "Epoch 89: saving model to model/keypoint_classifier\\keypoint_classifier.hdf5\n",
            "100/100 [==============================] - 0s 2ms/step - loss: 0.3444 - accuracy: 0.8825 - val_loss: 0.0973 - val_accuracy: 0.9839\n",
            "Epoch 90/200\n",
            " 87/100 [=========================>....] - ETA: 0s - loss: 0.3323 - accuracy: 0.8917\n",
            "Epoch 90: saving model to model/keypoint_classifier\\keypoint_classifier.hdf5\n",
            "100/100 [==============================] - 0s 2ms/step - loss: 0.3314 - accuracy: 0.8913 - val_loss: 0.0858 - val_accuracy: 0.9852\n",
            "Epoch 91/200\n",
            " 86/100 [========================>.....] - ETA: 0s - loss: 0.3428 - accuracy: 0.8871\n",
            "Epoch 91: saving model to model/keypoint_classifier\\keypoint_classifier.hdf5\n",
            "100/100 [==============================] - 0s 2ms/step - loss: 0.3432 - accuracy: 0.8860 - val_loss: 0.0906 - val_accuracy: 0.9858\n",
            "Epoch 92/200\n",
            " 86/100 [========================>.....] - ETA: 0s - loss: 0.3383 - accuracy: 0.8884\n",
            "Epoch 92: saving model to model/keypoint_classifier\\keypoint_classifier.hdf5\n",
            "100/100 [==============================] - 0s 2ms/step - loss: 0.3403 - accuracy: 0.8887 - val_loss: 0.0864 - val_accuracy: 0.9858\n",
            "Epoch 93/200\n",
            " 89/100 [=========================>....] - ETA: 0s - loss: 0.3290 - accuracy: 0.8933\n",
            "Epoch 93: saving model to model/keypoint_classifier\\keypoint_classifier.hdf5\n",
            "100/100 [==============================] - 0s 2ms/step - loss: 0.3269 - accuracy: 0.8941 - val_loss: 0.0874 - val_accuracy: 0.9839\n",
            "Epoch 94/200\n",
            " 80/100 [=======================>......] - ETA: 0s - loss: 0.3351 - accuracy: 0.8906\n",
            "Epoch 94: saving model to model/keypoint_classifier\\keypoint_classifier.hdf5\n",
            "100/100 [==============================] - 0s 2ms/step - loss: 0.3354 - accuracy: 0.8903 - val_loss: 0.0881 - val_accuracy: 0.9836\n",
            "Epoch 95/200\n",
            " 88/100 [=========================>....] - ETA: 0s - loss: 0.3303 - accuracy: 0.8890\n",
            "Epoch 95: saving model to model/keypoint_classifier\\keypoint_classifier.hdf5\n",
            "100/100 [==============================] - 0s 2ms/step - loss: 0.3293 - accuracy: 0.8908 - val_loss: 0.0889 - val_accuracy: 0.9846\n",
            "Epoch 96/200\n",
            " 75/100 [=====================>........] - ETA: 0s - loss: 0.3336 - accuracy: 0.8911\n",
            "Epoch 96: saving model to model/keypoint_classifier\\keypoint_classifier.hdf5\n",
            "100/100 [==============================] - 0s 2ms/step - loss: 0.3323 - accuracy: 0.8910 - val_loss: 0.0837 - val_accuracy: 0.9858\n",
            "Epoch 97/200\n",
            " 88/100 [=========================>....] - ETA: 0s - loss: 0.3313 - accuracy: 0.8894\n",
            "Epoch 97: saving model to model/keypoint_classifier\\keypoint_classifier.hdf5\n",
            "100/100 [==============================] - 0s 2ms/step - loss: 0.3288 - accuracy: 0.8900 - val_loss: 0.0856 - val_accuracy: 0.9861\n",
            "Epoch 98/200\n",
            " 90/100 [==========================>...] - ETA: 0s - loss: 0.3342 - accuracy: 0.8889\n",
            "Epoch 98: saving model to model/keypoint_classifier\\keypoint_classifier.hdf5\n",
            "100/100 [==============================] - 0s 2ms/step - loss: 0.3343 - accuracy: 0.8887 - val_loss: 0.0755 - val_accuracy: 0.9890\n",
            "Epoch 99/200\n",
            " 90/100 [==========================>...] - ETA: 0s - loss: 0.3282 - accuracy: 0.8938\n",
            "Epoch 99: saving model to model/keypoint_classifier\\keypoint_classifier.hdf5\n",
            "100/100 [==============================] - 0s 2ms/step - loss: 0.3262 - accuracy: 0.8943 - val_loss: 0.0913 - val_accuracy: 0.9871\n",
            "Epoch 100/200\n",
            " 89/100 [=========================>....] - ETA: 0s - loss: 0.3278 - accuracy: 0.8922\n",
            "Epoch 100: saving model to model/keypoint_classifier\\keypoint_classifier.hdf5\n",
            "100/100 [==============================] - 0s 2ms/step - loss: 0.3274 - accuracy: 0.8922 - val_loss: 0.0898 - val_accuracy: 0.9843\n",
            "Epoch 101/200\n",
            " 87/100 [=========================>....] - ETA: 0s - loss: 0.3283 - accuracy: 0.8922\n",
            "Epoch 101: saving model to model/keypoint_classifier\\keypoint_classifier.hdf5\n",
            "100/100 [==============================] - 0s 2ms/step - loss: 0.3286 - accuracy: 0.8919 - val_loss: 0.0862 - val_accuracy: 0.9874\n",
            "Epoch 102/200\n",
            " 86/100 [========================>.....] - ETA: 0s - loss: 0.3366 - accuracy: 0.8876\n",
            "Epoch 102: saving model to model/keypoint_classifier\\keypoint_classifier.hdf5\n",
            "100/100 [==============================] - 0s 2ms/step - loss: 0.3328 - accuracy: 0.8890 - val_loss: 0.0865 - val_accuracy: 0.9855\n",
            "Epoch 103/200\n",
            " 85/100 [========================>.....] - ETA: 0s - loss: 0.3157 - accuracy: 0.8935\n",
            "Epoch 103: saving model to model/keypoint_classifier\\keypoint_classifier.hdf5\n",
            "100/100 [==============================] - 0s 2ms/step - loss: 0.3182 - accuracy: 0.8930 - val_loss: 0.0798 - val_accuracy: 0.9874\n",
            "Epoch 104/200\n",
            " 87/100 [=========================>....] - ETA: 0s - loss: 0.3293 - accuracy: 0.8895\n",
            "Epoch 104: saving model to model/keypoint_classifier\\keypoint_classifier.hdf5\n",
            "100/100 [==============================] - 0s 2ms/step - loss: 0.3270 - accuracy: 0.8906 - val_loss: 0.0819 - val_accuracy: 0.9868\n",
            "Epoch 105/200\n",
            " 88/100 [=========================>....] - ETA: 0s - loss: 0.3310 - accuracy: 0.8946\n",
            "Epoch 105: saving model to model/keypoint_classifier\\keypoint_classifier.hdf5\n",
            "100/100 [==============================] - 0s 2ms/step - loss: 0.3279 - accuracy: 0.8951 - val_loss: 0.0794 - val_accuracy: 0.9884\n",
            "Epoch 106/200\n",
            " 87/100 [=========================>....] - ETA: 0s - loss: 0.3330 - accuracy: 0.8932\n",
            "Epoch 106: saving model to model/keypoint_classifier\\keypoint_classifier.hdf5\n",
            "100/100 [==============================] - 0s 2ms/step - loss: 0.3339 - accuracy: 0.8920 - val_loss: 0.0892 - val_accuracy: 0.9858\n",
            "Epoch 107/200\n",
            " 86/100 [========================>.....] - ETA: 0s - loss: 0.3344 - accuracy: 0.8918\n",
            "Epoch 107: saving model to model/keypoint_classifier\\keypoint_classifier.hdf5\n",
            "100/100 [==============================] - 0s 2ms/step - loss: 0.3315 - accuracy: 0.8929 - val_loss: 0.0944 - val_accuracy: 0.9821\n",
            "Epoch 108/200\n",
            " 75/100 [=====================>........] - ETA: 0s - loss: 0.3149 - accuracy: 0.8964\n",
            "Epoch 108: saving model to model/keypoint_classifier\\keypoint_classifier.hdf5\n",
            "100/100 [==============================] - 0s 2ms/step - loss: 0.3206 - accuracy: 0.8945 - val_loss: 0.0885 - val_accuracy: 0.9846\n",
            "Epoch 109/200\n",
            " 89/100 [=========================>....] - ETA: 0s - loss: 0.3209 - accuracy: 0.8967\n",
            "Epoch 109: saving model to model/keypoint_classifier\\keypoint_classifier.hdf5\n",
            "100/100 [==============================] - 0s 2ms/step - loss: 0.3210 - accuracy: 0.8965 - val_loss: 0.0846 - val_accuracy: 0.9858\n",
            "Epoch 110/200\n",
            " 85/100 [========================>.....] - ETA: 0s - loss: 0.3240 - accuracy: 0.8944\n",
            "Epoch 110: saving model to model/keypoint_classifier\\keypoint_classifier.hdf5\n",
            "100/100 [==============================] - 0s 2ms/step - loss: 0.3232 - accuracy: 0.8947 - val_loss: 0.0851 - val_accuracy: 0.9868\n",
            "Epoch 111/200\n",
            " 87/100 [=========================>....] - ETA: 0s - loss: 0.3257 - accuracy: 0.8938\n",
            "Epoch 111: saving model to model/keypoint_classifier\\keypoint_classifier.hdf5\n",
            "100/100 [==============================] - 0s 2ms/step - loss: 0.3256 - accuracy: 0.8938 - val_loss: 0.0894 - val_accuracy: 0.9855\n",
            "Epoch 112/200\n",
            " 87/100 [=========================>....] - ETA: 0s - loss: 0.3223 - accuracy: 0.8925\n",
            "Epoch 112: saving model to model/keypoint_classifier\\keypoint_classifier.hdf5\n",
            "100/100 [==============================] - 0s 2ms/step - loss: 0.3204 - accuracy: 0.8931 - val_loss: 0.0763 - val_accuracy: 0.9880\n",
            "Epoch 113/200\n",
            " 88/100 [=========================>....] - ETA: 0s - loss: 0.3285 - accuracy: 0.8924\n",
            "Epoch 113: saving model to model/keypoint_classifier\\keypoint_classifier.hdf5\n",
            "100/100 [==============================] - 0s 2ms/step - loss: 0.3286 - accuracy: 0.8937 - val_loss: 0.0830 - val_accuracy: 0.9861\n",
            "Epoch 114/200\n",
            " 89/100 [=========================>....] - ETA: 0s - loss: 0.3226 - accuracy: 0.8947\n",
            "Epoch 114: saving model to model/keypoint_classifier\\keypoint_classifier.hdf5\n",
            "100/100 [==============================] - 0s 2ms/step - loss: 0.3194 - accuracy: 0.8965 - val_loss: 0.0766 - val_accuracy: 0.9874\n",
            "Epoch 115/200\n",
            " 85/100 [========================>.....] - ETA: 0s - loss: 0.3209 - accuracy: 0.8965\n",
            "Epoch 115: saving model to model/keypoint_classifier\\keypoint_classifier.hdf5\n",
            "100/100 [==============================] - 0s 2ms/step - loss: 0.3176 - accuracy: 0.8968 - val_loss: 0.0858 - val_accuracy: 0.9843\n",
            "Epoch 116/200\n",
            " 87/100 [=========================>....] - ETA: 0s - loss: 0.3242 - accuracy: 0.8926\n",
            "Epoch 116: saving model to model/keypoint_classifier\\keypoint_classifier.hdf5\n",
            "100/100 [==============================] - 0s 2ms/step - loss: 0.3205 - accuracy: 0.8936 - val_loss: 0.0809 - val_accuracy: 0.9855\n",
            "Epoch 117/200\n",
            " 81/100 [=======================>......] - ETA: 0s - loss: 0.3391 - accuracy: 0.8865\n",
            "Epoch 117: saving model to model/keypoint_classifier\\keypoint_classifier.hdf5\n",
            "100/100 [==============================] - 0s 2ms/step - loss: 0.3361 - accuracy: 0.8876 - val_loss: 0.0854 - val_accuracy: 0.9861\n",
            "Epoch 118/200\n",
            " 89/100 [=========================>....] - ETA: 0s - loss: 0.3353 - accuracy: 0.8892\n",
            "Epoch 118: saving model to model/keypoint_classifier\\keypoint_classifier.hdf5\n",
            "100/100 [==============================] - 0s 2ms/step - loss: 0.3326 - accuracy: 0.8904 - val_loss: 0.0875 - val_accuracy: 0.9839\n",
            "Epoch 118: early stopping\n"
          ]
        },
        {
          "data": {
            "text/plain": [
              "<keras.src.callbacks.History at 0x195ba9bd0c0>"
            ]
          },
          "execution_count": 11,
          "metadata": {},
          "output_type": "execute_result"
        }
      ],
      "source": [
        "model.fit(\n",
        "    X_train,\n",
        "    y_train,\n",
        "    epochs=200,\n",
        "    batch_size=128,\n",
        "    validation_data=(X_test, y_test),\n",
        "    callbacks=[cp_callback, es_callback]\n",
        ")"
      ]
    },
    {
      "cell_type": "code",
      "execution_count": 12,
      "metadata": {
        "colab": {
          "base_uri": "https://localhost:8080/"
        },
        "id": "pxvb2Y299hE3",
        "outputId": "59eb3185-2e37-4b9e-bc9d-ab1b8ac29b7f"
      },
      "outputs": [
        {
          "name": "stdout",
          "output_type": "stream",
          "text": [
            "25/25 [==============================] - 0s 1ms/step - loss: 0.0875 - accuracy: 0.9839\n"
          ]
        }
      ],
      "source": [
        "# Model evaluation\n",
        "val_loss, val_acc = model.evaluate(X_test, y_test, batch_size=128)"
      ]
    },
    {
      "cell_type": "code",
      "execution_count": 13,
      "metadata": {
        "id": "RBkmDeUW9hE4"
      },
      "outputs": [],
      "source": [
        "# Loading the saved model\n",
        "# model = tf.keras.models.load_model(model_save_path)"
      ]
    },
    {
      "cell_type": "code",
      "execution_count": 14,
      "metadata": {
        "colab": {
          "base_uri": "https://localhost:8080/"
        },
        "id": "tFz9Tb0I9hE4",
        "outputId": "1c3b3528-54ae-4ee2-ab04-77429211cbef"
      },
      "outputs": [
        {
          "name": "stdout",
          "output_type": "stream",
          "text": [
            "1/1 [==============================] - 0s 78ms/step\n",
            "[2.4959986e-19 1.8200823e-04 1.5680961e-23 8.4081996e-04 9.9897718e-01\n",
            " 3.6447712e-08 1.8564866e-15 5.8085492e-13 5.1960058e-09]\n",
            "4\n"
          ]
        }
      ],
      "source": [
        "# Inference test\n",
        "predict_result = model.predict(np.array([X_test[0]]))\n",
        "print(np.squeeze(predict_result))\n",
        "print(np.argmax(np.squeeze(predict_result)))"
      ]
    },
    {
      "cell_type": "markdown",
      "metadata": {
        "id": "S3U4yNWx9hE4"
      },
      "source": [
        "# Confusion matrix"
      ]
    },
    {
      "cell_type": "code",
      "execution_count": 15,
      "metadata": {
        "colab": {
          "base_uri": "https://localhost:8080/",
          "height": 582
        },
        "id": "AP1V6SCk9hE5",
        "outputId": "08e41a80-7a4a-4619-8125-ecc371368d19"
      },
      "outputs": [
        {
          "name": "stdout",
          "output_type": "stream",
          "text": [
            "100/100 [==============================] - 0s 996us/step\n"
          ]
        },
        {
          "data": {
            "image/png": "[encoded data removed]",
            "text/plain": [
              "<Figure size 700x600 with 2 Axes>"
            ]
          },
          "metadata": {},
          "output_type": "display_data"
        },
        {
          "name": "stdout",
          "output_type": "stream",
          "text": [
            "Classification Report\n",
            "              precision    recall  f1-score   support\n",
            "\n",
            "           0       1.00      1.00      1.00       364\n",
            "           1       1.00      0.98      0.99       468\n",
            "           2       0.94      1.00      0.97       488\n",
            "           3       1.00      1.00      1.00       350\n",
            "           4       0.99      0.99      0.99       269\n",
            "           5       0.97      1.00      0.99       284\n",
            "           6       0.99      0.96      0.98       342\n",
            "           7       0.99      0.94      0.96       336\n",
            "           8       1.00      0.99      0.99       275\n",
            "\n",
            "    accuracy                           0.98      3176\n",
            "   macro avg       0.99      0.98      0.98      3176\n",
            "weighted avg       0.98      0.98      0.98      3176\n",
            "\n"
          ]
        }
      ],
      "source": [
        "import pandas as pd\n",
        "import seaborn as sns\n",
        "import matplotlib.pyplot as plt\n",
        "from sklearn.metrics import confusion_matrix, classification_report\n",
        "\n",
        "def print_confusion_matrix(y_true, y_pred, report=True):\n",
        "    labels = sorted(list(set(y_true)))\n",
        "    cmx_data = confusion_matrix(y_true, y_pred, labels=labels)\n",
        "    \n",
        "    df_cmx = pd.DataFrame(cmx_data, index=labels, columns=labels)\n",
        " \n",
        "    fig, ax = plt.subplots(figsize=(7, 6))\n",
        "    sns.heatmap(df_cmx, annot=True, fmt='g' ,square=False)\n",
        "    ax.set_ylim(len(set(y_true)), 0)\n",
        "    plt.show()\n",
        "    \n",
        "    if report:\n",
        "        print('Classification Report')\n",
        "        print(classification_report(y_test, y_pred))\n",
        "\n",
        "Y_pred = model.predict(X_test)\n",
        "y_pred = np.argmax(Y_pred, axis=1)\n",
        "\n",
        "print_confusion_matrix(y_test, y_pred)"
      ]
    },
    {
      "cell_type": "markdown",
      "metadata": {
        "id": "FNP6aqzc9hE5"
      },
      "source": [
        "# Convert to model for Tensorflow-Lite"
      ]
    },
    {
      "cell_type": "code",
      "execution_count": 16,
      "metadata": {
        "id": "ODjnYyld9hE6"
      },
      "outputs": [
        {
          "name": "stderr",
          "output_type": "stream",
          "text": [
            "d:\\Projects\\VocalWave\\.venv\\lib\\site-packages\\keras\\src\\engine\\training.py:3103: UserWarning: You are saving your model as an HDF5 file via `model.save()`. This file format is considered legacy. We recommend using instead the native Keras format, e.g. `model.save('my_model.keras')`.\n",
            "  saving_api.save_model(\n"
          ]
        }
      ],
      "source": [
        "# Save as a model dedicated to inference\n",
        "model.save(model_save_path, include_optimizer=False)"
      ]
    },
    {
      "cell_type": "code",
      "execution_count": 17,
      "metadata": {
        "colab": {
          "base_uri": "https://localhost:8080/"
        },
        "id": "zRfuK8Y59hE6",
        "outputId": "a4ca585c-b5d5-4244-8291-8674063209bb"
      },
      "outputs": [
        {
          "name": "stdout",
          "output_type": "stream",
          "text": [
            "INFO:tensorflow:Assets written to: C:\\Users\\kawan\\AppData\\Local\\Temp\\tmpg75jkt8l\\assets\n"
          ]
        },
        {
          "name": "stderr",
          "output_type": "stream",
          "text": [
            "INFO:tensorflow:Assets written to: C:\\Users\\kawan\\AppData\\Local\\Temp\\tmpg75jkt8l\\assets\n"
          ]
        },
        {
          "data": {
            "text/plain": [
              "6764"
            ]
          },
          "execution_count": 17,
          "metadata": {},
          "output_type": "execute_result"
        }
      ],
      "source": [
        "# Transform model (quantization)\n",
        "\n",
        "converter = tf.lite.TFLiteConverter.from_keras_model(model)\n",
        "converter.optimizations = [tf.lite.Optimize.DEFAULT]\n",
        "tflite_quantized_model = converter.convert()\n",
        "\n",
        "open(tflite_save_path, 'wb').write(tflite_quantized_model)"
      ]
    },
    {
      "cell_type": "markdown",
      "metadata": {
        "id": "CHBPBXdx9hE6"
      },
      "source": [
        "# Inference test"
      ]
    },
    {
      "cell_type": "code",
      "execution_count": 18,
      "metadata": {
        "id": "mGAzLocO9hE7"
      },
      "outputs": [],
      "source": [
        "interpreter = tf.lite.Interpreter(model_path=tflite_save_path)\n",
        "interpreter.allocate_tensors()"
      ]
    },
    {
      "cell_type": "code",
      "execution_count": 19,
      "metadata": {
        "id": "oQuDK8YS9hE7"
      },
      "outputs": [],
      "source": [
        "# Get I / O tensor\n",
        "input_details = interpreter.get_input_details()\n",
        "output_details = interpreter.get_output_details()"
      ]
    },
    {
      "cell_type": "code",
      "execution_count": 20,
      "metadata": {
        "id": "2_ixAf_l9hE7"
      },
      "outputs": [],
      "source": [
        "interpreter.set_tensor(input_details[0]['index'], np.array([X_test[0]]))"
      ]
    },
    {
      "cell_type": "code",
      "execution_count": 21,
      "metadata": {
        "colab": {
          "base_uri": "https://localhost:8080/"
        },
        "id": "s4FoAnuc9hE7",
        "outputId": "91f18257-8d8b-4ef3-c558-e9b5f94fabbf",
        "scrolled": true
      },
      "outputs": [
        {
          "name": "stdout",
          "output_type": "stream",
          "text": [
            "CPU times: total: 0 ns\n",
            "Wall time: 0 ns\n"
          ]
        }
      ],
      "source": [
        "%%time\n",
        "# Inference implementation\n",
        "interpreter.invoke()\n",
        "tflite_results = interpreter.get_tensor(output_details[0]['index'])"
      ]
    },
    {
      "cell_type": "code",
      "execution_count": 22,
      "metadata": {
        "colab": {
          "base_uri": "https://localhost:8080/"
        },
        "id": "vONjp19J9hE8",
        "outputId": "77205e24-fd00-42c4-f7b6-e06e527c2cba"
      },
      "outputs": [
        {
          "name": "stdout",
          "output_type": "stream",
          "text": [
            "[2.4960079e-19 1.8200821e-04 1.5680960e-23 8.4082072e-04 9.9897718e-01\n",
            " 3.6447712e-08 1.8564864e-15 5.8085378e-13 5.1960058e-09]\n",
            "4\n"
          ]
        }
      ],
      "source": [
        "print(np.squeeze(tflite_results))\n",
        "print(np.argmax(np.squeeze(tflite_results)))"
      ]
    },
    {
      "cell_type": "code",
      "execution_count": null,
      "metadata": {},
      "outputs": [],
      "source": []
    },
    {
      "cell_type": "code",
      "execution_count": null,
      "metadata": {},
      "outputs": [],
      "source": []
    }
  ],
  "metadata": {
    "accelerator": "GPU",
    "colab": {
      "collapsed_sections": [],
      "name": "keypoint_classification_EN.ipynb",
      "provenance": [],
      "toc_visible": true
    },
    "kernelspec": {
      "display_name": "Python 3",
      "language": "python",
      "name": "python3"
    },
    "language_info": {
      "codemirror_mode": {
        "name": "ipython",
        "version": 3
      },
      "file_extension": ".py",
      "mimetype": "text/x-python",
      "name": "python",
      "nbconvert_exporter": "python",
      "pygments_lexer": "ipython3",
      "version": "3.10.9"
    }
  },
  "nbformat": 4,
  "nbformat_minor": 0
}
