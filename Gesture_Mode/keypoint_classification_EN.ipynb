{
  "cells": [
    {
      "cell_type": "code",
      "execution_count": 145,
      "metadata": {
        "id": "igMyGnjE9hEp"
      },
      "outputs": [],
      "source": [
        "import csv\n",
        "\n",
        "import numpy as np\n",
        "import tensorflow as tf\n",
        "from sklearn.model_selection import train_test_split\n",
        "\n",
        "RANDOM_SEED = 68"
      ]
    },
    {
      "cell_type": "markdown",
      "metadata": {
        "id": "t2HDvhIu9hEr"
      },
      "source": [
        "# Specify each path"
      ]
    },
    {
      "cell_type": "code",
      "execution_count": 146,
      "metadata": {
        "id": "9NvZP2Zn9hEy"
      },
      "outputs": [],
      "source": [
        "dataset = 'model/keypoint_classifier/keypoint.csv'\n",
        "model_save_path = 'model/keypoint_classifier/keypoint_classifier.hdf5'\n",
        "tflite_save_path = 'model/keypoint_classifier/keypoint_classifier.tflite'"
      ]
    },
    {
      "cell_type": "markdown",
      "metadata": {
        "id": "s5oMH7x19hEz"
      },
      "source": [
        "# Set number of classes"
      ]
    },
    {
      "cell_type": "code",
      "execution_count": 147,
      "metadata": {
        "id": "du4kodXL9hEz"
      },
      "outputs": [],
      "source": [
        "NUM_CLASSES = 10"
      ]
    },
    {
      "cell_type": "markdown",
      "metadata": {
        "id": "XjnL0uso9hEz"
      },
      "source": [
        "# Dataset reading"
      ]
    },
    {
      "cell_type": "code",
      "execution_count": 148,
      "metadata": {
        "id": "QT5ZqtEz9hE0"
      },
      "outputs": [],
      "source": [
        "X_dataset = np.loadtxt(dataset, delimiter=',', dtype='float32', usecols=list(range(1, 43)))"
      ]
    },
    {
      "cell_type": "code",
      "execution_count": 149,
      "metadata": {
        "id": "QmoKFsp49hE0"
      },
      "outputs": [],
      "source": [
        "y_dataset = np.loadtxt(dataset, delimiter=',', dtype='int32', usecols=(0))"
      ]
    },
    {
      "cell_type": "code",
      "execution_count": 150,
      "metadata": {
        "id": "xQU7JTZ_9hE0"
      },
      "outputs": [],
      "source": [
        "X_train, X_test, y_train, y_test = train_test_split(X_dataset, y_dataset, train_size=0.8, random_state=RANDOM_SEED)"
      ]
    },
    {
      "cell_type": "markdown",
      "metadata": {
        "id": "mxK_lETT9hE0"
      },
      "source": [
        "# Model building"
      ]
    },
    {
      "cell_type": "code",
      "execution_count": 151,
      "metadata": {
        "id": "vHBmUf1t9hE1"
      },
      "outputs": [],
      "source": [
        "model = tf.keras.models.Sequential([\n",
        "    tf.keras.layers.Input((21 * 2, )),\n",
        "    tf.keras.layers.Dropout(0.2),\n",
        "    tf.keras.layers.Dense(20, activation='relu'),\n",
        "    tf.keras.layers.Dropout(0.4),\n",
        "    tf.keras.layers.Dense(10, activation='relu'),\n",
        "    tf.keras.layers.Dense(NUM_CLASSES, activation='softmax')\n",
        "])"
      ]
    },
    {
      "cell_type": "code",
      "execution_count": 152,
      "metadata": {
        "colab": {
          "base_uri": "https://localhost:8080/"
        },
        "id": "ypqky9tc9hE1",
        "outputId": "5db082bb-30e3-4110-bf63-a1ee777ecd46"
      },
      "outputs": [
        {
          "name": "stdout",
          "output_type": "stream",
          "text": [
            "Model: \"sequential_9\"\n",
            "_________________________________________________________________\n",
            " Layer (type)                Output Shape              Param #   \n",
            "=================================================================\n",
            " dropout_18 (Dropout)        (None, 42)                0         \n",
            "                                                                 \n",
            " dense_27 (Dense)            (None, 20)                860       \n",
            "                                                                 \n",
            " dropout_19 (Dropout)        (None, 20)                0         \n",
            "                                                                 \n",
            " dense_28 (Dense)            (None, 10)                210       \n",
            "                                                                 \n",
            " dense_29 (Dense)            (None, 10)                110       \n",
            "                                                                 \n",
            "=================================================================\n",
            "Total params: 1180 (4.61 KB)\n",
            "Trainable params: 1180 (4.61 KB)\n",
            "Non-trainable params: 0 (0.00 Byte)\n",
            "_________________________________________________________________\n"
          ]
        }
      ],
      "source": [
        "model.summary()  # tf.keras.utils.plot_model(model, show_shapes=True)"
      ]
    },
    {
      "cell_type": "code",
      "execution_count": 153,
      "metadata": {
        "id": "MbMjOflQ9hE1"
      },
      "outputs": [],
      "source": [
        "# Model checkpoint callback\n",
        "cp_callback = tf.keras.callbacks.ModelCheckpoint(model_save_path, verbose=1, save_weights_only=False)\n",
        "# Callback for early stopping\n",
        "es_callback = tf.keras.callbacks.EarlyStopping(patience=20, verbose=1)"
      ]
    },
    {
      "cell_type": "code",
      "execution_count": 154,
      "metadata": {
        "id": "c3Dac0M_9hE2"
      },
      "outputs": [],
      "source": [
        "# Model compilation\n",
        "model.compile(\n",
        "    optimizer='adam',\n",
        "    loss='sparse_categorical_crossentropy',\n",
        "    metrics=['accuracy']\n",
        ")"
      ]
    },
    {
      "cell_type": "markdown",
      "metadata": {
        "id": "7XI0j1Iu9hE2"
      },
      "source": [
        "# Model training"
      ]
    },
    {
      "cell_type": "code",
      "execution_count": 155,
      "metadata": {
        "colab": {
          "base_uri": "https://localhost:8080/"
        },
        "id": "WirBl-JE9hE3",
        "outputId": "71b30ca2-8294-4d9d-8aa2-800d90d399de",
        "scrolled": true
      },
      "outputs": [
        {
          "name": "stdout",
          "output_type": "stream",
          "text": [
            "Epoch 1/200\n",
            "129/139 [==========================>...] - ETA: 0s - loss: 2.0874 - accuracy: 0.2230\n",
            "Epoch 1: saving model to model/keypoint_classifier\\keypoint_classifier.hdf5\n",
            "139/139 [==============================] - 2s 8ms/step - loss: 2.0687 - accuracy: 0.2325 - val_loss: 1.6369 - val_accuracy: 0.5242\n",
            "Epoch 2/200\n",
            " 10/139 [=>............................] - ETA: 0s - loss: 1.6990 - accuracy: 0.4000"
          ]
        },
        {
          "name": "stderr",
          "output_type": "stream",
          "text": [
            "c:\\Users\\Admin\\Desktop\\Major Project\\Final Project\\VocalWave\\.venv\\lib\\site-packages\\keras\\src\\engine\\training.py:3103: UserWarning: You are saving your model as an HDF5 file via `model.save()`. This file format is considered legacy. We recommend using instead the native Keras format, e.g. `model.save('my_model.keras')`.\n",
            "  saving_api.save_model(\n"
          ]
        },
        {
          "name": "stdout",
          "output_type": "stream",
          "text": [
            "129/139 [==========================>...] - ETA: 0s - loss: 1.4981 - accuracy: 0.4519\n",
            "Epoch 2: saving model to model/keypoint_classifier\\keypoint_classifier.hdf5\n",
            "139/139 [==============================] - 1s 8ms/step - loss: 1.4836 - accuracy: 0.4567 - val_loss: 1.0889 - val_accuracy: 0.6577\n",
            "Epoch 3/200\n",
            "133/139 [===========================>..] - ETA: 0s - loss: 1.1952 - accuracy: 0.5540\n",
            "Epoch 3: saving model to model/keypoint_classifier\\keypoint_classifier.hdf5\n",
            "139/139 [==============================] - 1s 6ms/step - loss: 1.1922 - accuracy: 0.5562 - val_loss: 0.8653 - val_accuracy: 0.7890\n",
            "Epoch 4/200\n",
            "133/139 [===========================>..] - ETA: 0s - loss: 1.0677 - accuracy: 0.5987\n",
            "Epoch 4: saving model to model/keypoint_classifier\\keypoint_classifier.hdf5\n",
            "139/139 [==============================] - 1s 6ms/step - loss: 1.0671 - accuracy: 0.5986 - val_loss: 0.7321 - val_accuracy: 0.8333\n",
            "Epoch 5/200\n",
            "135/139 [============================>.] - ETA: 0s - loss: 0.9771 - accuracy: 0.6367\n",
            "Epoch 5: saving model to model/keypoint_classifier\\keypoint_classifier.hdf5\n",
            "139/139 [==============================] - 1s 7ms/step - loss: 0.9775 - accuracy: 0.6360 - val_loss: 0.6486 - val_accuracy: 0.8409\n",
            "Epoch 6/200\n",
            "134/139 [===========================>..] - ETA: 0s - loss: 0.9197 - accuracy: 0.6522\n",
            "Epoch 6: saving model to model/keypoint_classifier\\keypoint_classifier.hdf5\n",
            "139/139 [==============================] - 1s 9ms/step - loss: 0.9185 - accuracy: 0.6523 - val_loss: 0.5836 - val_accuracy: 0.8757\n",
            "Epoch 7/200\n",
            "130/139 [===========================>..] - ETA: 0s - loss: 0.8653 - accuracy: 0.6769\n",
            "Epoch 7: saving model to model/keypoint_classifier\\keypoint_classifier.hdf5\n",
            "139/139 [==============================] - 1s 7ms/step - loss: 0.8662 - accuracy: 0.6766 - val_loss: 0.5369 - val_accuracy: 0.8823\n",
            "Epoch 8/200\n",
            "127/139 [==========================>...] - ETA: 0s - loss: 0.8268 - accuracy: 0.6872\n",
            "Epoch 8: saving model to model/keypoint_classifier\\keypoint_classifier.hdf5\n",
            "139/139 [==============================] - 1s 7ms/step - loss: 0.8273 - accuracy: 0.6888 - val_loss: 0.4935 - val_accuracy: 0.9013\n",
            "Epoch 9/200\n",
            "134/139 [===========================>..] - ETA: 0s - loss: 0.8129 - accuracy: 0.6878\n",
            "Epoch 9: saving model to model/keypoint_classifier\\keypoint_classifier.hdf5\n",
            "139/139 [==============================] - 1s 6ms/step - loss: 0.8112 - accuracy: 0.6886 - val_loss: 0.4754 - val_accuracy: 0.8866\n",
            "Epoch 10/200\n",
            "133/139 [===========================>..] - ETA: 0s - loss: 0.7758 - accuracy: 0.7044\n",
            "Epoch 10: saving model to model/keypoint_classifier\\keypoint_classifier.hdf5\n",
            "139/139 [==============================] - 1s 6ms/step - loss: 0.7749 - accuracy: 0.7047 - val_loss: 0.4405 - val_accuracy: 0.9112\n",
            "Epoch 11/200\n",
            "134/139 [===========================>..] - ETA: 0s - loss: 0.7477 - accuracy: 0.7159\n",
            "Epoch 11: saving model to model/keypoint_classifier\\keypoint_classifier.hdf5\n",
            "139/139 [==============================] - 1s 7ms/step - loss: 0.7481 - accuracy: 0.7164 - val_loss: 0.4111 - val_accuracy: 0.9189\n",
            "Epoch 12/200\n",
            "137/139 [============================>.] - ETA: 0s - loss: 0.7359 - accuracy: 0.7210\n",
            "Epoch 12: saving model to model/keypoint_classifier\\keypoint_classifier.hdf5\n",
            "139/139 [==============================] - 1s 7ms/step - loss: 0.7355 - accuracy: 0.7210 - val_loss: 0.3866 - val_accuracy: 0.9198\n",
            "Epoch 13/200\n",
            "138/139 [============================>.] - ETA: 0s - loss: 0.7100 - accuracy: 0.7320\n",
            "Epoch 13: saving model to model/keypoint_classifier\\keypoint_classifier.hdf5\n",
            "139/139 [==============================] - 1s 6ms/step - loss: 0.7099 - accuracy: 0.7318 - val_loss: 0.3683 - val_accuracy: 0.9101\n",
            "Epoch 14/200\n",
            "135/139 [============================>.] - ETA: 0s - loss: 0.7021 - accuracy: 0.7343\n",
            "Epoch 14: saving model to model/keypoint_classifier\\keypoint_classifier.hdf5\n",
            "139/139 [==============================] - 1s 9ms/step - loss: 0.7021 - accuracy: 0.7345 - val_loss: 0.3559 - val_accuracy: 0.9284\n",
            "Epoch 15/200\n",
            "139/139 [==============================] - ETA: 0s - loss: 0.6898 - accuracy: 0.7423\n",
            "Epoch 15: saving model to model/keypoint_classifier\\keypoint_classifier.hdf5\n",
            "139/139 [==============================] - 1s 7ms/step - loss: 0.6898 - accuracy: 0.7423 - val_loss: 0.3440 - val_accuracy: 0.9306\n",
            "Epoch 16/200\n",
            "136/139 [============================>.] - ETA: 0s - loss: 0.6753 - accuracy: 0.7453\n",
            "Epoch 16: saving model to model/keypoint_classifier\\keypoint_classifier.hdf5\n",
            "139/139 [==============================] - 1s 9ms/step - loss: 0.6757 - accuracy: 0.7454 - val_loss: 0.3248 - val_accuracy: 0.9394\n",
            "Epoch 17/200\n",
            "134/139 [===========================>..] - ETA: 0s - loss: 0.6511 - accuracy: 0.7530\n",
            "Epoch 17: saving model to model/keypoint_classifier\\keypoint_classifier.hdf5\n",
            "139/139 [==============================] - 1s 8ms/step - loss: 0.6503 - accuracy: 0.7537 - val_loss: 0.3099 - val_accuracy: 0.9417\n",
            "Epoch 18/200\n",
            "139/139 [==============================] - ETA: 0s - loss: 0.6445 - accuracy: 0.7640\n",
            "Epoch 18: saving model to model/keypoint_classifier\\keypoint_classifier.hdf5\n",
            "139/139 [==============================] - 1s 10ms/step - loss: 0.6445 - accuracy: 0.7640 - val_loss: 0.2925 - val_accuracy: 0.9451\n",
            "Epoch 19/200\n",
            "126/139 [==========================>...] - ETA: 0s - loss: 0.6512 - accuracy: 0.7521\n",
            "Epoch 19: saving model to model/keypoint_classifier\\keypoint_classifier.hdf5\n",
            "139/139 [==============================] - 1s 8ms/step - loss: 0.6520 - accuracy: 0.7520 - val_loss: 0.2991 - val_accuracy: 0.9453\n",
            "Epoch 20/200\n",
            "139/139 [==============================] - ETA: 0s - loss: 0.6335 - accuracy: 0.7660\n",
            "Epoch 20: saving model to model/keypoint_classifier\\keypoint_classifier.hdf5\n",
            "139/139 [==============================] - 1s 10ms/step - loss: 0.6335 - accuracy: 0.7660 - val_loss: 0.2828 - val_accuracy: 0.9516\n",
            "Epoch 21/200\n",
            "138/139 [============================>.] - ETA: 0s - loss: 0.6238 - accuracy: 0.7686\n",
            "Epoch 21: saving model to model/keypoint_classifier\\keypoint_classifier.hdf5\n",
            "139/139 [==============================] - 1s 9ms/step - loss: 0.6237 - accuracy: 0.7686 - val_loss: 0.2829 - val_accuracy: 0.9449\n",
            "Epoch 22/200\n",
            "133/139 [===========================>..] - ETA: 0s - loss: 0.6077 - accuracy: 0.7743\n",
            "Epoch 22: saving model to model/keypoint_classifier\\keypoint_classifier.hdf5\n",
            "139/139 [==============================] - 1s 9ms/step - loss: 0.6087 - accuracy: 0.7742 - val_loss: 0.2699 - val_accuracy: 0.9480\n",
            "Epoch 23/200\n",
            "134/139 [===========================>..] - ETA: 0s - loss: 0.6095 - accuracy: 0.7684\n",
            "Epoch 23: saving model to model/keypoint_classifier\\keypoint_classifier.hdf5\n",
            "139/139 [==============================] - 1s 9ms/step - loss: 0.6103 - accuracy: 0.7680 - val_loss: 0.2698 - val_accuracy: 0.9379\n",
            "Epoch 24/200\n",
            "136/139 [============================>.] - ETA: 0s - loss: 0.5928 - accuracy: 0.7787\n",
            "Epoch 24: saving model to model/keypoint_classifier\\keypoint_classifier.hdf5\n",
            "139/139 [==============================] - 1s 9ms/step - loss: 0.5924 - accuracy: 0.7788 - val_loss: 0.2600 - val_accuracy: 0.9415\n",
            "Epoch 25/200\n",
            "134/139 [===========================>..] - ETA: 0s - loss: 0.5976 - accuracy: 0.7803\n",
            "Epoch 25: saving model to model/keypoint_classifier\\keypoint_classifier.hdf5\n",
            "139/139 [==============================] - 1s 9ms/step - loss: 0.5968 - accuracy: 0.7808 - val_loss: 0.2666 - val_accuracy: 0.9419\n",
            "Epoch 26/200\n",
            "135/139 [============================>.] - ETA: 0s - loss: 0.5898 - accuracy: 0.7802\n",
            "Epoch 26: saving model to model/keypoint_classifier\\keypoint_classifier.hdf5\n",
            "139/139 [==============================] - 1s 10ms/step - loss: 0.5892 - accuracy: 0.7805 - val_loss: 0.2528 - val_accuracy: 0.9553\n",
            "Epoch 27/200\n",
            "136/139 [============================>.] - ETA: 0s - loss: 0.5868 - accuracy: 0.7777\n",
            "Epoch 27: saving model to model/keypoint_classifier\\keypoint_classifier.hdf5\n",
            "139/139 [==============================] - 1s 8ms/step - loss: 0.5865 - accuracy: 0.7777 - val_loss: 0.2597 - val_accuracy: 0.9437\n",
            "Epoch 28/200\n",
            "137/139 [============================>.] - ETA: 0s - loss: 0.5794 - accuracy: 0.7845\n",
            "Epoch 28: saving model to model/keypoint_classifier\\keypoint_classifier.hdf5\n",
            "139/139 [==============================] - 1s 7ms/step - loss: 0.5785 - accuracy: 0.7848 - val_loss: 0.2571 - val_accuracy: 0.9462\n",
            "Epoch 29/200\n",
            "134/139 [===========================>..] - ETA: 0s - loss: 0.5586 - accuracy: 0.7902\n",
            "Epoch 29: saving model to model/keypoint_classifier\\keypoint_classifier.hdf5\n",
            "139/139 [==============================] - 1s 9ms/step - loss: 0.5585 - accuracy: 0.7903 - val_loss: 0.2340 - val_accuracy: 0.9577\n",
            "Epoch 30/200\n",
            "132/139 [===========================>..] - ETA: 0s - loss: 0.5683 - accuracy: 0.7852\n",
            "Epoch 30: saving model to model/keypoint_classifier\\keypoint_classifier.hdf5\n",
            "139/139 [==============================] - 1s 9ms/step - loss: 0.5656 - accuracy: 0.7862 - val_loss: 0.2368 - val_accuracy: 0.9505\n",
            "Epoch 31/200\n",
            "138/139 [============================>.] - ETA: 0s - loss: 0.5402 - accuracy: 0.7982\n",
            "Epoch 31: saving model to model/keypoint_classifier\\keypoint_classifier.hdf5\n",
            "139/139 [==============================] - 1s 9ms/step - loss: 0.5406 - accuracy: 0.7979 - val_loss: 0.2285 - val_accuracy: 0.9557\n",
            "Epoch 32/200\n",
            "134/139 [===========================>..] - ETA: 0s - loss: 0.5531 - accuracy: 0.7962\n",
            "Epoch 32: saving model to model/keypoint_classifier\\keypoint_classifier.hdf5\n",
            "139/139 [==============================] - 1s 8ms/step - loss: 0.5551 - accuracy: 0.7955 - val_loss: 0.2354 - val_accuracy: 0.9528\n",
            "Epoch 33/200\n",
            "136/139 [============================>.] - ETA: 0s - loss: 0.5722 - accuracy: 0.7892\n",
            "Epoch 33: saving model to model/keypoint_classifier\\keypoint_classifier.hdf5\n",
            "139/139 [==============================] - 1s 9ms/step - loss: 0.5712 - accuracy: 0.7892 - val_loss: 0.2280 - val_accuracy: 0.9591\n",
            "Epoch 34/200\n",
            "139/139 [==============================] - ETA: 0s - loss: 0.5389 - accuracy: 0.7987\n",
            "Epoch 34: saving model to model/keypoint_classifier\\keypoint_classifier.hdf5\n",
            "139/139 [==============================] - 1s 9ms/step - loss: 0.5389 - accuracy: 0.7987 - val_loss: 0.2320 - val_accuracy: 0.9528\n",
            "Epoch 35/200\n",
            "137/139 [============================>.] - ETA: 0s - loss: 0.5402 - accuracy: 0.8006\n",
            "Epoch 35: saving model to model/keypoint_classifier\\keypoint_classifier.hdf5\n",
            "139/139 [==============================] - 1s 7ms/step - loss: 0.5400 - accuracy: 0.8007 - val_loss: 0.2167 - val_accuracy: 0.9577\n",
            "Epoch 36/200\n",
            "137/139 [============================>.] - ETA: 0s - loss: 0.5452 - accuracy: 0.7958\n",
            "Epoch 36: saving model to model/keypoint_classifier\\keypoint_classifier.hdf5\n",
            "139/139 [==============================] - 1s 9ms/step - loss: 0.5451 - accuracy: 0.7959 - val_loss: 0.2079 - val_accuracy: 0.9638\n",
            "Epoch 37/200\n",
            "139/139 [==============================] - ETA: 0s - loss: 0.5339 - accuracy: 0.7985\n",
            "Epoch 37: saving model to model/keypoint_classifier\\keypoint_classifier.hdf5\n",
            "139/139 [==============================] - 1s 6ms/step - loss: 0.5339 - accuracy: 0.7985 - val_loss: 0.2150 - val_accuracy: 0.9614\n",
            "Epoch 38/200\n",
            "137/139 [============================>.] - ETA: 0s - loss: 0.5401 - accuracy: 0.7954\n",
            "Epoch 38: saving model to model/keypoint_classifier\\keypoint_classifier.hdf5\n",
            "139/139 [==============================] - 1s 10ms/step - loss: 0.5394 - accuracy: 0.7956 - val_loss: 0.2237 - val_accuracy: 0.9519\n",
            "Epoch 39/200\n",
            "136/139 [============================>.] - ETA: 0s - loss: 0.5309 - accuracy: 0.7989\n",
            "Epoch 39: saving model to model/keypoint_classifier\\keypoint_classifier.hdf5\n",
            "139/139 [==============================] - 1s 9ms/step - loss: 0.5323 - accuracy: 0.7986 - val_loss: 0.2242 - val_accuracy: 0.9465\n",
            "Epoch 40/200\n",
            "138/139 [============================>.] - ETA: 0s - loss: 0.5340 - accuracy: 0.8037\n",
            "Epoch 40: saving model to model/keypoint_classifier\\keypoint_classifier.hdf5\n",
            "139/139 [==============================] - 1s 10ms/step - loss: 0.5339 - accuracy: 0.8035 - val_loss: 0.2043 - val_accuracy: 0.9609\n",
            "Epoch 41/200\n",
            "137/139 [============================>.] - ETA: 0s - loss: 0.5323 - accuracy: 0.7994\n",
            "Epoch 41: saving model to model/keypoint_classifier\\keypoint_classifier.hdf5\n",
            "139/139 [==============================] - 1s 7ms/step - loss: 0.5327 - accuracy: 0.7998 - val_loss: 0.2301 - val_accuracy: 0.9428\n",
            "Epoch 42/200\n",
            "134/139 [===========================>..] - ETA: 0s - loss: 0.5224 - accuracy: 0.8071\n",
            "Epoch 42: saving model to model/keypoint_classifier\\keypoint_classifier.hdf5\n",
            "139/139 [==============================] - 1s 9ms/step - loss: 0.5231 - accuracy: 0.8066 - val_loss: 0.2181 - val_accuracy: 0.9476\n",
            "Epoch 43/200\n",
            "137/139 [============================>.] - ETA: 0s - loss: 0.5237 - accuracy: 0.8076\n",
            "Epoch 43: saving model to model/keypoint_classifier\\keypoint_classifier.hdf5\n",
            "139/139 [==============================] - 1s 9ms/step - loss: 0.5238 - accuracy: 0.8075 - val_loss: 0.2243 - val_accuracy: 0.9516\n",
            "Epoch 44/200\n",
            "133/139 [===========================>..] - ETA: 0s - loss: 0.5215 - accuracy: 0.8064\n",
            "Epoch 44: saving model to model/keypoint_classifier\\keypoint_classifier.hdf5\n",
            "139/139 [==============================] - 1s 9ms/step - loss: 0.5223 - accuracy: 0.8055 - val_loss: 0.2048 - val_accuracy: 0.9562\n",
            "Epoch 45/200\n",
            "133/139 [===========================>..] - ETA: 0s - loss: 0.5299 - accuracy: 0.8043\n",
            "Epoch 45: saving model to model/keypoint_classifier\\keypoint_classifier.hdf5\n",
            "139/139 [==============================] - 1s 6ms/step - loss: 0.5301 - accuracy: 0.8047 - val_loss: 0.2033 - val_accuracy: 0.9575\n",
            "Epoch 46/200\n",
            "134/139 [===========================>..] - ETA: 0s - loss: 0.5194 - accuracy: 0.8096\n",
            "Epoch 46: saving model to model/keypoint_classifier\\keypoint_classifier.hdf5\n",
            "139/139 [==============================] - 1s 7ms/step - loss: 0.5214 - accuracy: 0.8090 - val_loss: 0.2134 - val_accuracy: 0.9530\n",
            "Epoch 47/200\n",
            "133/139 [===========================>..] - ETA: 0s - loss: 0.5180 - accuracy: 0.8110\n",
            "Epoch 47: saving model to model/keypoint_classifier\\keypoint_classifier.hdf5\n",
            "139/139 [==============================] - 1s 8ms/step - loss: 0.5191 - accuracy: 0.8105 - val_loss: 0.1928 - val_accuracy: 0.9627\n",
            "Epoch 48/200\n",
            "137/139 [============================>.] - ETA: 0s - loss: 0.5206 - accuracy: 0.8065\n",
            "Epoch 48: saving model to model/keypoint_classifier\\keypoint_classifier.hdf5\n",
            "139/139 [==============================] - 1s 9ms/step - loss: 0.5207 - accuracy: 0.8063 - val_loss: 0.1952 - val_accuracy: 0.9623\n",
            "Epoch 49/200\n",
            "135/139 [============================>.] - ETA: 0s - loss: 0.5184 - accuracy: 0.8078\n",
            "Epoch 49: saving model to model/keypoint_classifier\\keypoint_classifier.hdf5\n",
            "139/139 [==============================] - 1s 9ms/step - loss: 0.5191 - accuracy: 0.8077 - val_loss: 0.1997 - val_accuracy: 0.9636\n",
            "Epoch 50/200\n",
            "137/139 [============================>.] - ETA: 0s - loss: 0.5213 - accuracy: 0.8083\n",
            "Epoch 50: saving model to model/keypoint_classifier\\keypoint_classifier.hdf5\n",
            "139/139 [==============================] - 1s 9ms/step - loss: 0.5205 - accuracy: 0.8088 - val_loss: 0.1853 - val_accuracy: 0.9727\n",
            "Epoch 51/200\n",
            "134/139 [===========================>..] - ETA: 0s - loss: 0.5180 - accuracy: 0.8092\n",
            "Epoch 51: saving model to model/keypoint_classifier\\keypoint_classifier.hdf5\n",
            "139/139 [==============================] - 1s 8ms/step - loss: 0.5145 - accuracy: 0.8110 - val_loss: 0.1976 - val_accuracy: 0.9550\n",
            "Epoch 52/200\n",
            "137/139 [============================>.] - ETA: 0s - loss: 0.5063 - accuracy: 0.8140\n",
            "Epoch 52: saving model to model/keypoint_classifier\\keypoint_classifier.hdf5\n",
            "139/139 [==============================] - 1s 10ms/step - loss: 0.5063 - accuracy: 0.8138 - val_loss: 0.1974 - val_accuracy: 0.9598\n",
            "Epoch 53/200\n",
            "135/139 [============================>.] - ETA: 0s - loss: 0.5062 - accuracy: 0.8116\n",
            "Epoch 53: saving model to model/keypoint_classifier\\keypoint_classifier.hdf5\n",
            "139/139 [==============================] - 1s 9ms/step - loss: 0.5074 - accuracy: 0.8112 - val_loss: 0.1941 - val_accuracy: 0.9523\n",
            "Epoch 54/200\n",
            "132/139 [===========================>..] - ETA: 0s - loss: 0.5098 - accuracy: 0.8110\n",
            "Epoch 54: saving model to model/keypoint_classifier\\keypoint_classifier.hdf5\n",
            "139/139 [==============================] - 1s 9ms/step - loss: 0.5086 - accuracy: 0.8116 - val_loss: 0.1907 - val_accuracy: 0.9596\n",
            "Epoch 55/200\n",
            "137/139 [============================>.] - ETA: 0s - loss: 0.4993 - accuracy: 0.8156\n",
            "Epoch 55: saving model to model/keypoint_classifier\\keypoint_classifier.hdf5\n",
            "139/139 [==============================] - 1s 7ms/step - loss: 0.5011 - accuracy: 0.8147 - val_loss: 0.1895 - val_accuracy: 0.9654\n",
            "Epoch 56/200\n",
            "133/139 [===========================>..] - ETA: 0s - loss: 0.5015 - accuracy: 0.8151\n",
            "Epoch 56: saving model to model/keypoint_classifier\\keypoint_classifier.hdf5\n",
            "139/139 [==============================] - 1s 9ms/step - loss: 0.5025 - accuracy: 0.8151 - val_loss: 0.1931 - val_accuracy: 0.9625\n",
            "Epoch 57/200\n",
            "132/139 [===========================>..] - ETA: 0s - loss: 0.5016 - accuracy: 0.8162\n",
            "Epoch 57: saving model to model/keypoint_classifier\\keypoint_classifier.hdf5\n",
            "139/139 [==============================] - 1s 6ms/step - loss: 0.5026 - accuracy: 0.8156 - val_loss: 0.1857 - val_accuracy: 0.9690\n",
            "Epoch 58/200\n",
            "136/139 [============================>.] - ETA: 0s - loss: 0.4952 - accuracy: 0.8162\n",
            "Epoch 58: saving model to model/keypoint_classifier\\keypoint_classifier.hdf5\n",
            "139/139 [==============================] - 1s 6ms/step - loss: 0.4946 - accuracy: 0.8162 - val_loss: 0.1779 - val_accuracy: 0.9704\n",
            "Epoch 59/200\n",
            "132/139 [===========================>..] - ETA: 0s - loss: 0.4999 - accuracy: 0.8161\n",
            "Epoch 59: saving model to model/keypoint_classifier\\keypoint_classifier.hdf5\n",
            "139/139 [==============================] - 1s 6ms/step - loss: 0.4986 - accuracy: 0.8167 - val_loss: 0.1842 - val_accuracy: 0.9632\n",
            "Epoch 60/200\n",
            "131/139 [===========================>..] - ETA: 0s - loss: 0.5031 - accuracy: 0.8134\n",
            "Epoch 60: saving model to model/keypoint_classifier\\keypoint_classifier.hdf5\n",
            "139/139 [==============================] - 1s 6ms/step - loss: 0.5052 - accuracy: 0.8127 - val_loss: 0.1860 - val_accuracy: 0.9686\n",
            "Epoch 61/200\n",
            "139/139 [==============================] - ETA: 0s - loss: 0.4910 - accuracy: 0.8238\n",
            "Epoch 61: saving model to model/keypoint_classifier\\keypoint_classifier.hdf5\n",
            "139/139 [==============================] - 1s 9ms/step - loss: 0.4910 - accuracy: 0.8238 - val_loss: 0.1864 - val_accuracy: 0.9666\n",
            "Epoch 62/200\n",
            "135/139 [============================>.] - ETA: 0s - loss: 0.4853 - accuracy: 0.8225\n",
            "Epoch 62: saving model to model/keypoint_classifier\\keypoint_classifier.hdf5\n",
            "139/139 [==============================] - 1s 9ms/step - loss: 0.4845 - accuracy: 0.8228 - val_loss: 0.1740 - val_accuracy: 0.9690\n",
            "Epoch 63/200\n",
            "139/139 [==============================] - ETA: 0s - loss: 0.4954 - accuracy: 0.8160\n",
            "Epoch 63: saving model to model/keypoint_classifier\\keypoint_classifier.hdf5\n",
            "139/139 [==============================] - 1s 9ms/step - loss: 0.4954 - accuracy: 0.8160 - val_loss: 0.1813 - val_accuracy: 0.9702\n",
            "Epoch 64/200\n",
            "137/139 [============================>.] - ETA: 0s - loss: 0.4923 - accuracy: 0.8197\n",
            "Epoch 64: saving model to model/keypoint_classifier\\keypoint_classifier.hdf5\n",
            "139/139 [==============================] - 1s 9ms/step - loss: 0.4921 - accuracy: 0.8197 - val_loss: 0.1765 - val_accuracy: 0.9693\n",
            "Epoch 65/200\n",
            "136/139 [============================>.] - ETA: 0s - loss: 0.4881 - accuracy: 0.8181\n",
            "Epoch 65: saving model to model/keypoint_classifier\\keypoint_classifier.hdf5\n",
            "139/139 [==============================] - 1s 8ms/step - loss: 0.4893 - accuracy: 0.8177 - val_loss: 0.1789 - val_accuracy: 0.9690\n",
            "Epoch 66/200\n",
            "131/139 [===========================>..] - ETA: 0s - loss: 0.4768 - accuracy: 0.8262\n",
            "Epoch 66: saving model to model/keypoint_classifier\\keypoint_classifier.hdf5\n",
            "139/139 [==============================] - 1s 9ms/step - loss: 0.4791 - accuracy: 0.8250 - val_loss: 0.1824 - val_accuracy: 0.9593\n",
            "Epoch 67/200\n",
            "136/139 [============================>.] - ETA: 0s - loss: 0.4881 - accuracy: 0.8273\n",
            "Epoch 67: saving model to model/keypoint_classifier\\keypoint_classifier.hdf5\n",
            "139/139 [==============================] - 1s 9ms/step - loss: 0.4879 - accuracy: 0.8272 - val_loss: 0.1896 - val_accuracy: 0.9643\n",
            "Epoch 68/200\n",
            "128/139 [==========================>...] - ETA: 0s - loss: 0.4819 - accuracy: 0.8221\n",
            "Epoch 68: saving model to model/keypoint_classifier\\keypoint_classifier.hdf5\n",
            "139/139 [==============================] - 1s 8ms/step - loss: 0.4834 - accuracy: 0.8217 - val_loss: 0.1709 - val_accuracy: 0.9751\n",
            "Epoch 69/200\n",
            "138/139 [============================>.] - ETA: 0s - loss: 0.4861 - accuracy: 0.8212\n",
            "Epoch 69: saving model to model/keypoint_classifier\\keypoint_classifier.hdf5\n",
            "139/139 [==============================] - 1s 9ms/step - loss: 0.4866 - accuracy: 0.8210 - val_loss: 0.1776 - val_accuracy: 0.9731\n",
            "Epoch 70/200\n",
            "137/139 [============================>.] - ETA: 0s - loss: 0.4826 - accuracy: 0.8250\n",
            "Epoch 70: saving model to model/keypoint_classifier\\keypoint_classifier.hdf5\n",
            "139/139 [==============================] - 1s 9ms/step - loss: 0.4825 - accuracy: 0.8249 - val_loss: 0.1711 - val_accuracy: 0.9724\n",
            "Epoch 71/200\n",
            "133/139 [===========================>..] - ETA: 0s - loss: 0.4788 - accuracy: 0.8261\n",
            "Epoch 71: saving model to model/keypoint_classifier\\keypoint_classifier.hdf5\n",
            "139/139 [==============================] - 1s 9ms/step - loss: 0.4777 - accuracy: 0.8262 - val_loss: 0.1745 - val_accuracy: 0.9668\n",
            "Epoch 72/200\n",
            "132/139 [===========================>..] - ETA: 0s - loss: 0.4779 - accuracy: 0.8256\n",
            "Epoch 72: saving model to model/keypoint_classifier\\keypoint_classifier.hdf5\n",
            "139/139 [==============================] - 1s 8ms/step - loss: 0.4801 - accuracy: 0.8247 - val_loss: 0.1671 - val_accuracy: 0.9788\n",
            "Epoch 73/200\n",
            "139/139 [==============================] - ETA: 0s - loss: 0.4884 - accuracy: 0.8187\n",
            "Epoch 73: saving model to model/keypoint_classifier\\keypoint_classifier.hdf5\n",
            "139/139 [==============================] - 1s 9ms/step - loss: 0.4884 - accuracy: 0.8187 - val_loss: 0.1778 - val_accuracy: 0.9627\n",
            "Epoch 74/200\n",
            "137/139 [============================>.] - ETA: 0s - loss: 0.4821 - accuracy: 0.8248\n",
            "Epoch 74: saving model to model/keypoint_classifier\\keypoint_classifier.hdf5\n",
            "139/139 [==============================] - 1s 9ms/step - loss: 0.4809 - accuracy: 0.8255 - val_loss: 0.1753 - val_accuracy: 0.9684\n",
            "Epoch 75/200\n",
            "131/139 [===========================>..] - ETA: 0s - loss: 0.4829 - accuracy: 0.8216\n",
            "Epoch 75: saving model to model/keypoint_classifier\\keypoint_classifier.hdf5\n",
            "139/139 [==============================] - 1s 6ms/step - loss: 0.4817 - accuracy: 0.8224 - val_loss: 0.1783 - val_accuracy: 0.9713\n",
            "Epoch 76/200\n",
            "137/139 [============================>.] - ETA: 0s - loss: 0.4765 - accuracy: 0.8261\n",
            "Epoch 76: saving model to model/keypoint_classifier\\keypoint_classifier.hdf5\n",
            "139/139 [==============================] - 1s 9ms/step - loss: 0.4762 - accuracy: 0.8262 - val_loss: 0.1751 - val_accuracy: 0.9758\n",
            "Epoch 77/200\n",
            "135/139 [============================>.] - ETA: 0s - loss: 0.4867 - accuracy: 0.8213\n",
            "Epoch 77: saving model to model/keypoint_classifier\\keypoint_classifier.hdf5\n",
            "139/139 [==============================] - 1s 9ms/step - loss: 0.4849 - accuracy: 0.8217 - val_loss: 0.1791 - val_accuracy: 0.9702\n",
            "Epoch 78/200\n",
            "126/139 [==========================>...] - ETA: 0s - loss: 0.4848 - accuracy: 0.8237\n",
            "Epoch 78: saving model to model/keypoint_classifier\\keypoint_classifier.hdf5\n",
            "139/139 [==============================] - 1s 8ms/step - loss: 0.4844 - accuracy: 0.8246 - val_loss: 0.1641 - val_accuracy: 0.9776\n",
            "Epoch 79/200\n",
            "138/139 [============================>.] - ETA: 0s - loss: 0.4659 - accuracy: 0.8313\n",
            "Epoch 79: saving model to model/keypoint_classifier\\keypoint_classifier.hdf5\n",
            "139/139 [==============================] - 1s 8ms/step - loss: 0.4657 - accuracy: 0.8314 - val_loss: 0.1680 - val_accuracy: 0.9781\n",
            "Epoch 80/200\n",
            "132/139 [===========================>..] - ETA: 0s - loss: 0.4826 - accuracy: 0.8258\n",
            "Epoch 80: saving model to model/keypoint_classifier\\keypoint_classifier.hdf5\n",
            "139/139 [==============================] - 1s 9ms/step - loss: 0.4819 - accuracy: 0.8260 - val_loss: 0.1623 - val_accuracy: 0.9790\n",
            "Epoch 81/200\n",
            "134/139 [===========================>..] - ETA: 0s - loss: 0.4634 - accuracy: 0.8308\n",
            "Epoch 81: saving model to model/keypoint_classifier\\keypoint_classifier.hdf5\n",
            "139/139 [==============================] - 1s 9ms/step - loss: 0.4636 - accuracy: 0.8303 - val_loss: 0.1799 - val_accuracy: 0.9672\n",
            "Epoch 82/200\n",
            "133/139 [===========================>..] - ETA: 0s - loss: 0.4809 - accuracy: 0.8261\n",
            "Epoch 82: saving model to model/keypoint_classifier\\keypoint_classifier.hdf5\n",
            "139/139 [==============================] - 1s 9ms/step - loss: 0.4806 - accuracy: 0.8267 - val_loss: 0.1725 - val_accuracy: 0.9690\n",
            "Epoch 83/200\n",
            "134/139 [===========================>..] - ETA: 0s - loss: 0.4701 - accuracy: 0.8313\n",
            "Epoch 83: saving model to model/keypoint_classifier\\keypoint_classifier.hdf5\n",
            "139/139 [==============================] - 1s 8ms/step - loss: 0.4714 - accuracy: 0.8307 - val_loss: 0.1648 - val_accuracy: 0.9779\n",
            "Epoch 84/200\n",
            "138/139 [============================>.] - ETA: 0s - loss: 0.4705 - accuracy: 0.8319\n",
            "Epoch 84: saving model to model/keypoint_classifier\\keypoint_classifier.hdf5\n",
            "139/139 [==============================] - 1s 9ms/step - loss: 0.4709 - accuracy: 0.8318 - val_loss: 0.1624 - val_accuracy: 0.9790\n",
            "Epoch 85/200\n",
            "137/139 [============================>.] - ETA: 0s - loss: 0.4703 - accuracy: 0.8284\n",
            "Epoch 85: saving model to model/keypoint_classifier\\keypoint_classifier.hdf5\n",
            "139/139 [==============================] - 1s 8ms/step - loss: 0.4710 - accuracy: 0.8281 - val_loss: 0.1690 - val_accuracy: 0.9609\n",
            "Epoch 86/200\n",
            "136/139 [============================>.] - ETA: 0s - loss: 0.4741 - accuracy: 0.8257\n",
            "Epoch 86: saving model to model/keypoint_classifier\\keypoint_classifier.hdf5\n",
            "139/139 [==============================] - 1s 9ms/step - loss: 0.4731 - accuracy: 0.8262 - val_loss: 0.1821 - val_accuracy: 0.9573\n",
            "Epoch 87/200\n",
            "136/139 [============================>.] - ETA: 0s - loss: 0.4751 - accuracy: 0.8274\n",
            "Epoch 87: saving model to model/keypoint_classifier\\keypoint_classifier.hdf5\n",
            "139/139 [==============================] - 1s 9ms/step - loss: 0.4739 - accuracy: 0.8280 - val_loss: 0.1685 - val_accuracy: 0.9704\n",
            "Epoch 88/200\n",
            "135/139 [============================>.] - ETA: 0s - loss: 0.4683 - accuracy: 0.8329\n",
            "Epoch 88: saving model to model/keypoint_classifier\\keypoint_classifier.hdf5\n",
            "139/139 [==============================] - 1s 9ms/step - loss: 0.4666 - accuracy: 0.8327 - val_loss: 0.1675 - val_accuracy: 0.9765\n",
            "Epoch 89/200\n",
            "133/139 [===========================>..] - ETA: 0s - loss: 0.4755 - accuracy: 0.8289\n",
            "Epoch 89: saving model to model/keypoint_classifier\\keypoint_classifier.hdf5\n",
            "139/139 [==============================] - 1s 8ms/step - loss: 0.4754 - accuracy: 0.8288 - val_loss: 0.1689 - val_accuracy: 0.9733\n",
            "Epoch 90/200\n",
            "135/139 [============================>.] - ETA: 0s - loss: 0.4699 - accuracy: 0.8308\n",
            "Epoch 90: saving model to model/keypoint_classifier\\keypoint_classifier.hdf5\n",
            "139/139 [==============================] - 1s 8ms/step - loss: 0.4693 - accuracy: 0.8309 - val_loss: 0.1756 - val_accuracy: 0.9704\n",
            "Epoch 91/200\n",
            "138/139 [============================>.] - ETA: 0s - loss: 0.4650 - accuracy: 0.8307\n",
            "Epoch 91: saving model to model/keypoint_classifier\\keypoint_classifier.hdf5\n",
            "139/139 [==============================] - 1s 7ms/step - loss: 0.4649 - accuracy: 0.8308 - val_loss: 0.1529 - val_accuracy: 0.9799\n",
            "Epoch 92/200\n",
            "123/139 [=========================>....] - ETA: 0s - loss: 0.4563 - accuracy: 0.8329\n",
            "Epoch 92: saving model to model/keypoint_classifier\\keypoint_classifier.hdf5\n",
            "139/139 [==============================] - 1s 7ms/step - loss: 0.4597 - accuracy: 0.8314 - val_loss: 0.1725 - val_accuracy: 0.9776\n",
            "Epoch 93/200\n",
            "123/139 [=========================>....] - ETA: 0s - loss: 0.4669 - accuracy: 0.8273\n",
            "Epoch 93: saving model to model/keypoint_classifier\\keypoint_classifier.hdf5\n",
            "139/139 [==============================] - 1s 9ms/step - loss: 0.4675 - accuracy: 0.8271 - val_loss: 0.1638 - val_accuracy: 0.9745\n",
            "Epoch 94/200\n",
            "132/139 [===========================>..] - ETA: 0s - loss: 0.4754 - accuracy: 0.8275\n",
            "Epoch 94: saving model to model/keypoint_classifier\\keypoint_classifier.hdf5\n",
            "139/139 [==============================] - 1s 9ms/step - loss: 0.4731 - accuracy: 0.8290 - val_loss: 0.1602 - val_accuracy: 0.9783\n",
            "Epoch 95/200\n",
            "131/139 [===========================>..] - ETA: 0s - loss: 0.4590 - accuracy: 0.8378\n",
            "Epoch 95: saving model to model/keypoint_classifier\\keypoint_classifier.hdf5\n",
            "139/139 [==============================] - 1s 9ms/step - loss: 0.4576 - accuracy: 0.8384 - val_loss: 0.1631 - val_accuracy: 0.9754\n",
            "Epoch 96/200\n",
            "134/139 [===========================>..] - ETA: 0s - loss: 0.4632 - accuracy: 0.8356\n",
            "Epoch 96: saving model to model/keypoint_classifier\\keypoint_classifier.hdf5\n",
            "139/139 [==============================] - 1s 10ms/step - loss: 0.4629 - accuracy: 0.8355 - val_loss: 0.1624 - val_accuracy: 0.9738\n",
            "Epoch 97/200\n",
            "137/139 [============================>.] - ETA: 0s - loss: 0.4599 - accuracy: 0.8340\n",
            "Epoch 97: saving model to model/keypoint_classifier\\keypoint_classifier.hdf5\n",
            "139/139 [==============================] - 1s 8ms/step - loss: 0.4601 - accuracy: 0.8337 - val_loss: 0.1560 - val_accuracy: 0.9806\n",
            "Epoch 98/200\n",
            "133/139 [===========================>..] - ETA: 0s - loss: 0.4585 - accuracy: 0.8366\n",
            "Epoch 98: saving model to model/keypoint_classifier\\keypoint_classifier.hdf5\n",
            "139/139 [==============================] - 1s 8ms/step - loss: 0.4613 - accuracy: 0.8360 - val_loss: 0.1618 - val_accuracy: 0.9772\n",
            "Epoch 99/200\n",
            "135/139 [============================>.] - ETA: 0s - loss: 0.4615 - accuracy: 0.8346\n",
            "Epoch 99: saving model to model/keypoint_classifier\\keypoint_classifier.hdf5\n",
            "139/139 [==============================] - 1s 9ms/step - loss: 0.4623 - accuracy: 0.8345 - val_loss: 0.1700 - val_accuracy: 0.9724\n",
            "Epoch 100/200\n",
            "137/139 [============================>.] - ETA: 0s - loss: 0.4602 - accuracy: 0.8345\n",
            "Epoch 100: saving model to model/keypoint_classifier\\keypoint_classifier.hdf5\n",
            "139/139 [==============================] - 1s 9ms/step - loss: 0.4598 - accuracy: 0.8348 - val_loss: 0.1757 - val_accuracy: 0.9731\n",
            "Epoch 101/200\n",
            "137/139 [============================>.] - ETA: 0s - loss: 0.4472 - accuracy: 0.8361\n",
            "Epoch 101: saving model to model/keypoint_classifier\\keypoint_classifier.hdf5\n",
            "139/139 [==============================] - 1s 7ms/step - loss: 0.4466 - accuracy: 0.8364 - val_loss: 0.1585 - val_accuracy: 0.9808\n",
            "Epoch 102/200\n",
            "138/139 [============================>.] - ETA: 0s - loss: 0.4679 - accuracy: 0.8344\n",
            "Epoch 102: saving model to model/keypoint_classifier\\keypoint_classifier.hdf5\n",
            "139/139 [==============================] - 1s 9ms/step - loss: 0.4676 - accuracy: 0.8345 - val_loss: 0.1676 - val_accuracy: 0.9695\n",
            "Epoch 103/200\n",
            "139/139 [==============================] - ETA: 0s - loss: 0.4562 - accuracy: 0.8351\n",
            "Epoch 103: saving model to model/keypoint_classifier\\keypoint_classifier.hdf5\n",
            "139/139 [==============================] - 1s 9ms/step - loss: 0.4562 - accuracy: 0.8351 - val_loss: 0.1646 - val_accuracy: 0.9788\n",
            "Epoch 104/200\n",
            "135/139 [============================>.] - ETA: 0s - loss: 0.4603 - accuracy: 0.8337\n",
            "Epoch 104: saving model to model/keypoint_classifier\\keypoint_classifier.hdf5\n",
            "139/139 [==============================] - 1s 9ms/step - loss: 0.4599 - accuracy: 0.8335 - val_loss: 0.1719 - val_accuracy: 0.9713\n",
            "Epoch 105/200\n",
            "133/139 [===========================>..] - ETA: 0s - loss: 0.4542 - accuracy: 0.8349\n",
            "Epoch 105: saving model to model/keypoint_classifier\\keypoint_classifier.hdf5\n",
            "139/139 [==============================] - 1s 9ms/step - loss: 0.4545 - accuracy: 0.8346 - val_loss: 0.1517 - val_accuracy: 0.9801\n",
            "Epoch 106/200\n",
            "132/139 [===========================>..] - ETA: 0s - loss: 0.4442 - accuracy: 0.8419\n",
            "Epoch 106: saving model to model/keypoint_classifier\\keypoint_classifier.hdf5\n",
            "139/139 [==============================] - 1s 7ms/step - loss: 0.4433 - accuracy: 0.8421 - val_loss: 0.1600 - val_accuracy: 0.9722\n",
            "Epoch 107/200\n",
            "133/139 [===========================>..] - ETA: 0s - loss: 0.4621 - accuracy: 0.8331\n",
            "Epoch 107: saving model to model/keypoint_classifier\\keypoint_classifier.hdf5\n",
            "139/139 [==============================] - 1s 9ms/step - loss: 0.4620 - accuracy: 0.8333 - val_loss: 0.1782 - val_accuracy: 0.9700\n",
            "Epoch 108/200\n",
            "132/139 [===========================>..] - ETA: 0s - loss: 0.4499 - accuracy: 0.8371\n",
            "Epoch 108: saving model to model/keypoint_classifier\\keypoint_classifier.hdf5\n",
            "139/139 [==============================] - 1s 9ms/step - loss: 0.4485 - accuracy: 0.8376 - val_loss: 0.1660 - val_accuracy: 0.9763\n",
            "Epoch 109/200\n",
            "138/139 [============================>.] - ETA: 0s - loss: 0.4559 - accuracy: 0.8347\n",
            "Epoch 109: saving model to model/keypoint_classifier\\keypoint_classifier.hdf5\n",
            "139/139 [==============================] - 1s 8ms/step - loss: 0.4564 - accuracy: 0.8346 - val_loss: 0.1777 - val_accuracy: 0.9675\n",
            "Epoch 110/200\n",
            "127/139 [==========================>...] - ETA: 0s - loss: 0.4519 - accuracy: 0.8341\n",
            "Epoch 110: saving model to model/keypoint_classifier\\keypoint_classifier.hdf5\n",
            "139/139 [==============================] - 1s 8ms/step - loss: 0.4513 - accuracy: 0.8355 - val_loss: 0.1686 - val_accuracy: 0.9684\n",
            "Epoch 111/200\n",
            "133/139 [===========================>..] - ETA: 0s - loss: 0.4558 - accuracy: 0.8392\n",
            "Epoch 111: saving model to model/keypoint_classifier\\keypoint_classifier.hdf5\n",
            "139/139 [==============================] - 1s 9ms/step - loss: 0.4552 - accuracy: 0.8396 - val_loss: 0.1731 - val_accuracy: 0.9652\n",
            "Epoch 112/200\n",
            "136/139 [============================>.] - ETA: 0s - loss: 0.4425 - accuracy: 0.8432\n",
            "Epoch 112: saving model to model/keypoint_classifier\\keypoint_classifier.hdf5\n",
            "139/139 [==============================] - 1s 8ms/step - loss: 0.4435 - accuracy: 0.8429 - val_loss: 0.1717 - val_accuracy: 0.9641\n",
            "Epoch 113/200\n",
            "133/139 [===========================>..] - ETA: 0s - loss: 0.4508 - accuracy: 0.8378\n",
            "Epoch 113: saving model to model/keypoint_classifier\\keypoint_classifier.hdf5\n",
            "139/139 [==============================] - 1s 8ms/step - loss: 0.4501 - accuracy: 0.8382 - val_loss: 0.1525 - val_accuracy: 0.9808\n",
            "Epoch 114/200\n",
            "135/139 [============================>.] - ETA: 0s - loss: 0.4494 - accuracy: 0.8402\n",
            "Epoch 114: saving model to model/keypoint_classifier\\keypoint_classifier.hdf5\n",
            "139/139 [==============================] - 1s 9ms/step - loss: 0.4483 - accuracy: 0.8407 - val_loss: 0.1696 - val_accuracy: 0.9709\n",
            "Epoch 115/200\n",
            "135/139 [============================>.] - ETA: 0s - loss: 0.4468 - accuracy: 0.8384\n",
            "Epoch 115: saving model to model/keypoint_classifier\\keypoint_classifier.hdf5\n",
            "139/139 [==============================] - 1s 7ms/step - loss: 0.4473 - accuracy: 0.8382 - val_loss: 0.1681 - val_accuracy: 0.9670\n",
            "Epoch 116/200\n",
            "137/139 [============================>.] - ETA: 0s - loss: 0.4488 - accuracy: 0.8406\n",
            "Epoch 116: saving model to model/keypoint_classifier\\keypoint_classifier.hdf5\n",
            "139/139 [==============================] - 1s 9ms/step - loss: 0.4488 - accuracy: 0.8406 - val_loss: 0.1531 - val_accuracy: 0.9803\n",
            "Epoch 117/200\n",
            "135/139 [============================>.] - ETA: 0s - loss: 0.4399 - accuracy: 0.8390\n",
            "Epoch 117: saving model to model/keypoint_classifier\\keypoint_classifier.hdf5\n",
            "139/139 [==============================] - 1s 9ms/step - loss: 0.4395 - accuracy: 0.8394 - val_loss: 0.1655 - val_accuracy: 0.9713\n",
            "Epoch 118/200\n",
            "138/139 [============================>.] - ETA: 0s - loss: 0.4497 - accuracy: 0.8399\n",
            "Epoch 118: saving model to model/keypoint_classifier\\keypoint_classifier.hdf5\n",
            "139/139 [==============================] - 1s 8ms/step - loss: 0.4496 - accuracy: 0.8400 - val_loss: 0.1645 - val_accuracy: 0.9756\n",
            "Epoch 119/200\n",
            "132/139 [===========================>..] - ETA: 0s - loss: 0.4480 - accuracy: 0.8375\n",
            "Epoch 119: saving model to model/keypoint_classifier\\keypoint_classifier.hdf5\n",
            "139/139 [==============================] - 1s 9ms/step - loss: 0.4478 - accuracy: 0.8374 - val_loss: 0.1585 - val_accuracy: 0.9792\n",
            "Epoch 120/200\n",
            "139/139 [==============================] - ETA: 0s - loss: 0.4431 - accuracy: 0.8385\n",
            "Epoch 120: saving model to model/keypoint_classifier\\keypoint_classifier.hdf5\n",
            "139/139 [==============================] - 1s 9ms/step - loss: 0.4431 - accuracy: 0.8385 - val_loss: 0.1546 - val_accuracy: 0.9803\n",
            "Epoch 121/200\n",
            "132/139 [===========================>..] - ETA: 0s - loss: 0.4533 - accuracy: 0.8374\n",
            "Epoch 121: saving model to model/keypoint_classifier\\keypoint_classifier.hdf5\n",
            "139/139 [==============================] - 1s 8ms/step - loss: 0.4541 - accuracy: 0.8373 - val_loss: 0.1763 - val_accuracy: 0.9715\n",
            "Epoch 122/200\n",
            "137/139 [============================>.] - ETA: 0s - loss: 0.4525 - accuracy: 0.8385\n",
            "Epoch 122: saving model to model/keypoint_classifier\\keypoint_classifier.hdf5\n",
            "139/139 [==============================] - 1s 9ms/step - loss: 0.4523 - accuracy: 0.8382 - val_loss: 0.1605 - val_accuracy: 0.9808\n",
            "Epoch 123/200\n",
            "138/139 [============================>.] - ETA: 0s - loss: 0.4478 - accuracy: 0.8414\n",
            "Epoch 123: saving model to model/keypoint_classifier\\keypoint_classifier.hdf5\n",
            "139/139 [==============================] - 1s 9ms/step - loss: 0.4478 - accuracy: 0.8414 - val_loss: 0.1774 - val_accuracy: 0.9643\n",
            "Epoch 124/200\n",
            "136/139 [============================>.] - ETA: 0s - loss: 0.4423 - accuracy: 0.8401\n",
            "Epoch 124: saving model to model/keypoint_classifier\\keypoint_classifier.hdf5\n",
            "139/139 [==============================] - 1s 7ms/step - loss: 0.4432 - accuracy: 0.8398 - val_loss: 0.1692 - val_accuracy: 0.9722\n",
            "Epoch 125/200\n",
            "138/139 [============================>.] - ETA: 0s - loss: 0.4360 - accuracy: 0.8430\n",
            "Epoch 125: saving model to model/keypoint_classifier\\keypoint_classifier.hdf5\n",
            "139/139 [==============================] - 1s 9ms/step - loss: 0.4365 - accuracy: 0.8429 - val_loss: 0.1694 - val_accuracy: 0.9684\n",
            "Epoch 125: early stopping\n"
          ]
        },
        {
          "data": {
            "text/plain": [
              "<keras.src.callbacks.History at 0x1726c51b430>"
            ]
          },
          "execution_count": 155,
          "metadata": {},
          "output_type": "execute_result"
        }
      ],
      "source": [
        "model.fit(\n",
        "    X_train,\n",
        "    y_train,\n",
        "    epochs=200,\n",
        "    batch_size=128,\n",
        "    validation_data=(X_test, y_test),\n",
        "    callbacks=[cp_callback, es_callback]\n",
        ")"
      ]
    },
    {
      "cell_type": "code",
      "execution_count": 156,
      "metadata": {
        "colab": {
          "base_uri": "https://localhost:8080/"
        },
        "id": "pxvb2Y299hE3",
        "outputId": "59eb3185-2e37-4b9e-bc9d-ab1b8ac29b7f"
      },
      "outputs": [
        {
          "name": "stdout",
          "output_type": "stream",
          "text": [
            "35/35 [==============================] - 0s 5ms/step - loss: 0.1694 - accuracy: 0.9684\n"
          ]
        }
      ],
      "source": [
        "# Model evaluation\n",
        "val_loss, val_acc = model.evaluate(X_test, y_test, batch_size=128)"
      ]
    },
    {
      "cell_type": "code",
      "execution_count": 157,
      "metadata": {
        "id": "RBkmDeUW9hE4"
      },
      "outputs": [],
      "source": [
        "# Loading the saved model\n",
        "# model = tf.keras.models.load_model(model_save_path)"
      ]
    },
    {
      "cell_type": "markdown",
      "metadata": {
        "id": "S3U4yNWx9hE4"
      },
      "source": [
        "# Confusion matrix"
      ]
    },
    {
      "cell_type": "code",
      "execution_count": 158,
      "metadata": {
        "colab": {
          "base_uri": "https://localhost:8080/",
          "height": 582
        },
        "id": "AP1V6SCk9hE5",
        "outputId": "08e41a80-7a4a-4619-8125-ecc371368d19"
      },
      "outputs": [
        {
          "name": "stdout",
          "output_type": "stream",
          "text": [
            "139/139 [==============================] - 0s 2ms/step\n"
          ]
        },
        {
          "data": {
            "image/png": "[encoded data removed]",
            "text/plain": [
              "<Figure size 700x600 with 2 Axes>"
            ]
          },
          "metadata": {},
          "output_type": "display_data"
        },
        {
          "name": "stdout",
          "output_type": "stream",
          "text": [
            "Classification Report\n",
            "              precision    recall  f1-score   support\n",
            "\n",
            "           0       1.00      1.00      1.00       445\n",
            "           1       1.00      0.96      0.98       634\n",
            "           2       0.95      1.00      0.97       616\n",
            "           3       1.00      1.00      1.00       450\n",
            "           4       0.96      0.98      0.97       330\n",
            "           5       0.97      1.00      0.99       374\n",
            "           6       0.98      0.98      0.98       487\n",
            "           7       1.00      0.94      0.97       436\n",
            "           8       0.99      0.82      0.90       371\n",
            "           9       0.82      0.99      0.89       283\n",
            "\n",
            "    accuracy                           0.97      4426\n",
            "   macro avg       0.97      0.97      0.96      4426\n",
            "weighted avg       0.97      0.97      0.97      4426\n",
            "\n"
          ]
        }
      ],
      "source": [
        "import pandas as pd\n",
        "import seaborn as sns\n",
        "import matplotlib.pyplot as plt\n",
        "from sklearn.metrics import confusion_matrix, classification_report\n",
        "\n",
        "def print_confusion_matrix(y_true, y_pred, report=True):\n",
        "    labels = sorted(list(set(y_true)))\n",
        "    cmx_data = confusion_matrix(y_true, y_pred, labels=labels)\n",
        "    \n",
        "    df_cmx = pd.DataFrame(cmx_data, index=labels, columns=labels)\n",
        " \n",
        "    fig, ax = plt.subplots(figsize=(7, 6))\n",
        "    sns.heatmap(df_cmx, annot=True, fmt='g' ,square=False)\n",
        "    ax.set_ylim(len(set(y_true)), 0)\n",
        "    plt.show()\n",
        "    \n",
        "    if report:\n",
        "        print('Classification Report')\n",
        "        print(classification_report(y_test, y_pred))\n",
        "\n",
        "Y_pred = model.predict(X_test)\n",
        "y_pred = np.argmax(Y_pred, axis=1)\n",
        "\n",
        "print_confusion_matrix(y_test, y_pred)"
      ]
    },
    {
      "cell_type": "markdown",
      "metadata": {
        "id": "FNP6aqzc9hE5"
      },
      "source": [
        "# Convert to model for Tensorflow-Lite"
      ]
    },
    {
      "cell_type": "code",
      "execution_count": 159,
      "metadata": {
        "id": "ODjnYyld9hE6"
      },
      "outputs": [
        {
          "name": "stderr",
          "output_type": "stream",
          "text": [
            "c:\\Users\\Admin\\Desktop\\Major Project\\Final Project\\VocalWave\\.venv\\lib\\site-packages\\keras\\src\\engine\\training.py:3103: UserWarning: You are saving your model as an HDF5 file via `model.save()`. This file format is considered legacy. We recommend using instead the native Keras format, e.g. `model.save('my_model.keras')`.\n",
            "  saving_api.save_model(\n"
          ]
        }
      ],
      "source": [
        "# Save as a model dedicated to inference\n",
        "model.save(model_save_path, include_optimizer=False)"
      ]
    },
    {
      "cell_type": "code",
      "execution_count": 160,
      "metadata": {
        "colab": {
          "base_uri": "https://localhost:8080/"
        },
        "id": "zRfuK8Y59hE6",
        "outputId": "a4ca585c-b5d5-4244-8291-8674063209bb"
      },
      "outputs": [
        {
          "name": "stdout",
          "output_type": "stream",
          "text": [
            "INFO:tensorflow:Assets written to: C:\\Users\\Admin\\AppData\\Local\\Temp\\tmpzz9ghiqy\\assets\n"
          ]
        },
        {
          "name": "stderr",
          "output_type": "stream",
          "text": [
            "INFO:tensorflow:Assets written to: C:\\Users\\Admin\\AppData\\Local\\Temp\\tmpzz9ghiqy\\assets\n"
          ]
        },
        {
          "data": {
            "text/plain": [
              "6876"
            ]
          },
          "execution_count": 160,
          "metadata": {},
          "output_type": "execute_result"
        }
      ],
      "source": [
        "# Transform model (quantization)\n",
        "\n",
        "converter = tf.lite.TFLiteConverter.from_keras_model(model)\n",
        "converter.optimizations = [tf.lite.Optimize.DEFAULT]\n",
        "tflite_quantized_model = converter.convert()\n",
        "\n",
        "open(tflite_save_path, 'wb').write(tflite_quantized_model)"
      ]
    }
  ],
  "metadata": {
    "accelerator": "GPU",
    "colab": {
      "collapsed_sections": [],
      "name": "keypoint_classification_EN.ipynb",
      "provenance": [],
      "toc_visible": true
    },
    "kernelspec": {
      "display_name": "Python 3",
      "language": "python",
      "name": "python3"
    },
    "language_info": {
      "codemirror_mode": {
        "name": "ipython",
        "version": 3
      },
      "file_extension": ".py",
      "mimetype": "text/x-python",
      "name": "python",
      "nbconvert_exporter": "python",
      "pygments_lexer": "ipython3",
      "version": "3.10.0"
    }
  },
  "nbformat": 4,
  "nbformat_minor": 0
}
