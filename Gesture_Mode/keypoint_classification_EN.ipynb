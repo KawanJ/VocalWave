{
  "cells": [
    {
      "cell_type": "code",
      "execution_count": 1,
      "metadata": {
        "id": "igMyGnjE9hEp"
      },
      "outputs": [
        {
          "name": "stdout",
          "output_type": "stream",
          "text": [
            "WARNING:tensorflow:From d:\\Projects\\VocalWave\\.venv\\lib\\site-packages\\keras\\src\\losses.py:2976: The name tf.losses.sparse_softmax_cross_entropy is deprecated. Please use tf.compat.v1.losses.sparse_softmax_cross_entropy instead.\n",
            "\n"
          ]
        }
      ],
      "source": [
        "import csv\n",
        "\n",
        "import numpy as np\n",
        "import tensorflow as tf\n",
        "from sklearn.model_selection import train_test_split\n",
        "\n",
        "RANDOM_SEED = 68"
      ]
    },
    {
      "cell_type": "markdown",
      "metadata": {
        "id": "t2HDvhIu9hEr"
      },
      "source": [
        "# Specify each path"
      ]
    },
    {
      "cell_type": "code",
      "execution_count": 2,
      "metadata": {
        "id": "9NvZP2Zn9hEy"
      },
      "outputs": [],
      "source": [
        "dataset = 'model/keypoint_classifier/keypoint.csv'\n",
        "model_save_path = 'model/keypoint_classifier/keypoint_classifier.hdf5'\n",
        "tflite_save_path = 'model/keypoint_classifier/keypoint_classifier.tflite'"
      ]
    },
    {
      "cell_type": "markdown",
      "metadata": {
        "id": "s5oMH7x19hEz"
      },
      "source": [
        "# Set number of classes"
      ]
    },
    {
      "cell_type": "code",
      "execution_count": 7,
      "metadata": {
        "id": "du4kodXL9hEz"
      },
      "outputs": [],
      "source": [
        "NUM_CLASSES = 10"
      ]
    },
    {
      "cell_type": "markdown",
      "metadata": {
        "id": "XjnL0uso9hEz"
      },
      "source": [
        "# Dataset reading"
      ]
    },
    {
      "cell_type": "code",
      "execution_count": 3,
      "metadata": {
        "id": "QT5ZqtEz9hE0"
      },
      "outputs": [],
      "source": [
        "X_dataset = np.loadtxt(dataset, delimiter=',', dtype='float32', usecols=list(range(1, 43)))"
      ]
    },
    {
      "cell_type": "code",
      "execution_count": 4,
      "metadata": {
        "id": "QmoKFsp49hE0"
      },
      "outputs": [],
      "source": [
        "y_dataset = np.loadtxt(dataset, delimiter=',', dtype='int32', usecols=(0))"
      ]
    },
    {
      "cell_type": "code",
      "execution_count": 5,
      "metadata": {
        "id": "xQU7JTZ_9hE0"
      },
      "outputs": [],
      "source": [
        "X_train, X_test, y_train, y_test = train_test_split(X_dataset, y_dataset, train_size=0.8, random_state=RANDOM_SEED)"
      ]
    },
    {
      "cell_type": "markdown",
      "metadata": {
        "id": "mxK_lETT9hE0"
      },
      "source": [
        "# Model building"
      ]
    },
    {
      "cell_type": "code",
      "execution_count": 8,
      "metadata": {
        "id": "vHBmUf1t9hE1"
      },
      "outputs": [],
      "source": [
        "model = tf.keras.models.Sequential([\n",
        "    tf.keras.layers.Input((21 * 2, )),\n",
        "    tf.keras.layers.Dropout(0.2),\n",
        "    tf.keras.layers.Dense(20, activation='relu'),\n",
        "    tf.keras.layers.Dropout(0.4),\n",
        "    tf.keras.layers.Dense(10, activation='relu'),\n",
        "    tf.keras.layers.Dense(NUM_CLASSES, activation='softmax')\n",
        "])"
      ]
    },
    {
      "cell_type": "code",
      "execution_count": 9,
      "metadata": {
        "colab": {
          "base_uri": "https://localhost:8080/"
        },
        "id": "ypqky9tc9hE1",
        "outputId": "5db082bb-30e3-4110-bf63-a1ee777ecd46"
      },
      "outputs": [
        {
          "name": "stdout",
          "output_type": "stream",
          "text": [
            "Model: \"sequential\"\n",
            "_________________________________________________________________\n",
            " Layer (type)                Output Shape              Param #   \n",
            "=================================================================\n",
            " dropout_2 (Dropout)         (None, 42)                0         \n",
            "                                                                 \n",
            " dense_2 (Dense)             (None, 20)                860       \n",
            "                                                                 \n",
            " dropout_3 (Dropout)         (None, 20)                0         \n",
            "                                                                 \n",
            " dense_3 (Dense)             (None, 10)                210       \n",
            "                                                                 \n",
            " dense_4 (Dense)             (None, 10)                110       \n",
            "                                                                 \n",
            "=================================================================\n",
            "Total params: 1180 (4.61 KB)\n",
            "Trainable params: 1180 (4.61 KB)\n",
            "Non-trainable params: 0 (0.00 Byte)\n",
            "_________________________________________________________________\n"
          ]
        }
      ],
      "source": [
        "model.summary()  # tf.keras.utils.plot_model(model, show_shapes=True)"
      ]
    },
    {
      "cell_type": "code",
      "execution_count": 10,
      "metadata": {
        "id": "MbMjOflQ9hE1"
      },
      "outputs": [],
      "source": [
        "# Model checkpoint callback\n",
        "cp_callback = tf.keras.callbacks.ModelCheckpoint(model_save_path, verbose=1, save_weights_only=False)\n",
        "# Callback for early stopping\n",
        "es_callback = tf.keras.callbacks.EarlyStopping(patience=20, verbose=1)"
      ]
    },
    {
      "cell_type": "code",
      "execution_count": 11,
      "metadata": {
        "id": "c3Dac0M_9hE2"
      },
      "outputs": [
        {
          "name": "stdout",
          "output_type": "stream",
          "text": [
            "WARNING:tensorflow:From d:\\Projects\\VocalWave\\.venv\\lib\\site-packages\\keras\\src\\optimizers\\__init__.py:309: The name tf.train.Optimizer is deprecated. Please use tf.compat.v1.train.Optimizer instead.\n",
            "\n"
          ]
        }
      ],
      "source": [
        "# Model compilation\n",
        "model.compile(\n",
        "    optimizer='adam',\n",
        "    loss='sparse_categorical_crossentropy',\n",
        "    metrics=['accuracy']\n",
        ")"
      ]
    },
    {
      "cell_type": "markdown",
      "metadata": {
        "id": "7XI0j1Iu9hE2"
      },
      "source": [
        "# Model training"
      ]
    },
    {
      "cell_type": "code",
      "execution_count": 12,
      "metadata": {
        "colab": {
          "base_uri": "https://localhost:8080/"
        },
        "id": "WirBl-JE9hE3",
        "outputId": "71b30ca2-8294-4d9d-8aa2-800d90d399de",
        "scrolled": true
      },
      "outputs": [
        {
          "name": "stdout",
          "output_type": "stream",
          "text": [
            "Epoch 1/200\n",
            "WARNING:tensorflow:From d:\\Projects\\VocalWave\\.venv\\lib\\site-packages\\keras\\src\\utils\\tf_utils.py:492: The name tf.ragged.RaggedTensorValue is deprecated. Please use tf.compat.v1.ragged.RaggedTensorValue instead.\n",
            "\n",
            "WARNING:tensorflow:From d:\\Projects\\VocalWave\\.venv\\lib\\site-packages\\keras\\src\\engine\\base_layer_utils.py:384: The name tf.executing_eagerly_outside_functions is deprecated. Please use tf.compat.v1.executing_eagerly_outside_functions instead.\n",
            "\n",
            "100/107 [===========================>..] - ETA: 0s - loss: 2.0440 - accuracy: 0.2751\n",
            "Epoch 1: saving model to model/keypoint_classifier\\keypoint_classifier.hdf5\n"
          ]
        },
        {
          "name": "stderr",
          "output_type": "stream",
          "text": [
            "d:\\Projects\\VocalWave\\.venv\\lib\\site-packages\\keras\\src\\engine\\training.py:3103: UserWarning: You are saving your model as an HDF5 file via `model.save()`. This file format is considered legacy. We recommend using instead the native Keras format, e.g. `model.save('my_model.keras')`.\n",
            "  saving_api.save_model(\n"
          ]
        },
        {
          "name": "stdout",
          "output_type": "stream",
          "text": [
            "107/107 [==============================] - 4s 9ms/step - loss: 2.0232 - accuracy: 0.2842 - val_loss: 1.5979 - val_accuracy: 0.5604\n",
            "Epoch 2/200\n",
            " 83/107 [======================>.......] - ETA: 0s - loss: 1.5144 - accuracy: 0.4491\n",
            "Epoch 2: saving model to model/keypoint_classifier\\keypoint_classifier.hdf5\n",
            "107/107 [==============================] - 0s 3ms/step - loss: 1.4705 - accuracy: 0.4592 - val_loss: 1.0675 - val_accuracy: 0.6637\n",
            "Epoch 3/200\n",
            " 82/107 [=====================>........] - ETA: 0s - loss: 1.1924 - accuracy: 0.5403\n",
            "Epoch 3: saving model to model/keypoint_classifier\\keypoint_classifier.hdf5\n",
            "107/107 [==============================] - 0s 3ms/step - loss: 1.1696 - accuracy: 0.5497 - val_loss: 0.8359 - val_accuracy: 0.7668\n",
            "Epoch 4/200\n",
            " 90/107 [========================>.....] - ETA: 0s - loss: 1.0341 - accuracy: 0.5931\n",
            "Epoch 4: saving model to model/keypoint_classifier\\keypoint_classifier.hdf5\n",
            "107/107 [==============================] - 0s 2ms/step - loss: 1.0240 - accuracy: 0.5979 - val_loss: 0.7122 - val_accuracy: 0.8263\n",
            "Epoch 5/200\n",
            "100/107 [===========================>..] - ETA: 0s - loss: 0.9406 - accuracy: 0.6341\n",
            "Epoch 5: saving model to model/keypoint_classifier\\keypoint_classifier.hdf5\n",
            "107/107 [==============================] - 0s 3ms/step - loss: 0.9391 - accuracy: 0.6342 - val_loss: 0.6333 - val_accuracy: 0.8619\n",
            "Epoch 6/200\n",
            " 78/107 [====================>.........] - ETA: 0s - loss: 0.8832 - accuracy: 0.6548\n",
            "Epoch 6: saving model to model/keypoint_classifier\\keypoint_classifier.hdf5\n",
            "107/107 [==============================] - 0s 3ms/step - loss: 0.8755 - accuracy: 0.6586 - val_loss: 0.5771 - val_accuracy: 0.8849\n",
            "Epoch 7/200\n",
            " 90/107 [========================>.....] - ETA: 0s - loss: 0.8383 - accuracy: 0.6734\n",
            "Epoch 7: saving model to model/keypoint_classifier\\keypoint_classifier.hdf5\n",
            "107/107 [==============================] - 0s 2ms/step - loss: 0.8367 - accuracy: 0.6731 - val_loss: 0.5327 - val_accuracy: 0.8869\n",
            "Epoch 8/200\n",
            " 89/107 [=======================>......] - ETA: 0s - loss: 0.7975 - accuracy: 0.6974\n",
            "Epoch 8: saving model to model/keypoint_classifier\\keypoint_classifier.hdf5\n",
            "107/107 [==============================] - 0s 2ms/step - loss: 0.7937 - accuracy: 0.6988 - val_loss: 0.4883 - val_accuracy: 0.9102\n",
            "Epoch 9/200\n",
            " 91/107 [========================>.....] - ETA: 0s - loss: 0.7594 - accuracy: 0.7115\n",
            "Epoch 9: saving model to model/keypoint_classifier\\keypoint_classifier.hdf5\n",
            "107/107 [==============================] - 0s 2ms/step - loss: 0.7616 - accuracy: 0.7112 - val_loss: 0.4547 - val_accuracy: 0.9164\n",
            "Epoch 10/200\n",
            "103/107 [===========================>..] - ETA: 0s - loss: 0.7240 - accuracy: 0.7244\n",
            "Epoch 10: saving model to model/keypoint_classifier\\keypoint_classifier.hdf5\n",
            "107/107 [==============================] - 0s 3ms/step - loss: 0.7235 - accuracy: 0.7246 - val_loss: 0.4092 - val_accuracy: 0.9176\n",
            "Epoch 11/200\n",
            " 98/107 [==========================>...] - ETA: 0s - loss: 0.7007 - accuracy: 0.7345\n",
            "Epoch 11: saving model to model/keypoint_classifier\\keypoint_classifier.hdf5\n",
            "107/107 [==============================] - 0s 3ms/step - loss: 0.7032 - accuracy: 0.7332 - val_loss: 0.3774 - val_accuracy: 0.9290\n",
            "Epoch 12/200\n",
            " 90/107 [========================>.....] - ETA: 0s - loss: 0.6883 - accuracy: 0.7365\n",
            "Epoch 12: saving model to model/keypoint_classifier\\keypoint_classifier.hdf5\n",
            "107/107 [==============================] - 0s 2ms/step - loss: 0.6853 - accuracy: 0.7380 - val_loss: 0.3627 - val_accuracy: 0.9255\n",
            "Epoch 13/200\n",
            "104/107 [============================>.] - ETA: 0s - loss: 0.6632 - accuracy: 0.7514\n",
            "Epoch 13: saving model to model/keypoint_classifier\\keypoint_classifier.hdf5\n",
            "107/107 [==============================] - 0s 3ms/step - loss: 0.6630 - accuracy: 0.7516 - val_loss: 0.3288 - val_accuracy: 0.9393\n",
            "Epoch 14/200\n",
            " 93/107 [=========================>....] - ETA: 0s - loss: 0.6441 - accuracy: 0.7616\n",
            "Epoch 14: saving model to model/keypoint_classifier\\keypoint_classifier.hdf5\n",
            "107/107 [==============================] - 0s 2ms/step - loss: 0.6452 - accuracy: 0.7619 - val_loss: 0.3066 - val_accuracy: 0.9390\n",
            "Epoch 15/200\n",
            "106/107 [============================>.] - ETA: 0s - loss: 0.6236 - accuracy: 0.7647\n",
            "Epoch 15: saving model to model/keypoint_classifier\\keypoint_classifier.hdf5\n",
            "107/107 [==============================] - 0s 3ms/step - loss: 0.6237 - accuracy: 0.7646 - val_loss: 0.2818 - val_accuracy: 0.9441\n",
            "Epoch 16/200\n",
            " 98/107 [==========================>...] - ETA: 0s - loss: 0.6075 - accuracy: 0.7712\n",
            "Epoch 16: saving model to model/keypoint_classifier\\keypoint_classifier.hdf5\n",
            "107/107 [==============================] - 0s 3ms/step - loss: 0.6057 - accuracy: 0.7717 - val_loss: 0.2764 - val_accuracy: 0.9432\n",
            "Epoch 17/200\n",
            " 91/107 [========================>.....] - ETA: 0s - loss: 0.5848 - accuracy: 0.7842\n",
            "Epoch 17: saving model to model/keypoint_classifier\\keypoint_classifier.hdf5\n",
            "107/107 [==============================] - 0s 2ms/step - loss: 0.5848 - accuracy: 0.7844 - val_loss: 0.2552 - val_accuracy: 0.9485\n",
            "Epoch 18/200\n",
            " 91/107 [========================>.....] - ETA: 0s - loss: 0.5720 - accuracy: 0.7907\n",
            "Epoch 18: saving model to model/keypoint_classifier\\keypoint_classifier.hdf5\n",
            "107/107 [==============================] - 0s 2ms/step - loss: 0.5713 - accuracy: 0.7910 - val_loss: 0.2427 - val_accuracy: 0.9499\n",
            "Epoch 19/200\n",
            " 89/107 [=======================>......] - ETA: 0s - loss: 0.5774 - accuracy: 0.7847\n",
            "Epoch 19: saving model to model/keypoint_classifier\\keypoint_classifier.hdf5\n",
            "107/107 [==============================] - 0s 2ms/step - loss: 0.5740 - accuracy: 0.7854 - val_loss: 0.2362 - val_accuracy: 0.9535\n",
            "Epoch 20/200\n",
            "107/107 [==============================] - ETA: 0s - loss: 0.5542 - accuracy: 0.7963\n",
            "Epoch 20: saving model to model/keypoint_classifier\\keypoint_classifier.hdf5\n",
            "107/107 [==============================] - 0s 3ms/step - loss: 0.5542 - accuracy: 0.7963 - val_loss: 0.2232 - val_accuracy: 0.9558\n",
            "Epoch 21/200\n",
            " 93/107 [=========================>....] - ETA: 0s - loss: 0.5668 - accuracy: 0.7919\n",
            "Epoch 21: saving model to model/keypoint_classifier\\keypoint_classifier.hdf5\n",
            "107/107 [==============================] - 0s 3ms/step - loss: 0.5619 - accuracy: 0.7943 - val_loss: 0.2190 - val_accuracy: 0.9594\n",
            "Epoch 22/200\n",
            " 92/107 [========================>.....] - ETA: 0s - loss: 0.5447 - accuracy: 0.7981\n",
            "Epoch 22: saving model to model/keypoint_classifier\\keypoint_classifier.hdf5\n",
            "107/107 [==============================] - 0s 2ms/step - loss: 0.5494 - accuracy: 0.7969 - val_loss: 0.2205 - val_accuracy: 0.9541\n",
            "Epoch 23/200\n",
            " 87/107 [=======================>......] - ETA: 0s - loss: 0.5233 - accuracy: 0.8033\n",
            "Epoch 23: saving model to model/keypoint_classifier\\keypoint_classifier.hdf5\n",
            "107/107 [==============================] - 0s 2ms/step - loss: 0.5240 - accuracy: 0.8037 - val_loss: 0.2067 - val_accuracy: 0.9576\n",
            "Epoch 24/200\n",
            " 90/107 [========================>.....] - ETA: 0s - loss: 0.5377 - accuracy: 0.8018\n",
            "Epoch 24: saving model to model/keypoint_classifier\\keypoint_classifier.hdf5\n",
            "107/107 [==============================] - 0s 2ms/step - loss: 0.5426 - accuracy: 0.8002 - val_loss: 0.2040 - val_accuracy: 0.9608\n",
            "Epoch 25/200\n",
            "106/107 [============================>.] - ETA: 0s - loss: 0.5216 - accuracy: 0.8054\n",
            "Epoch 25: saving model to model/keypoint_classifier\\keypoint_classifier.hdf5\n",
            "107/107 [==============================] - 0s 3ms/step - loss: 0.5215 - accuracy: 0.8054 - val_loss: 0.1966 - val_accuracy: 0.9585\n",
            "Epoch 26/200\n",
            " 98/107 [==========================>...] - ETA: 0s - loss: 0.5184 - accuracy: 0.8103\n",
            "Epoch 26: saving model to model/keypoint_classifier\\keypoint_classifier.hdf5\n",
            "107/107 [==============================] - 0s 3ms/step - loss: 0.5163 - accuracy: 0.8114 - val_loss: 0.1882 - val_accuracy: 0.9611\n",
            "Epoch 27/200\n",
            " 89/107 [=======================>......] - ETA: 0s - loss: 0.5150 - accuracy: 0.8136\n",
            "Epoch 27: saving model to model/keypoint_classifier\\keypoint_classifier.hdf5\n",
            "107/107 [==============================] - 0s 2ms/step - loss: 0.5144 - accuracy: 0.8128 - val_loss: 0.1871 - val_accuracy: 0.9600\n",
            "Epoch 28/200\n",
            " 86/107 [=======================>......] - ETA: 0s - loss: 0.4927 - accuracy: 0.8243\n",
            "Epoch 28: saving model to model/keypoint_classifier\\keypoint_classifier.hdf5\n",
            "107/107 [==============================] - 0s 3ms/step - loss: 0.4943 - accuracy: 0.8229 - val_loss: 0.1812 - val_accuracy: 0.9576\n",
            "Epoch 29/200\n",
            " 94/107 [=========================>....] - ETA: 0s - loss: 0.4952 - accuracy: 0.8235\n",
            "Epoch 29: saving model to model/keypoint_classifier\\keypoint_classifier.hdf5\n",
            "107/107 [==============================] - 0s 3ms/step - loss: 0.4935 - accuracy: 0.8241 - val_loss: 0.1672 - val_accuracy: 0.9638\n",
            "Epoch 30/200\n",
            " 99/107 [==========================>...] - ETA: 0s - loss: 0.4848 - accuracy: 0.8273\n",
            "Epoch 30: saving model to model/keypoint_classifier\\keypoint_classifier.hdf5\n",
            "107/107 [==============================] - 0s 3ms/step - loss: 0.4864 - accuracy: 0.8262 - val_loss: 0.1771 - val_accuracy: 0.9582\n",
            "Epoch 31/200\n",
            "102/107 [===========================>..] - ETA: 0s - loss: 0.4892 - accuracy: 0.8241\n",
            "Epoch 31: saving model to model/keypoint_classifier\\keypoint_classifier.hdf5\n",
            "107/107 [==============================] - 0s 3ms/step - loss: 0.4909 - accuracy: 0.8235 - val_loss: 0.1702 - val_accuracy: 0.9635\n",
            "Epoch 32/200\n",
            " 88/107 [=======================>......] - ETA: 0s - loss: 0.4796 - accuracy: 0.8256\n",
            "Epoch 32: saving model to model/keypoint_classifier\\keypoint_classifier.hdf5\n",
            "107/107 [==============================] - 0s 3ms/step - loss: 0.4803 - accuracy: 0.8248 - val_loss: 0.1603 - val_accuracy: 0.9679\n",
            "Epoch 33/200\n",
            " 90/107 [========================>.....] - ETA: 0s - loss: 0.4685 - accuracy: 0.8306\n",
            "Epoch 33: saving model to model/keypoint_classifier\\keypoint_classifier.hdf5\n",
            "107/107 [==============================] - 0s 2ms/step - loss: 0.4716 - accuracy: 0.8290 - val_loss: 0.1617 - val_accuracy: 0.9658\n",
            "Epoch 34/200\n",
            " 92/107 [========================>.....] - ETA: 0s - loss: 0.4802 - accuracy: 0.8257\n",
            "Epoch 34: saving model to model/keypoint_classifier\\keypoint_classifier.hdf5\n",
            "107/107 [==============================] - 0s 2ms/step - loss: 0.4782 - accuracy: 0.8255 - val_loss: 0.1620 - val_accuracy: 0.9617\n",
            "Epoch 35/200\n",
            "102/107 [===========================>..] - ETA: 0s - loss: 0.4644 - accuracy: 0.8290\n",
            "Epoch 35: saving model to model/keypoint_classifier\\keypoint_classifier.hdf5\n",
            "107/107 [==============================] - 0s 3ms/step - loss: 0.4641 - accuracy: 0.8290 - val_loss: 0.1671 - val_accuracy: 0.9570\n",
            "Epoch 36/200\n",
            "101/107 [===========================>..] - ETA: 0s - loss: 0.4675 - accuracy: 0.8321\n",
            "Epoch 36: saving model to model/keypoint_classifier\\keypoint_classifier.hdf5\n",
            "107/107 [==============================] - 0s 3ms/step - loss: 0.4648 - accuracy: 0.8331 - val_loss: 0.1462 - val_accuracy: 0.9670\n",
            "Epoch 37/200\n",
            "104/107 [============================>.] - ETA: 0s - loss: 0.4719 - accuracy: 0.8291\n",
            "Epoch 37: saving model to model/keypoint_classifier\\keypoint_classifier.hdf5\n",
            "107/107 [==============================] - 0s 3ms/step - loss: 0.4731 - accuracy: 0.8287 - val_loss: 0.1599 - val_accuracy: 0.9682\n",
            "Epoch 38/200\n",
            " 87/107 [=======================>......] - ETA: 0s - loss: 0.4680 - accuracy: 0.8292\n",
            "Epoch 38: saving model to model/keypoint_classifier\\keypoint_classifier.hdf5\n",
            "107/107 [==============================] - 0s 2ms/step - loss: 0.4661 - accuracy: 0.8293 - val_loss: 0.1480 - val_accuracy: 0.9658\n",
            "Epoch 39/200\n",
            " 89/107 [=======================>......] - ETA: 0s - loss: 0.4661 - accuracy: 0.8350\n",
            "Epoch 39: saving model to model/keypoint_classifier\\keypoint_classifier.hdf5\n",
            "107/107 [==============================] - 0s 2ms/step - loss: 0.4637 - accuracy: 0.8367 - val_loss: 0.1532 - val_accuracy: 0.9617\n",
            "Epoch 40/200\n",
            "103/107 [===========================>..] - ETA: 0s - loss: 0.4456 - accuracy: 0.8381\n",
            "Epoch 40: saving model to model/keypoint_classifier\\keypoint_classifier.hdf5\n",
            "107/107 [==============================] - 0s 3ms/step - loss: 0.4449 - accuracy: 0.8382 - val_loss: 0.1416 - val_accuracy: 0.9664\n",
            "Epoch 41/200\n",
            "102/107 [===========================>..] - ETA: 0s - loss: 0.4438 - accuracy: 0.8444\n",
            "Epoch 41: saving model to model/keypoint_classifier\\keypoint_classifier.hdf5\n",
            "107/107 [==============================] - 0s 3ms/step - loss: 0.4460 - accuracy: 0.8432 - val_loss: 0.1455 - val_accuracy: 0.9629\n",
            "Epoch 42/200\n",
            " 88/107 [=======================>......] - ETA: 0s - loss: 0.4556 - accuracy: 0.8327\n",
            "Epoch 42: saving model to model/keypoint_classifier\\keypoint_classifier.hdf5\n",
            "107/107 [==============================] - 0s 2ms/step - loss: 0.4530 - accuracy: 0.8341 - val_loss: 0.1452 - val_accuracy: 0.9658\n",
            "Epoch 43/200\n",
            " 90/107 [========================>.....] - ETA: 0s - loss: 0.4473 - accuracy: 0.8365\n",
            "Epoch 43: saving model to model/keypoint_classifier\\keypoint_classifier.hdf5\n",
            "107/107 [==============================] - 0s 2ms/step - loss: 0.4456 - accuracy: 0.8382 - val_loss: 0.1406 - val_accuracy: 0.9626\n",
            "Epoch 44/200\n",
            " 91/107 [========================>.....] - ETA: 0s - loss: 0.4459 - accuracy: 0.8401\n",
            "Epoch 44: saving model to model/keypoint_classifier\\keypoint_classifier.hdf5\n",
            "107/107 [==============================] - 0s 2ms/step - loss: 0.4461 - accuracy: 0.8407 - val_loss: 0.1483 - val_accuracy: 0.9620\n",
            "Epoch 45/200\n",
            "106/107 [============================>.] - ETA: 0s - loss: 0.4393 - accuracy: 0.8421\n",
            "Epoch 45: saving model to model/keypoint_classifier\\keypoint_classifier.hdf5\n",
            "107/107 [==============================] - 0s 3ms/step - loss: 0.4393 - accuracy: 0.8421 - val_loss: 0.1431 - val_accuracy: 0.9658\n",
            "Epoch 46/200\n",
            " 95/107 [=========================>....] - ETA: 0s - loss: 0.4338 - accuracy: 0.8437\n",
            "Epoch 46: saving model to model/keypoint_classifier\\keypoint_classifier.hdf5\n",
            "107/107 [==============================] - 0s 3ms/step - loss: 0.4345 - accuracy: 0.8431 - val_loss: 0.1276 - val_accuracy: 0.9708\n",
            "Epoch 47/200\n",
            " 92/107 [========================>.....] - ETA: 0s - loss: 0.4435 - accuracy: 0.8395\n",
            "Epoch 47: saving model to model/keypoint_classifier\\keypoint_classifier.hdf5\n",
            "107/107 [==============================] - 0s 2ms/step - loss: 0.4411 - accuracy: 0.8404 - val_loss: 0.1396 - val_accuracy: 0.9658\n",
            "Epoch 48/200\n",
            " 92/107 [========================>.....] - ETA: 0s - loss: 0.4412 - accuracy: 0.8412\n",
            "Epoch 48: saving model to model/keypoint_classifier\\keypoint_classifier.hdf5\n",
            "107/107 [==============================] - 0s 2ms/step - loss: 0.4366 - accuracy: 0.8429 - val_loss: 0.1478 - val_accuracy: 0.9629\n",
            "Epoch 49/200\n",
            " 90/107 [========================>.....] - ETA: 0s - loss: 0.4284 - accuracy: 0.8451\n",
            "Epoch 49: saving model to model/keypoint_classifier\\keypoint_classifier.hdf5\n",
            "107/107 [==============================] - 0s 2ms/step - loss: 0.4318 - accuracy: 0.8453 - val_loss: 0.1385 - val_accuracy: 0.9641\n",
            "Epoch 50/200\n",
            " 85/107 [======================>.......] - ETA: 0s - loss: 0.4287 - accuracy: 0.8463\n",
            "Epoch 50: saving model to model/keypoint_classifier\\keypoint_classifier.hdf5\n",
            "107/107 [==============================] - 0s 3ms/step - loss: 0.4274 - accuracy: 0.8489 - val_loss: 0.1422 - val_accuracy: 0.9650\n",
            "Epoch 51/200\n",
            " 96/107 [=========================>....] - ETA: 0s - loss: 0.4339 - accuracy: 0.8449\n",
            "Epoch 51: saving model to model/keypoint_classifier\\keypoint_classifier.hdf5\n",
            "107/107 [==============================] - 0s 3ms/step - loss: 0.4314 - accuracy: 0.8457 - val_loss: 0.1417 - val_accuracy: 0.9617\n",
            "Epoch 52/200\n",
            " 89/107 [=======================>......] - ETA: 0s - loss: 0.4185 - accuracy: 0.8516\n",
            "Epoch 52: saving model to model/keypoint_classifier\\keypoint_classifier.hdf5\n",
            "107/107 [==============================] - 0s 2ms/step - loss: 0.4186 - accuracy: 0.8517 - val_loss: 0.1364 - val_accuracy: 0.9661\n",
            "Epoch 53/200\n",
            " 88/107 [=======================>......] - ETA: 0s - loss: 0.4228 - accuracy: 0.8509\n",
            "Epoch 53: saving model to model/keypoint_classifier\\keypoint_classifier.hdf5\n",
            "107/107 [==============================] - 0s 2ms/step - loss: 0.4232 - accuracy: 0.8512 - val_loss: 0.1295 - val_accuracy: 0.9691\n",
            "Epoch 54/200\n",
            " 92/107 [========================>.....] - ETA: 0s - loss: 0.4313 - accuracy: 0.8460\n",
            "Epoch 54: saving model to model/keypoint_classifier\\keypoint_classifier.hdf5\n",
            "107/107 [==============================] - 0s 2ms/step - loss: 0.4278 - accuracy: 0.8471 - val_loss: 0.1373 - val_accuracy: 0.9650\n",
            "Epoch 55/200\n",
            " 92/107 [========================>.....] - ETA: 0s - loss: 0.4211 - accuracy: 0.8519\n",
            "Epoch 55: saving model to model/keypoint_classifier\\keypoint_classifier.hdf5\n",
            "107/107 [==============================] - 0s 2ms/step - loss: 0.4228 - accuracy: 0.8511 - val_loss: 0.1331 - val_accuracy: 0.9655\n",
            "Epoch 56/200\n",
            " 96/107 [=========================>....] - ETA: 0s - loss: 0.4095 - accuracy: 0.8518\n",
            "Epoch 56: saving model to model/keypoint_classifier\\keypoint_classifier.hdf5\n",
            "107/107 [==============================] - 0s 3ms/step - loss: 0.4119 - accuracy: 0.8513 - val_loss: 0.1379 - val_accuracy: 0.9614\n",
            "Epoch 57/200\n",
            " 95/107 [=========================>....] - ETA: 0s - loss: 0.4190 - accuracy: 0.8502\n",
            "Epoch 57: saving model to model/keypoint_classifier\\keypoint_classifier.hdf5\n",
            "107/107 [==============================] - 0s 2ms/step - loss: 0.4168 - accuracy: 0.8512 - val_loss: 0.1353 - val_accuracy: 0.9685\n",
            "Epoch 58/200\n",
            "102/107 [===========================>..] - ETA: 0s - loss: 0.4161 - accuracy: 0.8539\n",
            "Epoch 58: saving model to model/keypoint_classifier\\keypoint_classifier.hdf5\n",
            "107/107 [==============================] - 0s 3ms/step - loss: 0.4155 - accuracy: 0.8546 - val_loss: 0.1392 - val_accuracy: 0.9653\n",
            "Epoch 59/200\n",
            " 91/107 [========================>.....] - ETA: 0s - loss: 0.4248 - accuracy: 0.8487\n",
            "Epoch 59: saving model to model/keypoint_classifier\\keypoint_classifier.hdf5\n",
            "107/107 [==============================] - 0s 2ms/step - loss: 0.4248 - accuracy: 0.8493 - val_loss: 0.1323 - val_accuracy: 0.9679\n",
            "Epoch 60/200\n",
            " 87/107 [=======================>......] - ETA: 0s - loss: 0.4145 - accuracy: 0.8506\n",
            "Epoch 60: saving model to model/keypoint_classifier\\keypoint_classifier.hdf5\n",
            "107/107 [==============================] - 0s 2ms/step - loss: 0.4120 - accuracy: 0.8520 - val_loss: 0.1380 - val_accuracy: 0.9664\n",
            "Epoch 61/200\n",
            " 98/107 [==========================>...] - ETA: 0s - loss: 0.4105 - accuracy: 0.8549\n",
            "Epoch 61: saving model to model/keypoint_classifier\\keypoint_classifier.hdf5\n",
            "107/107 [==============================] - 0s 3ms/step - loss: 0.4142 - accuracy: 0.8544 - val_loss: 0.1366 - val_accuracy: 0.9650\n",
            "Epoch 62/200\n",
            " 89/107 [=======================>......] - ETA: 0s - loss: 0.4095 - accuracy: 0.8509\n",
            "Epoch 62: saving model to model/keypoint_classifier\\keypoint_classifier.hdf5\n",
            "107/107 [==============================] - 0s 2ms/step - loss: 0.4113 - accuracy: 0.8502 - val_loss: 0.1413 - val_accuracy: 0.9611\n",
            "Epoch 63/200\n",
            " 88/107 [=======================>......] - ETA: 0s - loss: 0.4202 - accuracy: 0.8506\n",
            "Epoch 63: saving model to model/keypoint_classifier\\keypoint_classifier.hdf5\n",
            "107/107 [==============================] - 0s 2ms/step - loss: 0.4170 - accuracy: 0.8510 - val_loss: 0.1346 - val_accuracy: 0.9697\n",
            "Epoch 64/200\n",
            " 90/107 [========================>.....] - ETA: 0s - loss: 0.4082 - accuracy: 0.8532\n",
            "Epoch 64: saving model to model/keypoint_classifier\\keypoint_classifier.hdf5\n",
            "107/107 [==============================] - 0s 2ms/step - loss: 0.4129 - accuracy: 0.8524 - val_loss: 0.1209 - val_accuracy: 0.9706\n",
            "Epoch 65/200\n",
            " 86/107 [=======================>......] - ETA: 0s - loss: 0.4135 - accuracy: 0.8541\n",
            "Epoch 65: saving model to model/keypoint_classifier\\keypoint_classifier.hdf5\n",
            "107/107 [==============================] - 0s 3ms/step - loss: 0.4172 - accuracy: 0.8526 - val_loss: 0.1331 - val_accuracy: 0.9676\n",
            "Epoch 66/200\n",
            "101/107 [===========================>..] - ETA: 0s - loss: 0.4105 - accuracy: 0.8518\n",
            "Epoch 66: saving model to model/keypoint_classifier\\keypoint_classifier.hdf5\n",
            "107/107 [==============================] - 0s 3ms/step - loss: 0.4120 - accuracy: 0.8519 - val_loss: 0.1324 - val_accuracy: 0.9670\n",
            "Epoch 67/200\n",
            " 88/107 [=======================>......] - ETA: 0s - loss: 0.4063 - accuracy: 0.8566\n",
            "Epoch 67: saving model to model/keypoint_classifier\\keypoint_classifier.hdf5\n",
            "107/107 [==============================] - 0s 2ms/step - loss: 0.4081 - accuracy: 0.8551 - val_loss: 0.1451 - val_accuracy: 0.9605\n",
            "Epoch 68/200\n",
            " 99/107 [==========================>...] - ETA: 0s - loss: 0.4015 - accuracy: 0.8572\n",
            "Epoch 68: saving model to model/keypoint_classifier\\keypoint_classifier.hdf5\n",
            "107/107 [==============================] - 0s 2ms/step - loss: 0.4030 - accuracy: 0.8567 - val_loss: 0.1330 - val_accuracy: 0.9664\n",
            "Epoch 69/200\n",
            " 94/107 [=========================>....] - ETA: 0s - loss: 0.3973 - accuracy: 0.8596\n",
            "Epoch 69: saving model to model/keypoint_classifier\\keypoint_classifier.hdf5\n",
            "107/107 [==============================] - 0s 2ms/step - loss: 0.3965 - accuracy: 0.8605 - val_loss: 0.1423 - val_accuracy: 0.9605\n",
            "Epoch 70/200\n",
            " 88/107 [=======================>......] - ETA: 0s - loss: 0.4136 - accuracy: 0.8530\n",
            "Epoch 70: saving model to model/keypoint_classifier\\keypoint_classifier.hdf5\n",
            "107/107 [==============================] - 0s 2ms/step - loss: 0.4103 - accuracy: 0.8535 - val_loss: 0.1188 - val_accuracy: 0.9697\n",
            "Epoch 71/200\n",
            " 88/107 [=======================>......] - ETA: 0s - loss: 0.4142 - accuracy: 0.8530\n",
            "Epoch 71: saving model to model/keypoint_classifier\\keypoint_classifier.hdf5\n",
            "107/107 [==============================] - 0s 3ms/step - loss: 0.4103 - accuracy: 0.8549 - val_loss: 0.1280 - val_accuracy: 0.9653\n",
            "Epoch 72/200\n",
            "106/107 [============================>.] - ETA: 0s - loss: 0.3945 - accuracy: 0.8610\n",
            "Epoch 72: saving model to model/keypoint_classifier\\keypoint_classifier.hdf5\n",
            "107/107 [==============================] - 0s 3ms/step - loss: 0.3944 - accuracy: 0.8611 - val_loss: 0.1280 - val_accuracy: 0.9632\n",
            "Epoch 73/200\n",
            " 95/107 [=========================>....] - ETA: 0s - loss: 0.3948 - accuracy: 0.8556\n",
            "Epoch 73: saving model to model/keypoint_classifier\\keypoint_classifier.hdf5\n",
            "107/107 [==============================] - 0s 2ms/step - loss: 0.3932 - accuracy: 0.8570 - val_loss: 0.1213 - val_accuracy: 0.9694\n",
            "Epoch 74/200\n",
            " 95/107 [=========================>....] - ETA: 0s - loss: 0.4135 - accuracy: 0.8557\n",
            "Epoch 74: saving model to model/keypoint_classifier\\keypoint_classifier.hdf5\n",
            "107/107 [==============================] - 0s 2ms/step - loss: 0.4099 - accuracy: 0.8568 - val_loss: 0.1297 - val_accuracy: 0.9644\n",
            "Epoch 75/200\n",
            " 87/107 [=======================>......] - ETA: 0s - loss: 0.4117 - accuracy: 0.8546\n",
            "Epoch 75: saving model to model/keypoint_classifier\\keypoint_classifier.hdf5\n",
            "107/107 [==============================] - 0s 2ms/step - loss: 0.4074 - accuracy: 0.8556 - val_loss: 0.1277 - val_accuracy: 0.9641\n",
            "Epoch 76/200\n",
            " 90/107 [========================>.....] - ETA: 0s - loss: 0.4038 - accuracy: 0.8595\n",
            "Epoch 76: saving model to model/keypoint_classifier\\keypoint_classifier.hdf5\n",
            "107/107 [==============================] - 0s 2ms/step - loss: 0.4044 - accuracy: 0.8604 - val_loss: 0.1436 - val_accuracy: 0.9567\n",
            "Epoch 77/200\n",
            " 98/107 [==========================>...] - ETA: 0s - loss: 0.4044 - accuracy: 0.8557\n",
            "Epoch 77: saving model to model/keypoint_classifier\\keypoint_classifier.hdf5\n",
            "107/107 [==============================] - 0s 3ms/step - loss: 0.4056 - accuracy: 0.8558 - val_loss: 0.1303 - val_accuracy: 0.9620\n",
            "Epoch 78/200\n",
            " 86/107 [=======================>......] - ETA: 0s - loss: 0.3989 - accuracy: 0.8601\n",
            "Epoch 78: saving model to model/keypoint_classifier\\keypoint_classifier.hdf5\n",
            "107/107 [==============================] - 0s 3ms/step - loss: 0.4036 - accuracy: 0.8587 - val_loss: 0.1279 - val_accuracy: 0.9682\n",
            "Epoch 79/200\n",
            " 93/107 [=========================>....] - ETA: 0s - loss: 0.4017 - accuracy: 0.8558\n",
            "Epoch 79: saving model to model/keypoint_classifier\\keypoint_classifier.hdf5\n",
            "107/107 [==============================] - 0s 2ms/step - loss: 0.3998 - accuracy: 0.8564 - val_loss: 0.1437 - val_accuracy: 0.9626\n",
            "Epoch 80/200\n",
            " 91/107 [========================>.....] - ETA: 0s - loss: 0.3965 - accuracy: 0.8618\n",
            "Epoch 80: saving model to model/keypoint_classifier\\keypoint_classifier.hdf5\n",
            "107/107 [==============================] - 0s 2ms/step - loss: 0.3935 - accuracy: 0.8633 - val_loss: 0.1469 - val_accuracy: 0.9561\n",
            "Epoch 81/200\n",
            " 91/107 [========================>.....] - ETA: 0s - loss: 0.3951 - accuracy: 0.8577\n",
            "Epoch 81: saving model to model/keypoint_classifier\\keypoint_classifier.hdf5\n",
            "107/107 [==============================] - 0s 3ms/step - loss: 0.4014 - accuracy: 0.8560 - val_loss: 0.1383 - val_accuracy: 0.9644\n",
            "Epoch 82/200\n",
            " 98/107 [==========================>...] - ETA: 0s - loss: 0.4003 - accuracy: 0.8609\n",
            "Epoch 82: saving model to model/keypoint_classifier\\keypoint_classifier.hdf5\n",
            "107/107 [==============================] - 0s 3ms/step - loss: 0.3997 - accuracy: 0.8611 - val_loss: 0.1334 - val_accuracy: 0.9629\n",
            "Epoch 83/200\n",
            " 98/107 [==========================>...] - ETA: 0s - loss: 0.3993 - accuracy: 0.8593\n",
            "Epoch 83: saving model to model/keypoint_classifier\\keypoint_classifier.hdf5\n",
            "107/107 [==============================] - 0s 3ms/step - loss: 0.3998 - accuracy: 0.8587 - val_loss: 0.1305 - val_accuracy: 0.9658\n",
            "Epoch 84/200\n",
            " 96/107 [=========================>....] - ETA: 0s - loss: 0.3856 - accuracy: 0.8645\n",
            "Epoch 84: saving model to model/keypoint_classifier\\keypoint_classifier.hdf5\n",
            "107/107 [==============================] - 0s 2ms/step - loss: 0.3875 - accuracy: 0.8636 - val_loss: 0.1409 - val_accuracy: 0.9623\n",
            "Epoch 85/200\n",
            " 92/107 [========================>.....] - ETA: 0s - loss: 0.3901 - accuracy: 0.8627\n",
            "Epoch 85: saving model to model/keypoint_classifier\\keypoint_classifier.hdf5\n",
            "107/107 [==============================] - 0s 2ms/step - loss: 0.3943 - accuracy: 0.8615 - val_loss: 0.1310 - val_accuracy: 0.9641\n",
            "Epoch 86/200\n",
            " 85/107 [======================>.......] - ETA: 0s - loss: 0.3859 - accuracy: 0.8629\n",
            "Epoch 86: saving model to model/keypoint_classifier\\keypoint_classifier.hdf5\n",
            "107/107 [==============================] - 0s 3ms/step - loss: 0.3841 - accuracy: 0.8655 - val_loss: 0.1252 - val_accuracy: 0.9664\n",
            "Epoch 87/200\n",
            "100/107 [===========================>..] - ETA: 0s - loss: 0.3876 - accuracy: 0.8647\n",
            "Epoch 87: saving model to model/keypoint_classifier\\keypoint_classifier.hdf5\n",
            "107/107 [==============================] - 0s 3ms/step - loss: 0.3882 - accuracy: 0.8638 - val_loss: 0.1284 - val_accuracy: 0.9635\n",
            "Epoch 88/200\n",
            " 88/107 [=======================>......] - ETA: 0s - loss: 0.3878 - accuracy: 0.8635\n",
            "Epoch 88: saving model to model/keypoint_classifier\\keypoint_classifier.hdf5\n",
            "107/107 [==============================] - 0s 2ms/step - loss: 0.3859 - accuracy: 0.8654 - val_loss: 0.1350 - val_accuracy: 0.9579\n",
            "Epoch 89/200\n",
            " 95/107 [=========================>....] - ETA: 0s - loss: 0.3867 - accuracy: 0.8637\n",
            "Epoch 89: saving model to model/keypoint_classifier\\keypoint_classifier.hdf5\n",
            "107/107 [==============================] - 0s 2ms/step - loss: 0.3875 - accuracy: 0.8643 - val_loss: 0.1210 - val_accuracy: 0.9658\n",
            "Epoch 90/200\n",
            " 93/107 [=========================>....] - ETA: 0s - loss: 0.3828 - accuracy: 0.8652\n",
            "Epoch 90: saving model to model/keypoint_classifier\\keypoint_classifier.hdf5\n",
            "107/107 [==============================] - 0s 2ms/step - loss: 0.3856 - accuracy: 0.8656 - val_loss: 0.1337 - val_accuracy: 0.9605\n",
            "Epoch 90: early stopping\n"
          ]
        },
        {
          "data": {
            "text/plain": [
              "<keras.src.callbacks.History at 0x1d919b559c0>"
            ]
          },
          "execution_count": 12,
          "metadata": {},
          "output_type": "execute_result"
        }
      ],
      "source": [
        "model.fit(\n",
        "    X_train,\n",
        "    y_train,\n",
        "    epochs=200,\n",
        "    batch_size=128,\n",
        "    validation_data=(X_test, y_test),\n",
        "    callbacks=[cp_callback, es_callback]\n",
        ")"
      ]
    },
    {
      "cell_type": "code",
      "execution_count": 13,
      "metadata": {
        "colab": {
          "base_uri": "https://localhost:8080/"
        },
        "id": "pxvb2Y299hE3",
        "outputId": "59eb3185-2e37-4b9e-bc9d-ab1b8ac29b7f"
      },
      "outputs": [
        {
          "name": "stdout",
          "output_type": "stream",
          "text": [
            "27/27 [==============================] - 0s 2ms/step - loss: 0.1337 - accuracy: 0.9605\n"
          ]
        }
      ],
      "source": [
        "# Model evaluation\n",
        "val_loss, val_acc = model.evaluate(X_test, y_test, batch_size=128)"
      ]
    },
    {
      "cell_type": "code",
      "execution_count": 13,
      "metadata": {
        "id": "RBkmDeUW9hE4"
      },
      "outputs": [],
      "source": [
        "# Loading the saved model\n",
        "# model = tf.keras.models.load_model(model_save_path)"
      ]
    },
    {
      "cell_type": "markdown",
      "metadata": {
        "id": "S3U4yNWx9hE4"
      },
      "source": [
        "# Confusion matrix"
      ]
    },
    {
      "cell_type": "code",
      "execution_count": 14,
      "metadata": {
        "colab": {
          "base_uri": "https://localhost:8080/",
          "height": 582
        },
        "id": "AP1V6SCk9hE5",
        "outputId": "08e41a80-7a4a-4619-8125-ecc371368d19"
      },
      "outputs": [
        {
          "name": "stdout",
          "output_type": "stream",
          "text": [
            "107/107 [==============================] - 0s 1ms/step\n"
          ]
        },
        {
          "data": {
            "image/png": "[encoded data removed]",
            "text/plain": [
              "<Figure size 700x600 with 2 Axes>"
            ]
          },
          "metadata": {},
          "output_type": "display_data"
        },
        {
          "name": "stdout",
          "output_type": "stream",
          "text": [
            "Classification Report\n",
            "              precision    recall  f1-score   support\n",
            "\n",
            "           0       0.98      1.00      0.99       350\n",
            "           1       0.99      0.99      0.99       462\n",
            "           2       0.93      1.00      0.96       477\n",
            "           3       1.00      1.00      1.00       376\n",
            "           4       1.00      0.99      0.99       260\n",
            "           5       0.99      1.00      0.99       286\n",
            "           6       0.98      0.99      0.99       317\n",
            "           7       1.00      0.89      0.94       348\n",
            "           8       0.97      0.74      0.84       303\n",
            "           9       0.75      0.98      0.85       217\n",
            "\n",
            "    accuracy                           0.96      3396\n",
            "   macro avg       0.96      0.96      0.95      3396\n",
            "weighted avg       0.97      0.96      0.96      3396\n",
            "\n"
          ]
        }
      ],
      "source": [
        "import pandas as pd\n",
        "import seaborn as sns\n",
        "import matplotlib.pyplot as plt\n",
        "from sklearn.metrics import confusion_matrix, classification_report\n",
        "\n",
        "def print_confusion_matrix(y_true, y_pred, report=True):\n",
        "    labels = sorted(list(set(y_true)))\n",
        "    cmx_data = confusion_matrix(y_true, y_pred, labels=labels)\n",
        "    \n",
        "    df_cmx = pd.DataFrame(cmx_data, index=labels, columns=labels)\n",
        " \n",
        "    fig, ax = plt.subplots(figsize=(7, 6))\n",
        "    sns.heatmap(df_cmx, annot=True, fmt='g' ,square=False)\n",
        "    ax.set_ylim(len(set(y_true)), 0)\n",
        "    plt.show()\n",
        "    \n",
        "    if report:\n",
        "        print('Classification Report')\n",
        "        print(classification_report(y_test, y_pred))\n",
        "\n",
        "Y_pred = model.predict(X_test)\n",
        "y_pred = np.argmax(Y_pred, axis=1)\n",
        "\n",
        "print_confusion_matrix(y_test, y_pred)"
      ]
    },
    {
      "cell_type": "markdown",
      "metadata": {
        "id": "FNP6aqzc9hE5"
      },
      "source": [
        "# Convert to model for Tensorflow-Lite"
      ]
    },
    {
      "cell_type": "code",
      "execution_count": 15,
      "metadata": {
        "id": "ODjnYyld9hE6"
      },
      "outputs": [
        {
          "name": "stderr",
          "output_type": "stream",
          "text": [
            "d:\\Projects\\VocalWave\\.venv\\lib\\site-packages\\keras\\src\\engine\\training.py:3103: UserWarning: You are saving your model as an HDF5 file via `model.save()`. This file format is considered legacy. We recommend using instead the native Keras format, e.g. `model.save('my_model.keras')`.\n",
            "  saving_api.save_model(\n"
          ]
        }
      ],
      "source": [
        "# Save as a model dedicated to inference\n",
        "model.save(model_save_path, include_optimizer=False)"
      ]
    },
    {
      "cell_type": "code",
      "execution_count": null,
      "metadata": {
        "colab": {
          "base_uri": "https://localhost:8080/"
        },
        "id": "zRfuK8Y59hE6",
        "outputId": "a4ca585c-b5d5-4244-8291-8674063209bb"
      },
      "outputs": [],
      "source": [
        "# Transform model (quantization)\n",
        "\n",
        "converter = tf.lite.TFLiteConverter.from_keras_model(model)\n",
        "converter.optimizations = [tf.lite.Optimize.DEFAULT]\n",
        "tflite_quantized_model = converter.convert()\n",
        "\n",
        "open(tflite_save_path, 'wb').write(tflite_quantized_model)"
      ]
    }
  ],
  "metadata": {
    "accelerator": "GPU",
    "colab": {
      "collapsed_sections": [],
      "name": "keypoint_classification_EN.ipynb",
      "provenance": [],
      "toc_visible": true
    },
    "kernelspec": {
      "display_name": "Python 3",
      "language": "python",
      "name": "python3"
    },
    "language_info": {
      "codemirror_mode": {
        "name": "ipython",
        "version": 3
      },
      "file_extension": ".py",
      "mimetype": "text/x-python",
      "name": "python",
      "nbconvert_exporter": "python",
      "pygments_lexer": "ipython3",
      "version": "3.10.9"
    }
  },
  "nbformat": 4,
  "nbformat_minor": 0
}
