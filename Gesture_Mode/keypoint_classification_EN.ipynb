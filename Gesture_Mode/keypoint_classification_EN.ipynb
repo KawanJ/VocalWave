{
  "cells": [
    {
      "cell_type": "code",
      "execution_count": 1,
      "metadata": {
        "id": "igMyGnjE9hEp"
      },
      "outputs": [
        {
          "name": "stdout",
          "output_type": "stream",
          "text": [
            "WARNING:tensorflow:From d:\\Projects\\VocalWave\\.venv\\lib\\site-packages\\keras\\src\\losses.py:2976: The name tf.losses.sparse_softmax_cross_entropy is deprecated. Please use tf.compat.v1.losses.sparse_softmax_cross_entropy instead.\n",
            "\n"
          ]
        }
      ],
      "source": [
        "import csv\n",
        "\n",
        "import numpy as np\n",
        "import tensorflow as tf\n",
        "from sklearn.model_selection import train_test_split\n",
        "\n",
        "RANDOM_SEED = 68"
      ]
    },
    {
      "cell_type": "markdown",
      "metadata": {
        "id": "t2HDvhIu9hEr"
      },
      "source": [
        "# Specify each path"
      ]
    },
    {
      "cell_type": "code",
      "execution_count": 2,
      "metadata": {
        "id": "9NvZP2Zn9hEy"
      },
      "outputs": [],
      "source": [
        "dataset = 'model/keypoint_classifier/keypoint.csv'\n",
        "model_save_path = 'model/keypoint_classifier/keypoint_classifier.hdf5'\n",
        "tflite_save_path = 'model/keypoint_classifier/keypoint_classifier.tflite'"
      ]
    },
    {
      "cell_type": "markdown",
      "metadata": {
        "id": "s5oMH7x19hEz"
      },
      "source": [
        "# Set number of classes"
      ]
    },
    {
      "cell_type": "code",
      "execution_count": 3,
      "metadata": {
        "id": "du4kodXL9hEz"
      },
      "outputs": [],
      "source": [
        "NUM_CLASSES = 4"
      ]
    },
    {
      "cell_type": "markdown",
      "metadata": {
        "id": "XjnL0uso9hEz"
      },
      "source": [
        "# Dataset reading"
      ]
    },
    {
      "cell_type": "code",
      "execution_count": 4,
      "metadata": {
        "id": "QT5ZqtEz9hE0"
      },
      "outputs": [],
      "source": [
        "X_dataset = np.loadtxt(dataset, delimiter=',', dtype='float32', usecols=list(range(1, (21 * 2) + 1)))"
      ]
    },
    {
      "cell_type": "code",
      "execution_count": 5,
      "metadata": {
        "id": "QmoKFsp49hE0"
      },
      "outputs": [],
      "source": [
        "y_dataset = np.loadtxt(dataset, delimiter=',', dtype='int32', usecols=(0))"
      ]
    },
    {
      "cell_type": "code",
      "execution_count": 6,
      "metadata": {
        "id": "xQU7JTZ_9hE0"
      },
      "outputs": [],
      "source": [
        "X_train, X_test, y_train, y_test = train_test_split(X_dataset, y_dataset, train_size=0.8, random_state=RANDOM_SEED)"
      ]
    },
    {
      "cell_type": "markdown",
      "metadata": {
        "id": "mxK_lETT9hE0"
      },
      "source": [
        "# Model building"
      ]
    },
    {
      "cell_type": "code",
      "execution_count": 7,
      "metadata": {
        "id": "vHBmUf1t9hE1"
      },
      "outputs": [
        {
          "name": "stdout",
          "output_type": "stream",
          "text": [
            "WARNING:tensorflow:From d:\\Projects\\VocalWave\\.venv\\lib\\site-packages\\keras\\src\\backend.py:1398: The name tf.executing_eagerly_outside_functions is deprecated. Please use tf.compat.v1.executing_eagerly_outside_functions instead.\n",
            "\n"
          ]
        }
      ],
      "source": [
        "model = tf.keras.models.Sequential([\n",
        "    tf.keras.layers.Input((21 * 2, )),\n",
        "    tf.keras.layers.Dropout(0.2),\n",
        "    tf.keras.layers.Dense(20, activation='relu'),\n",
        "    tf.keras.layers.Dropout(0.4),\n",
        "    tf.keras.layers.Dense(10, activation='relu'),\n",
        "    tf.keras.layers.Dense(NUM_CLASSES, activation='softmax')\n",
        "])"
      ]
    },
    {
      "cell_type": "code",
      "execution_count": 8,
      "metadata": {
        "colab": {
          "base_uri": "https://localhost:8080/"
        },
        "id": "ypqky9tc9hE1",
        "outputId": "5db082bb-30e3-4110-bf63-a1ee777ecd46"
      },
      "outputs": [
        {
          "name": "stdout",
          "output_type": "stream",
          "text": [
            "Model: \"sequential\"\n",
            "_________________________________________________________________\n",
            " Layer (type)                Output Shape              Param #   \n",
            "=================================================================\n",
            " dropout (Dropout)           (None, 42)                0         \n",
            "                                                                 \n",
            " dense (Dense)               (None, 20)                860       \n",
            "                                                                 \n",
            " dropout_1 (Dropout)         (None, 20)                0         \n",
            "                                                                 \n",
            " dense_1 (Dense)             (None, 10)                210       \n",
            "                                                                 \n",
            " dense_2 (Dense)             (None, 4)                 44        \n",
            "                                                                 \n",
            "=================================================================\n",
            "Total params: 1114 (4.35 KB)\n",
            "Trainable params: 1114 (4.35 KB)\n",
            "Non-trainable params: 0 (0.00 Byte)\n",
            "_________________________________________________________________\n"
          ]
        }
      ],
      "source": [
        "model.summary()  # tf.keras.utils.plot_model(model, show_shapes=True)"
      ]
    },
    {
      "cell_type": "code",
      "execution_count": 9,
      "metadata": {
        "id": "MbMjOflQ9hE1"
      },
      "outputs": [],
      "source": [
        "# Model checkpoint callback\n",
        "cp_callback = tf.keras.callbacks.ModelCheckpoint(model_save_path, verbose=1, save_weights_only=False)\n",
        "# Callback for early stopping\n",
        "es_callback = tf.keras.callbacks.EarlyStopping(patience=20, verbose=1)"
      ]
    },
    {
      "cell_type": "code",
      "execution_count": 10,
      "metadata": {
        "id": "c3Dac0M_9hE2"
      },
      "outputs": [
        {
          "name": "stdout",
          "output_type": "stream",
          "text": [
            "WARNING:tensorflow:From d:\\Projects\\VocalWave\\.venv\\lib\\site-packages\\keras\\src\\optimizers\\__init__.py:309: The name tf.train.Optimizer is deprecated. Please use tf.compat.v1.train.Optimizer instead.\n",
            "\n"
          ]
        }
      ],
      "source": [
        "# Model compilation\n",
        "model.compile(\n",
        "    optimizer='adam',\n",
        "    loss='sparse_categorical_crossentropy',\n",
        "    metrics=['accuracy']\n",
        ")"
      ]
    },
    {
      "cell_type": "markdown",
      "metadata": {
        "id": "7XI0j1Iu9hE2"
      },
      "source": [
        "# Model training"
      ]
    },
    {
      "cell_type": "code",
      "execution_count": 11,
      "metadata": {
        "colab": {
          "base_uri": "https://localhost:8080/"
        },
        "id": "WirBl-JE9hE3",
        "outputId": "71b30ca2-8294-4d9d-8aa2-800d90d399de",
        "scrolled": true
      },
      "outputs": [
        {
          "name": "stdout",
          "output_type": "stream",
          "text": [
            "Epoch 1/200\n",
            "WARNING:tensorflow:From d:\\Projects\\VocalWave\\.venv\\lib\\site-packages\\keras\\src\\utils\\tf_utils.py:492: The name tf.ragged.RaggedTensorValue is deprecated. Please use tf.compat.v1.ragged.RaggedTensorValue instead.\n",
            "\n",
            "WARNING:tensorflow:From d:\\Projects\\VocalWave\\.venv\\lib\\site-packages\\keras\\src\\engine\\base_layer_utils.py:384: The name tf.executing_eagerly_outside_functions is deprecated. Please use tf.compat.v1.executing_eagerly_outside_functions instead.\n",
            "\n",
            "35/40 [=========================>....] - ETA: 0s - loss: 1.2575 - accuracy: 0.3900 \n",
            "Epoch 1: saving model to model/keypoint_classifier\\keypoint_classifier.hdf5\n",
            "40/40 [==============================] - 1s 6ms/step - loss: 1.2383 - accuracy: 0.4008 - val_loss: 0.9898 - val_accuracy: 0.5369\n",
            "Epoch 2/200\n",
            "33/40 [=======================>......] - ETA: 0s - loss: 0.9812 - accuracy: 0.5357\n",
            "Epoch 2: saving model to model/keypoint_classifier\\keypoint_classifier.hdf5\n",
            "40/40 [==============================] - 0s 3ms/step - loss: 0.9581 - accuracy: 0.5438 - val_loss: 0.7391 - val_accuracy: 0.5488\n",
            "Epoch 3/200\n",
            "35/40 [=========================>....] - ETA: 0s - loss: 0.7515 - accuracy: 0.6795"
          ]
        },
        {
          "name": "stderr",
          "output_type": "stream",
          "text": [
            "d:\\Projects\\VocalWave\\.venv\\lib\\site-packages\\keras\\src\\engine\\training.py:3103: UserWarning: You are saving your model as an HDF5 file via `model.save()`. This file format is considered legacy. We recommend using instead the native Keras format, e.g. `model.save('my_model.keras')`.\n",
            "  saving_api.save_model(\n"
          ]
        },
        {
          "name": "stdout",
          "output_type": "stream",
          "text": [
            "\n",
            "Epoch 3: saving model to model/keypoint_classifier\\keypoint_classifier.hdf5\n",
            "40/40 [==============================] - 0s 4ms/step - loss: 0.7432 - accuracy: 0.6831 - val_loss: 0.5547 - val_accuracy: 0.8626\n",
            "Epoch 4/200\n",
            "37/40 [==========================>...] - ETA: 0s - loss: 0.5655 - accuracy: 0.7895\n",
            "Epoch 4: saving model to model/keypoint_classifier\\keypoint_classifier.hdf5\n",
            "40/40 [==============================] - 0s 3ms/step - loss: 0.5617 - accuracy: 0.7908 - val_loss: 0.3674 - val_accuracy: 0.9825\n",
            "Epoch 5/200\n",
            "39/40 [============================>.] - ETA: 0s - loss: 0.4292 - accuracy: 0.8452\n",
            "Epoch 5: saving model to model/keypoint_classifier\\keypoint_classifier.hdf5\n",
            "40/40 [==============================] - 0s 2ms/step - loss: 0.4282 - accuracy: 0.8454 - val_loss: 0.2414 - val_accuracy: 0.9682\n",
            "Epoch 6/200\n",
            " 1/40 [..............................] - ETA: 0s - loss: 0.3735 - accuracy: 0.8906\n",
            "Epoch 6: saving model to model/keypoint_classifier\\keypoint_classifier.hdf5\n",
            "40/40 [==============================] - 0s 2ms/step - loss: 0.3567 - accuracy: 0.8790 - val_loss: 0.1550 - val_accuracy: 0.9817\n",
            "Epoch 7/200\n",
            "39/40 [============================>.] - ETA: 0s - loss: 0.2941 - accuracy: 0.9026\n",
            "Epoch 7: saving model to model/keypoint_classifier\\keypoint_classifier.hdf5\n",
            "40/40 [==============================] - 0s 3ms/step - loss: 0.2940 - accuracy: 0.9028 - val_loss: 0.1027 - val_accuracy: 0.9881\n",
            "Epoch 8/200\n",
            "37/40 [==========================>...] - ETA: 0s - loss: 0.2451 - accuracy: 0.9234\n",
            "Epoch 8: saving model to model/keypoint_classifier\\keypoint_classifier.hdf5\n",
            "40/40 [==============================] - 0s 3ms/step - loss: 0.2431 - accuracy: 0.9241 - val_loss: 0.0660 - val_accuracy: 0.9889\n",
            "Epoch 9/200\n",
            "36/40 [==========================>...] - ETA: 0s - loss: 0.2140 - accuracy: 0.9351\n",
            "Epoch 9: saving model to model/keypoint_classifier\\keypoint_classifier.hdf5\n",
            "40/40 [==============================] - 0s 3ms/step - loss: 0.2118 - accuracy: 0.9352 - val_loss: 0.0447 - val_accuracy: 0.9921\n",
            "Epoch 10/200\n",
            "38/40 [===========================>..] - ETA: 0s - loss: 0.1783 - accuracy: 0.9465\n",
            "Epoch 10: saving model to model/keypoint_classifier\\keypoint_classifier.hdf5\n",
            "40/40 [==============================] - 0s 3ms/step - loss: 0.1777 - accuracy: 0.9470 - val_loss: 0.0287 - val_accuracy: 0.9952\n",
            "Epoch 11/200\n",
            "35/40 [=========================>....] - ETA: 0s - loss: 0.1610 - accuracy: 0.9471\n",
            "Epoch 11: saving model to model/keypoint_classifier\\keypoint_classifier.hdf5\n",
            "40/40 [==============================] - 0s 3ms/step - loss: 0.1636 - accuracy: 0.9466 - val_loss: 0.0210 - val_accuracy: 0.9960\n",
            "Epoch 12/200\n",
            "37/40 [==========================>...] - ETA: 0s - loss: 0.1385 - accuracy: 0.9603\n",
            "Epoch 12: saving model to model/keypoint_classifier\\keypoint_classifier.hdf5\n",
            "40/40 [==============================] - 0s 3ms/step - loss: 0.1391 - accuracy: 0.9595 - val_loss: 0.0132 - val_accuracy: 1.0000\n",
            "Epoch 13/200\n",
            "36/40 [==========================>...] - ETA: 0s - loss: 0.1287 - accuracy: 0.9586\n",
            "Epoch 13: saving model to model/keypoint_classifier\\keypoint_classifier.hdf5\n",
            "40/40 [==============================] - 0s 3ms/step - loss: 0.1278 - accuracy: 0.9589 - val_loss: 0.0110 - val_accuracy: 1.0000\n",
            "Epoch 14/200\n",
            "35/40 [=========================>....] - ETA: 0s - loss: 0.1142 - accuracy: 0.9643\n",
            "Epoch 14: saving model to model/keypoint_classifier\\keypoint_classifier.hdf5\n",
            "40/40 [==============================] - 0s 3ms/step - loss: 0.1153 - accuracy: 0.9646 - val_loss: 0.0076 - val_accuracy: 1.0000\n",
            "Epoch 15/200\n",
            "35/40 [=========================>....] - ETA: 0s - loss: 0.1169 - accuracy: 0.9645\n",
            "Epoch 15: saving model to model/keypoint_classifier\\keypoint_classifier.hdf5\n",
            "40/40 [==============================] - 0s 3ms/step - loss: 0.1154 - accuracy: 0.9654 - val_loss: 0.0061 - val_accuracy: 1.0000\n",
            "Epoch 16/200\n",
            "37/40 [==========================>...] - ETA: 0s - loss: 0.1006 - accuracy: 0.9715\n",
            "Epoch 16: saving model to model/keypoint_classifier\\keypoint_classifier.hdf5\n",
            "40/40 [==============================] - 0s 3ms/step - loss: 0.1005 - accuracy: 0.9712 - val_loss: 0.0052 - val_accuracy: 1.0000\n",
            "Epoch 17/200\n",
            "35/40 [=========================>....] - ETA: 0s - loss: 0.0966 - accuracy: 0.9696\n",
            "Epoch 17: saving model to model/keypoint_classifier\\keypoint_classifier.hdf5\n",
            "40/40 [==============================] - 0s 3ms/step - loss: 0.0964 - accuracy: 0.9696 - val_loss: 0.0041 - val_accuracy: 1.0000\n",
            "Epoch 18/200\n",
            "36/40 [==========================>...] - ETA: 0s - loss: 0.0836 - accuracy: 0.9748\n",
            "Epoch 18: saving model to model/keypoint_classifier\\keypoint_classifier.hdf5\n",
            "40/40 [==============================] - 0s 3ms/step - loss: 0.0851 - accuracy: 0.9740 - val_loss: 0.0033 - val_accuracy: 1.0000\n",
            "Epoch 19/200\n",
            "37/40 [==========================>...] - ETA: 0s - loss: 0.0831 - accuracy: 0.9740\n",
            "Epoch 19: saving model to model/keypoint_classifier\\keypoint_classifier.hdf5\n",
            "40/40 [==============================] - 0s 3ms/step - loss: 0.0841 - accuracy: 0.9738 - val_loss: 0.0037 - val_accuracy: 1.0000\n",
            "Epoch 20/200\n",
            "35/40 [=========================>....] - ETA: 0s - loss: 0.0926 - accuracy: 0.9692\n",
            "Epoch 20: saving model to model/keypoint_classifier\\keypoint_classifier.hdf5\n",
            "40/40 [==============================] - 0s 3ms/step - loss: 0.0952 - accuracy: 0.9680 - val_loss: 0.0045 - val_accuracy: 1.0000\n",
            "Epoch 21/200\n",
            "34/40 [========================>.....] - ETA: 0s - loss: 0.0801 - accuracy: 0.9750\n",
            "Epoch 21: saving model to model/keypoint_classifier\\keypoint_classifier.hdf5\n",
            "40/40 [==============================] - 0s 3ms/step - loss: 0.0781 - accuracy: 0.9762 - val_loss: 0.0027 - val_accuracy: 1.0000\n",
            "Epoch 22/200\n",
            "34/40 [========================>.....] - ETA: 0s - loss: 0.0802 - accuracy: 0.9768\n",
            "Epoch 22: saving model to model/keypoint_classifier\\keypoint_classifier.hdf5\n",
            "40/40 [==============================] - 0s 3ms/step - loss: 0.0792 - accuracy: 0.9766 - val_loss: 0.0029 - val_accuracy: 1.0000\n",
            "Epoch 23/200\n",
            "24/40 [=================>............] - ETA: 0s - loss: 0.0697 - accuracy: 0.9746\n",
            "Epoch 23: saving model to model/keypoint_classifier\\keypoint_classifier.hdf5\n",
            "40/40 [==============================] - 0s 3ms/step - loss: 0.0720 - accuracy: 0.9752 - val_loss: 0.0028 - val_accuracy: 1.0000\n",
            "Epoch 24/200\n",
            "35/40 [=========================>....] - ETA: 0s - loss: 0.0698 - accuracy: 0.9775\n",
            "Epoch 24: saving model to model/keypoint_classifier\\keypoint_classifier.hdf5\n",
            "40/40 [==============================] - 0s 3ms/step - loss: 0.0718 - accuracy: 0.9764 - val_loss: 0.0025 - val_accuracy: 1.0000\n",
            "Epoch 25/200\n",
            "20/40 [==============>...............] - ETA: 0s - loss: 0.0758 - accuracy: 0.9746\n",
            "Epoch 25: saving model to model/keypoint_classifier\\keypoint_classifier.hdf5\n",
            "40/40 [==============================] - 0s 4ms/step - loss: 0.0759 - accuracy: 0.9756 - val_loss: 0.0022 - val_accuracy: 1.0000\n",
            "Epoch 26/200\n",
            "36/40 [==========================>...] - ETA: 0s - loss: 0.0716 - accuracy: 0.9781\n",
            "Epoch 26: saving model to model/keypoint_classifier\\keypoint_classifier.hdf5\n",
            "40/40 [==============================] - 0s 3ms/step - loss: 0.0696 - accuracy: 0.9787 - val_loss: 0.0023 - val_accuracy: 1.0000\n",
            "Epoch 27/200\n",
            "36/40 [==========================>...] - ETA: 0s - loss: 0.0707 - accuracy: 0.9781\n",
            "Epoch 27: saving model to model/keypoint_classifier\\keypoint_classifier.hdf5\n",
            "40/40 [==============================] - 0s 3ms/step - loss: 0.0708 - accuracy: 0.9779 - val_loss: 0.0024 - val_accuracy: 1.0000\n",
            "Epoch 28/200\n",
            "31/40 [======================>.......] - ETA: 0s - loss: 0.0698 - accuracy: 0.9773\n",
            "Epoch 28: saving model to model/keypoint_classifier\\keypoint_classifier.hdf5\n",
            "40/40 [==============================] - 0s 3ms/step - loss: 0.0703 - accuracy: 0.9779 - val_loss: 0.0026 - val_accuracy: 1.0000\n",
            "Epoch 29/200\n",
            "32/40 [=======================>......] - ETA: 0s - loss: 0.0629 - accuracy: 0.9797\n",
            "Epoch 29: saving model to model/keypoint_classifier\\keypoint_classifier.hdf5\n",
            "40/40 [==============================] - 0s 3ms/step - loss: 0.0654 - accuracy: 0.9789 - val_loss: 0.0021 - val_accuracy: 1.0000\n",
            "Epoch 30/200\n",
            "32/40 [=======================>......] - ETA: 0s - loss: 0.0693 - accuracy: 0.9771\n",
            "Epoch 30: saving model to model/keypoint_classifier\\keypoint_classifier.hdf5\n",
            "40/40 [==============================] - 0s 3ms/step - loss: 0.0680 - accuracy: 0.9773 - val_loss: 0.0029 - val_accuracy: 1.0000\n",
            "Epoch 31/200\n",
            "35/40 [=========================>....] - ETA: 0s - loss: 0.0682 - accuracy: 0.9770\n",
            "Epoch 31: saving model to model/keypoint_classifier\\keypoint_classifier.hdf5\n",
            "40/40 [==============================] - 0s 3ms/step - loss: 0.0694 - accuracy: 0.9770 - val_loss: 0.0017 - val_accuracy: 1.0000\n",
            "Epoch 32/200\n",
            "34/40 [========================>.....] - ETA: 0s - loss: 0.0647 - accuracy: 0.9798\n",
            "Epoch 32: saving model to model/keypoint_classifier\\keypoint_classifier.hdf5\n",
            "40/40 [==============================] - 0s 3ms/step - loss: 0.0622 - accuracy: 0.9807 - val_loss: 0.0022 - val_accuracy: 1.0000\n",
            "Epoch 33/200\n",
            "22/40 [===============>..............] - ETA: 0s - loss: 0.0681 - accuracy: 0.9766\n",
            "Epoch 33: saving model to model/keypoint_classifier\\keypoint_classifier.hdf5\n",
            "40/40 [==============================] - 0s 4ms/step - loss: 0.0667 - accuracy: 0.9777 - val_loss: 0.0021 - val_accuracy: 1.0000\n",
            "Epoch 34/200\n",
            "30/40 [=====================>........] - ETA: 0s - loss: 0.0674 - accuracy: 0.9794\n",
            "Epoch 34: saving model to model/keypoint_classifier\\keypoint_classifier.hdf5\n",
            "40/40 [==============================] - 0s 3ms/step - loss: 0.0619 - accuracy: 0.9807 - val_loss: 0.0016 - val_accuracy: 1.0000\n",
            "Epoch 35/200\n",
            "36/40 [==========================>...] - ETA: 0s - loss: 0.0597 - accuracy: 0.9811\n",
            "Epoch 35: saving model to model/keypoint_classifier\\keypoint_classifier.hdf5\n",
            "40/40 [==============================] - 0s 3ms/step - loss: 0.0596 - accuracy: 0.9813 - val_loss: 0.0019 - val_accuracy: 1.0000\n",
            "Epoch 36/200\n",
            "34/40 [========================>.....] - ETA: 0s - loss: 0.0626 - accuracy: 0.9791\n",
            "Epoch 36: saving model to model/keypoint_classifier\\keypoint_classifier.hdf5\n",
            "40/40 [==============================] - 0s 3ms/step - loss: 0.0605 - accuracy: 0.9803 - val_loss: 0.0014 - val_accuracy: 1.0000\n",
            "Epoch 37/200\n",
            "34/40 [========================>.....] - ETA: 0s - loss: 0.0581 - accuracy: 0.9798\n",
            "Epoch 37: saving model to model/keypoint_classifier\\keypoint_classifier.hdf5\n",
            "40/40 [==============================] - 0s 3ms/step - loss: 0.0605 - accuracy: 0.9789 - val_loss: 0.0013 - val_accuracy: 1.0000\n",
            "Epoch 38/200\n",
            "34/40 [========================>.....] - ETA: 0s - loss: 0.0614 - accuracy: 0.9789\n",
            "Epoch 38: saving model to model/keypoint_classifier\\keypoint_classifier.hdf5\n",
            "40/40 [==============================] - 0s 3ms/step - loss: 0.0607 - accuracy: 0.9795 - val_loss: 0.0020 - val_accuracy: 1.0000\n",
            "Epoch 39/200\n",
            "28/40 [====================>.........] - ETA: 0s - loss: 0.0521 - accuracy: 0.9841\n",
            "Epoch 39: saving model to model/keypoint_classifier\\keypoint_classifier.hdf5\n",
            "40/40 [==============================] - 0s 3ms/step - loss: 0.0504 - accuracy: 0.9843 - val_loss: 0.0014 - val_accuracy: 1.0000\n",
            "Epoch 40/200\n",
            "35/40 [=========================>....] - ETA: 0s - loss: 0.0531 - accuracy: 0.9797\n",
            "Epoch 40: saving model to model/keypoint_classifier\\keypoint_classifier.hdf5\n",
            "40/40 [==============================] - 0s 3ms/step - loss: 0.0529 - accuracy: 0.9799 - val_loss: 0.0022 - val_accuracy: 1.0000\n",
            "Epoch 41/200\n",
            "28/40 [====================>.........] - ETA: 0s - loss: 0.0511 - accuracy: 0.9819\n",
            "Epoch 41: saving model to model/keypoint_classifier\\keypoint_classifier.hdf5\n",
            "40/40 [==============================] - 0s 3ms/step - loss: 0.0492 - accuracy: 0.9829 - val_loss: 0.0012 - val_accuracy: 1.0000\n",
            "Epoch 42/200\n",
            "38/40 [===========================>..] - ETA: 0s - loss: 0.0484 - accuracy: 0.9850\n",
            "Epoch 42: saving model to model/keypoint_classifier\\keypoint_classifier.hdf5\n",
            "40/40 [==============================] - 0s 3ms/step - loss: 0.0475 - accuracy: 0.9855 - val_loss: 0.0010 - val_accuracy: 1.0000\n",
            "Epoch 43/200\n",
            "36/40 [==========================>...] - ETA: 0s - loss: 0.0507 - accuracy: 0.9826\n",
            "Epoch 43: saving model to model/keypoint_classifier\\keypoint_classifier.hdf5\n",
            "40/40 [==============================] - 0s 3ms/step - loss: 0.0532 - accuracy: 0.9819 - val_loss: 0.0018 - val_accuracy: 1.0000\n",
            "Epoch 44/200\n",
            "38/40 [===========================>..] - ETA: 0s - loss: 0.0499 - accuracy: 0.9827\n",
            "Epoch 44: saving model to model/keypoint_classifier\\keypoint_classifier.hdf5\n",
            "40/40 [==============================] - 0s 3ms/step - loss: 0.0491 - accuracy: 0.9831 - val_loss: 0.0020 - val_accuracy: 1.0000\n",
            "Epoch 45/200\n",
            "36/40 [==========================>...] - ETA: 0s - loss: 0.0517 - accuracy: 0.9848\n",
            "Epoch 45: saving model to model/keypoint_classifier\\keypoint_classifier.hdf5\n",
            "40/40 [==============================] - 0s 3ms/step - loss: 0.0513 - accuracy: 0.9847 - val_loss: 0.0012 - val_accuracy: 1.0000\n",
            "Epoch 46/200\n",
            "32/40 [=======================>......] - ETA: 0s - loss: 0.0613 - accuracy: 0.9805\n",
            "Epoch 46: saving model to model/keypoint_classifier\\keypoint_classifier.hdf5\n",
            "40/40 [==============================] - 0s 3ms/step - loss: 0.0602 - accuracy: 0.9801 - val_loss: 0.0014 - val_accuracy: 1.0000\n",
            "Epoch 47/200\n",
            "37/40 [==========================>...] - ETA: 0s - loss: 0.0552 - accuracy: 0.9804\n",
            "Epoch 47: saving model to model/keypoint_classifier\\keypoint_classifier.hdf5\n",
            "40/40 [==============================] - 0s 3ms/step - loss: 0.0557 - accuracy: 0.9803 - val_loss: 0.0015 - val_accuracy: 1.0000\n",
            "Epoch 48/200\n",
            "37/40 [==========================>...] - ETA: 0s - loss: 0.0531 - accuracy: 0.9835\n",
            "Epoch 48: saving model to model/keypoint_classifier\\keypoint_classifier.hdf5\n",
            "40/40 [==============================] - 0s 3ms/step - loss: 0.0527 - accuracy: 0.9837 - val_loss: 0.0021 - val_accuracy: 1.0000\n",
            "Epoch 49/200\n",
            "35/40 [=========================>....] - ETA: 0s - loss: 0.0461 - accuracy: 0.9830\n",
            "Epoch 49: saving model to model/keypoint_classifier\\keypoint_classifier.hdf5\n",
            "40/40 [==============================] - 0s 3ms/step - loss: 0.0458 - accuracy: 0.9837 - val_loss: 0.0023 - val_accuracy: 1.0000\n",
            "Epoch 50/200\n",
            "36/40 [==========================>...] - ETA: 0s - loss: 0.0482 - accuracy: 0.9852\n",
            "Epoch 50: saving model to model/keypoint_classifier\\keypoint_classifier.hdf5\n",
            "40/40 [==============================] - 0s 3ms/step - loss: 0.0473 - accuracy: 0.9855 - val_loss: 9.6492e-04 - val_accuracy: 1.0000\n",
            "Epoch 51/200\n",
            "37/40 [==========================>...] - ETA: 0s - loss: 0.0479 - accuracy: 0.9859\n",
            "Epoch 51: saving model to model/keypoint_classifier\\keypoint_classifier.hdf5\n",
            "40/40 [==============================] - 0s 3ms/step - loss: 0.0473 - accuracy: 0.9861 - val_loss: 8.9830e-04 - val_accuracy: 1.0000\n",
            "Epoch 52/200\n",
            "28/40 [====================>.........] - ETA: 0s - loss: 0.0566 - accuracy: 0.9813\n",
            "Epoch 52: saving model to model/keypoint_classifier\\keypoint_classifier.hdf5\n",
            "40/40 [==============================] - 0s 3ms/step - loss: 0.0528 - accuracy: 0.9835 - val_loss: 0.0014 - val_accuracy: 1.0000\n",
            "Epoch 53/200\n",
            "38/40 [===========================>..] - ETA: 0s - loss: 0.0482 - accuracy: 0.9831\n",
            "Epoch 53: saving model to model/keypoint_classifier\\keypoint_classifier.hdf5\n",
            "40/40 [==============================] - 0s 3ms/step - loss: 0.0477 - accuracy: 0.9831 - val_loss: 0.0016 - val_accuracy: 1.0000\n",
            "Epoch 54/200\n",
            "37/40 [==========================>...] - ETA: 0s - loss: 0.0453 - accuracy: 0.9873\n",
            "Epoch 54: saving model to model/keypoint_classifier\\keypoint_classifier.hdf5\n",
            "40/40 [==============================] - 0s 3ms/step - loss: 0.0437 - accuracy: 0.9879 - val_loss: 0.0015 - val_accuracy: 1.0000\n",
            "Epoch 55/200\n",
            "36/40 [==========================>...] - ETA: 0s - loss: 0.0443 - accuracy: 0.9846\n",
            "Epoch 55: saving model to model/keypoint_classifier\\keypoint_classifier.hdf5\n",
            "40/40 [==============================] - 0s 3ms/step - loss: 0.0434 - accuracy: 0.9851 - val_loss: 0.0016 - val_accuracy: 1.0000\n",
            "Epoch 56/200\n",
            "34/40 [========================>.....] - ETA: 0s - loss: 0.0456 - accuracy: 0.9841\n",
            "Epoch 56: saving model to model/keypoint_classifier\\keypoint_classifier.hdf5\n",
            "40/40 [==============================] - 0s 3ms/step - loss: 0.0432 - accuracy: 0.9853 - val_loss: 0.0013 - val_accuracy: 1.0000\n",
            "Epoch 57/200\n",
            "33/40 [=======================>......] - ETA: 0s - loss: 0.0543 - accuracy: 0.9822\n",
            "Epoch 57: saving model to model/keypoint_classifier\\keypoint_classifier.hdf5\n",
            "40/40 [==============================] - 0s 3ms/step - loss: 0.0516 - accuracy: 0.9833 - val_loss: 0.0021 - val_accuracy: 1.0000\n",
            "Epoch 58/200\n",
            "36/40 [==========================>...] - ETA: 0s - loss: 0.0436 - accuracy: 0.9874\n",
            "Epoch 58: saving model to model/keypoint_classifier\\keypoint_classifier.hdf5\n",
            "40/40 [==============================] - 0s 3ms/step - loss: 0.0448 - accuracy: 0.9871 - val_loss: 0.0013 - val_accuracy: 1.0000\n",
            "Epoch 59/200\n",
            "34/40 [========================>.....] - ETA: 0s - loss: 0.0409 - accuracy: 0.9862\n",
            "Epoch 59: saving model to model/keypoint_classifier\\keypoint_classifier.hdf5\n",
            "40/40 [==============================] - 0s 3ms/step - loss: 0.0436 - accuracy: 0.9857 - val_loss: 0.0019 - val_accuracy: 1.0000\n",
            "Epoch 60/200\n",
            "34/40 [========================>.....] - ETA: 0s - loss: 0.0419 - accuracy: 0.9855\n",
            "Epoch 60: saving model to model/keypoint_classifier\\keypoint_classifier.hdf5\n",
            "40/40 [==============================] - 0s 3ms/step - loss: 0.0428 - accuracy: 0.9851 - val_loss: 0.0024 - val_accuracy: 1.0000\n",
            "Epoch 61/200\n",
            "34/40 [========================>.....] - ETA: 0s - loss: 0.0469 - accuracy: 0.9855\n",
            "Epoch 61: saving model to model/keypoint_classifier\\keypoint_classifier.hdf5\n",
            "40/40 [==============================] - 0s 3ms/step - loss: 0.0460 - accuracy: 0.9863 - val_loss: 0.0016 - val_accuracy: 1.0000\n",
            "Epoch 62/200\n",
            "35/40 [=========================>....] - ETA: 0s - loss: 0.0450 - accuracy: 0.9846\n",
            "Epoch 62: saving model to model/keypoint_classifier\\keypoint_classifier.hdf5\n",
            "40/40 [==============================] - 0s 3ms/step - loss: 0.0443 - accuracy: 0.9843 - val_loss: 0.0015 - val_accuracy: 1.0000\n",
            "Epoch 63/200\n",
            "34/40 [========================>.....] - ETA: 0s - loss: 0.0494 - accuracy: 0.9837\n",
            "Epoch 63: saving model to model/keypoint_classifier\\keypoint_classifier.hdf5\n",
            "40/40 [==============================] - 0s 3ms/step - loss: 0.0506 - accuracy: 0.9833 - val_loss: 0.0011 - val_accuracy: 1.0000\n",
            "Epoch 64/200\n",
            "33/40 [=======================>......] - ETA: 0s - loss: 0.0466 - accuracy: 0.9844\n",
            "Epoch 64: saving model to model/keypoint_classifier\\keypoint_classifier.hdf5\n",
            "40/40 [==============================] - 0s 3ms/step - loss: 0.0462 - accuracy: 0.9853 - val_loss: 0.0011 - val_accuracy: 1.0000\n",
            "Epoch 65/200\n",
            "33/40 [=======================>......] - ETA: 0s - loss: 0.0378 - accuracy: 0.9872\n",
            "Epoch 65: saving model to model/keypoint_classifier\\keypoint_classifier.hdf5\n",
            "40/40 [==============================] - 0s 3ms/step - loss: 0.0391 - accuracy: 0.9867 - val_loss: 0.0011 - val_accuracy: 1.0000\n",
            "Epoch 66/200\n",
            "36/40 [==========================>...] - ETA: 0s - loss: 0.0462 - accuracy: 0.9842\n",
            "Epoch 66: saving model to model/keypoint_classifier\\keypoint_classifier.hdf5\n",
            "40/40 [==============================] - 0s 3ms/step - loss: 0.0439 - accuracy: 0.9851 - val_loss: 0.0011 - val_accuracy: 1.0000\n",
            "Epoch 67/200\n",
            "36/40 [==========================>...] - ETA: 0s - loss: 0.0496 - accuracy: 0.9839\n",
            "Epoch 67: saving model to model/keypoint_classifier\\keypoint_classifier.hdf5\n",
            "40/40 [==============================] - 0s 3ms/step - loss: 0.0481 - accuracy: 0.9845 - val_loss: 8.8180e-04 - val_accuracy: 1.0000\n",
            "Epoch 68/200\n",
            "32/40 [=======================>......] - ETA: 0s - loss: 0.0427 - accuracy: 0.9863\n",
            "Epoch 68: saving model to model/keypoint_classifier\\keypoint_classifier.hdf5\n",
            "40/40 [==============================] - 0s 3ms/step - loss: 0.0432 - accuracy: 0.9861 - val_loss: 0.0014 - val_accuracy: 1.0000\n",
            "Epoch 69/200\n",
            "35/40 [=========================>....] - ETA: 0s - loss: 0.0472 - accuracy: 0.9859\n",
            "Epoch 69: saving model to model/keypoint_classifier\\keypoint_classifier.hdf5\n",
            "40/40 [==============================] - 0s 3ms/step - loss: 0.0475 - accuracy: 0.9863 - val_loss: 0.0011 - val_accuracy: 1.0000\n",
            "Epoch 70/200\n",
            "35/40 [=========================>....] - ETA: 0s - loss: 0.0461 - accuracy: 0.9855\n",
            "Epoch 70: saving model to model/keypoint_classifier\\keypoint_classifier.hdf5\n",
            "40/40 [==============================] - 0s 3ms/step - loss: 0.0467 - accuracy: 0.9849 - val_loss: 8.4058e-04 - val_accuracy: 1.0000\n",
            "Epoch 71/200\n",
            "34/40 [========================>.....] - ETA: 0s - loss: 0.0367 - accuracy: 0.9864\n",
            "Epoch 71: saving model to model/keypoint_classifier\\keypoint_classifier.hdf5\n",
            "40/40 [==============================] - 0s 3ms/step - loss: 0.0377 - accuracy: 0.9869 - val_loss: 8.3890e-04 - val_accuracy: 1.0000\n",
            "Epoch 72/200\n",
            "31/40 [======================>.......] - ETA: 0s - loss: 0.0382 - accuracy: 0.9869\n",
            "Epoch 72: saving model to model/keypoint_classifier\\keypoint_classifier.hdf5\n",
            "40/40 [==============================] - 0s 3ms/step - loss: 0.0429 - accuracy: 0.9849 - val_loss: 0.0011 - val_accuracy: 1.0000\n",
            "Epoch 73/200\n",
            "34/40 [========================>.....] - ETA: 0s - loss: 0.0448 - accuracy: 0.9860\n",
            "Epoch 73: saving model to model/keypoint_classifier\\keypoint_classifier.hdf5\n",
            "40/40 [==============================] - 0s 3ms/step - loss: 0.0431 - accuracy: 0.9869 - val_loss: 6.0084e-04 - val_accuracy: 1.0000\n",
            "Epoch 74/200\n",
            "35/40 [=========================>....] - ETA: 0s - loss: 0.0402 - accuracy: 0.9857\n",
            "Epoch 74: saving model to model/keypoint_classifier\\keypoint_classifier.hdf5\n",
            "40/40 [==============================] - 0s 3ms/step - loss: 0.0409 - accuracy: 0.9849 - val_loss: 9.7776e-04 - val_accuracy: 1.0000\n",
            "Epoch 75/200\n",
            "38/40 [===========================>..] - ETA: 0s - loss: 0.0429 - accuracy: 0.9850\n",
            "Epoch 75: saving model to model/keypoint_classifier\\keypoint_classifier.hdf5\n",
            "40/40 [==============================] - 0s 4ms/step - loss: 0.0435 - accuracy: 0.9845 - val_loss: 0.0013 - val_accuracy: 1.0000\n",
            "Epoch 76/200\n",
            "36/40 [==========================>...] - ETA: 0s - loss: 0.0419 - accuracy: 0.9881\n",
            "Epoch 76: saving model to model/keypoint_classifier\\keypoint_classifier.hdf5\n",
            "40/40 [==============================] - 0s 3ms/step - loss: 0.0413 - accuracy: 0.9879 - val_loss: 9.4606e-04 - val_accuracy: 1.0000\n",
            "Epoch 77/200\n",
            "35/40 [=========================>....] - ETA: 0s - loss: 0.0478 - accuracy: 0.9844\n",
            "Epoch 77: saving model to model/keypoint_classifier\\keypoint_classifier.hdf5\n",
            "40/40 [==============================] - 0s 3ms/step - loss: 0.0466 - accuracy: 0.9851 - val_loss: 8.3877e-04 - val_accuracy: 1.0000\n",
            "Epoch 78/200\n",
            "33/40 [=======================>......] - ETA: 0s - loss: 0.0397 - accuracy: 0.9872\n",
            "Epoch 78: saving model to model/keypoint_classifier\\keypoint_classifier.hdf5\n",
            "40/40 [==============================] - 0s 3ms/step - loss: 0.0416 - accuracy: 0.9869 - val_loss: 9.9893e-04 - val_accuracy: 1.0000\n",
            "Epoch 79/200\n",
            "34/40 [========================>.....] - ETA: 0s - loss: 0.0360 - accuracy: 0.9887\n",
            "Epoch 79: saving model to model/keypoint_classifier\\keypoint_classifier.hdf5\n",
            "40/40 [==============================] - 0s 3ms/step - loss: 0.0378 - accuracy: 0.9881 - val_loss: 8.5424e-04 - val_accuracy: 1.0000\n",
            "Epoch 80/200\n",
            "34/40 [========================>.....] - ETA: 0s - loss: 0.0394 - accuracy: 0.9878\n",
            "Epoch 80: saving model to model/keypoint_classifier\\keypoint_classifier.hdf5\n",
            "40/40 [==============================] - 0s 3ms/step - loss: 0.0412 - accuracy: 0.9869 - val_loss: 9.6398e-04 - val_accuracy: 1.0000\n",
            "Epoch 81/200\n",
            "36/40 [==========================>...] - ETA: 0s - loss: 0.0430 - accuracy: 0.9848\n",
            "Epoch 81: saving model to model/keypoint_classifier\\keypoint_classifier.hdf5\n",
            "40/40 [==============================] - 0s 3ms/step - loss: 0.0425 - accuracy: 0.9851 - val_loss: 0.0017 - val_accuracy: 1.0000\n",
            "Epoch 82/200\n",
            "36/40 [==========================>...] - ETA: 0s - loss: 0.0425 - accuracy: 0.9842\n",
            "Epoch 82: saving model to model/keypoint_classifier\\keypoint_classifier.hdf5\n",
            "40/40 [==============================] - 0s 3ms/step - loss: 0.0423 - accuracy: 0.9841 - val_loss: 0.0011 - val_accuracy: 1.0000\n",
            "Epoch 83/200\n",
            "38/40 [===========================>..] - ETA: 0s - loss: 0.0341 - accuracy: 0.9889\n",
            "Epoch 83: saving model to model/keypoint_classifier\\keypoint_classifier.hdf5\n",
            "40/40 [==============================] - 0s 3ms/step - loss: 0.0333 - accuracy: 0.9893 - val_loss: 0.0011 - val_accuracy: 1.0000\n",
            "Epoch 84/200\n",
            "36/40 [==========================>...] - ETA: 0s - loss: 0.0380 - accuracy: 0.9870\n",
            "Epoch 84: saving model to model/keypoint_classifier\\keypoint_classifier.hdf5\n",
            "40/40 [==============================] - 0s 3ms/step - loss: 0.0368 - accuracy: 0.9875 - val_loss: 5.5314e-04 - val_accuracy: 1.0000\n",
            "Epoch 85/200\n",
            "35/40 [=========================>....] - ETA: 0s - loss: 0.0429 - accuracy: 0.9868\n",
            "Epoch 85: saving model to model/keypoint_classifier\\keypoint_classifier.hdf5\n",
            "40/40 [==============================] - 0s 3ms/step - loss: 0.0421 - accuracy: 0.9871 - val_loss: 8.8135e-04 - val_accuracy: 1.0000\n",
            "Epoch 86/200\n",
            "36/40 [==========================>...] - ETA: 0s - loss: 0.0385 - accuracy: 0.9868\n",
            "Epoch 86: saving model to model/keypoint_classifier\\keypoint_classifier.hdf5\n",
            "40/40 [==============================] - 0s 3ms/step - loss: 0.0369 - accuracy: 0.9873 - val_loss: 7.5953e-04 - val_accuracy: 1.0000\n",
            "Epoch 87/200\n",
            "36/40 [==========================>...] - ETA: 0s - loss: 0.0481 - accuracy: 0.9829\n",
            "Epoch 87: saving model to model/keypoint_classifier\\keypoint_classifier.hdf5\n",
            "40/40 [==============================] - 0s 3ms/step - loss: 0.0486 - accuracy: 0.9829 - val_loss: 8.9253e-04 - val_accuracy: 1.0000\n",
            "Epoch 88/200\n",
            "35/40 [=========================>....] - ETA: 0s - loss: 0.0412 - accuracy: 0.9862\n",
            "Epoch 88: saving model to model/keypoint_classifier\\keypoint_classifier.hdf5\n",
            "40/40 [==============================] - 0s 3ms/step - loss: 0.0413 - accuracy: 0.9857 - val_loss: 5.6521e-04 - val_accuracy: 1.0000\n",
            "Epoch 89/200\n",
            "37/40 [==========================>...] - ETA: 0s - loss: 0.0398 - accuracy: 0.9867\n",
            "Epoch 89: saving model to model/keypoint_classifier\\keypoint_classifier.hdf5\n",
            "40/40 [==============================] - 0s 3ms/step - loss: 0.0391 - accuracy: 0.9869 - val_loss: 7.6207e-04 - val_accuracy: 1.0000\n",
            "Epoch 90/200\n",
            "36/40 [==========================>...] - ETA: 0s - loss: 0.0426 - accuracy: 0.9852\n",
            "Epoch 90: saving model to model/keypoint_classifier\\keypoint_classifier.hdf5\n",
            "40/40 [==============================] - 0s 3ms/step - loss: 0.0423 - accuracy: 0.9857 - val_loss: 9.1429e-04 - val_accuracy: 1.0000\n",
            "Epoch 91/200\n",
            "34/40 [========================>.....] - ETA: 0s - loss: 0.0425 - accuracy: 0.9858\n",
            "Epoch 91: saving model to model/keypoint_classifier\\keypoint_classifier.hdf5\n",
            "40/40 [==============================] - 0s 3ms/step - loss: 0.0429 - accuracy: 0.9855 - val_loss: 7.1168e-04 - val_accuracy: 1.0000\n",
            "Epoch 92/200\n",
            "35/40 [=========================>....] - ETA: 0s - loss: 0.0377 - accuracy: 0.9895\n",
            "Epoch 92: saving model to model/keypoint_classifier\\keypoint_classifier.hdf5\n",
            "40/40 [==============================] - 0s 3ms/step - loss: 0.0379 - accuracy: 0.9893 - val_loss: 9.9774e-04 - val_accuracy: 1.0000\n",
            "Epoch 93/200\n",
            "37/40 [==========================>...] - ETA: 0s - loss: 0.0377 - accuracy: 0.9875\n",
            "Epoch 93: saving model to model/keypoint_classifier\\keypoint_classifier.hdf5\n",
            "40/40 [==============================] - 0s 3ms/step - loss: 0.0365 - accuracy: 0.9881 - val_loss: 8.3491e-04 - val_accuracy: 1.0000\n",
            "Epoch 94/200\n",
            " 1/40 [..............................] - ETA: 0s - loss: 0.0189 - accuracy: 1.0000\n",
            "Epoch 94: saving model to model/keypoint_classifier\\keypoint_classifier.hdf5\n",
            "40/40 [==============================] - 0s 2ms/step - loss: 0.0382 - accuracy: 0.9881 - val_loss: 0.0012 - val_accuracy: 1.0000\n",
            "Epoch 95/200\n",
            "19/40 [=============>................] - ETA: 0s - loss: 0.0306 - accuracy: 0.9926\n",
            "Epoch 95: saving model to model/keypoint_classifier\\keypoint_classifier.hdf5\n",
            "40/40 [==============================] - 0s 4ms/step - loss: 0.0320 - accuracy: 0.9907 - val_loss: 6.6378e-04 - val_accuracy: 1.0000\n",
            "Epoch 96/200\n",
            "36/40 [==========================>...] - ETA: 0s - loss: 0.0401 - accuracy: 0.9874\n",
            "Epoch 96: saving model to model/keypoint_classifier\\keypoint_classifier.hdf5\n",
            "40/40 [==============================] - 0s 3ms/step - loss: 0.0404 - accuracy: 0.9871 - val_loss: 8.3243e-04 - val_accuracy: 1.0000\n",
            "Epoch 97/200\n",
            "38/40 [===========================>..] - ETA: 0s - loss: 0.0397 - accuracy: 0.9866\n",
            "Epoch 97: saving model to model/keypoint_classifier\\keypoint_classifier.hdf5\n",
            "40/40 [==============================] - 0s 3ms/step - loss: 0.0388 - accuracy: 0.9869 - val_loss: 0.0010 - val_accuracy: 1.0000\n",
            "Epoch 98/200\n",
            "35/40 [=========================>....] - ETA: 0s - loss: 0.0321 - accuracy: 0.9897\n",
            "Epoch 98: saving model to model/keypoint_classifier\\keypoint_classifier.hdf5\n",
            "40/40 [==============================] - 0s 3ms/step - loss: 0.0324 - accuracy: 0.9897 - val_loss: 0.0010 - val_accuracy: 1.0000\n",
            "Epoch 99/200\n",
            "34/40 [========================>.....] - ETA: 0s - loss: 0.0320 - accuracy: 0.9903\n",
            "Epoch 99: saving model to model/keypoint_classifier\\keypoint_classifier.hdf5\n",
            "40/40 [==============================] - 0s 3ms/step - loss: 0.0325 - accuracy: 0.9903 - val_loss: 5.5270e-04 - val_accuracy: 1.0000\n",
            "Epoch 100/200\n",
            "36/40 [==========================>...] - ETA: 0s - loss: 0.0378 - accuracy: 0.9878\n",
            "Epoch 100: saving model to model/keypoint_classifier\\keypoint_classifier.hdf5\n",
            "40/40 [==============================] - 0s 3ms/step - loss: 0.0370 - accuracy: 0.9881 - val_loss: 5.8790e-04 - val_accuracy: 1.0000\n",
            "Epoch 101/200\n",
            "33/40 [=======================>......] - ETA: 0s - loss: 0.0341 - accuracy: 0.9886\n",
            "Epoch 101: saving model to model/keypoint_classifier\\keypoint_classifier.hdf5\n",
            "40/40 [==============================] - 0s 3ms/step - loss: 0.0352 - accuracy: 0.9879 - val_loss: 0.0011 - val_accuracy: 1.0000\n",
            "Epoch 102/200\n",
            "33/40 [=======================>......] - ETA: 0s - loss: 0.0384 - accuracy: 0.9860\n",
            "Epoch 102: saving model to model/keypoint_classifier\\keypoint_classifier.hdf5\n",
            "40/40 [==============================] - 0s 3ms/step - loss: 0.0375 - accuracy: 0.9867 - val_loss: 7.8077e-04 - val_accuracy: 1.0000\n",
            "Epoch 103/200\n",
            "37/40 [==========================>...] - ETA: 0s - loss: 0.0351 - accuracy: 0.9884\n",
            "Epoch 103: saving model to model/keypoint_classifier\\keypoint_classifier.hdf5\n",
            "40/40 [==============================] - 0s 3ms/step - loss: 0.0357 - accuracy: 0.9877 - val_loss: 7.1686e-04 - val_accuracy: 1.0000\n",
            "Epoch 104/200\n",
            "34/40 [========================>.....] - ETA: 0s - loss: 0.0411 - accuracy: 0.9878\n",
            "Epoch 104: saving model to model/keypoint_classifier\\keypoint_classifier.hdf5\n",
            "40/40 [==============================] - 0s 3ms/step - loss: 0.0404 - accuracy: 0.9885 - val_loss: 5.8676e-04 - val_accuracy: 1.0000\n",
            "Epoch 105/200\n",
            "36/40 [==========================>...] - ETA: 0s - loss: 0.0329 - accuracy: 0.9885\n",
            "Epoch 105: saving model to model/keypoint_classifier\\keypoint_classifier.hdf5\n",
            "40/40 [==============================] - 0s 3ms/step - loss: 0.0364 - accuracy: 0.9877 - val_loss: 0.0010 - val_accuracy: 1.0000\n",
            "Epoch 106/200\n",
            "37/40 [==========================>...] - ETA: 0s - loss: 0.0419 - accuracy: 0.9852\n",
            "Epoch 106: saving model to model/keypoint_classifier\\keypoint_classifier.hdf5\n",
            "40/40 [==============================] - 0s 3ms/step - loss: 0.0415 - accuracy: 0.9855 - val_loss: 0.0012 - val_accuracy: 1.0000\n",
            "Epoch 107/200\n",
            "35/40 [=========================>....] - ETA: 0s - loss: 0.0387 - accuracy: 0.9873\n",
            "Epoch 107: saving model to model/keypoint_classifier\\keypoint_classifier.hdf5\n",
            "40/40 [==============================] - 0s 3ms/step - loss: 0.0384 - accuracy: 0.9877 - val_loss: 8.4650e-04 - val_accuracy: 1.0000\n",
            "Epoch 108/200\n",
            "32/40 [=======================>......] - ETA: 0s - loss: 0.0393 - accuracy: 0.9858\n",
            "Epoch 108: saving model to model/keypoint_classifier\\keypoint_classifier.hdf5\n",
            "40/40 [==============================] - 0s 3ms/step - loss: 0.0371 - accuracy: 0.9867 - val_loss: 0.0012 - val_accuracy: 1.0000\n",
            "Epoch 109/200\n",
            "27/40 [===================>..........] - ETA: 0s - loss: 0.0387 - accuracy: 0.9876\n",
            "Epoch 109: saving model to model/keypoint_classifier\\keypoint_classifier.hdf5\n",
            "40/40 [==============================] - 0s 3ms/step - loss: 0.0396 - accuracy: 0.9865 - val_loss: 5.0379e-04 - val_accuracy: 1.0000\n",
            "Epoch 110/200\n",
            "32/40 [=======================>......] - ETA: 0s - loss: 0.0326 - accuracy: 0.9880\n",
            "Epoch 110: saving model to model/keypoint_classifier\\keypoint_classifier.hdf5\n",
            "40/40 [==============================] - 0s 3ms/step - loss: 0.0338 - accuracy: 0.9879 - val_loss: 8.4640e-04 - val_accuracy: 1.0000\n",
            "Epoch 111/200\n",
            "28/40 [====================>.........] - ETA: 0s - loss: 0.0411 - accuracy: 0.9849\n",
            "Epoch 111: saving model to model/keypoint_classifier\\keypoint_classifier.hdf5\n",
            "40/40 [==============================] - 0s 3ms/step - loss: 0.0413 - accuracy: 0.9847 - val_loss: 3.4260e-04 - val_accuracy: 1.0000\n",
            "Epoch 112/200\n",
            "35/40 [=========================>....] - ETA: 0s - loss: 0.0372 - accuracy: 0.9864\n",
            "Epoch 112: saving model to model/keypoint_classifier\\keypoint_classifier.hdf5\n",
            "40/40 [==============================] - 0s 3ms/step - loss: 0.0368 - accuracy: 0.9863 - val_loss: 4.4499e-04 - val_accuracy: 1.0000\n",
            "Epoch 113/200\n",
            "18/40 [============>.................] - ETA: 0s - loss: 0.0393 - accuracy: 0.9883\n",
            "Epoch 113: saving model to model/keypoint_classifier\\keypoint_classifier.hdf5\n",
            "40/40 [==============================] - 0s 4ms/step - loss: 0.0365 - accuracy: 0.9889 - val_loss: 0.0011 - val_accuracy: 1.0000\n",
            "Epoch 114/200\n",
            "36/40 [==========================>...] - ETA: 0s - loss: 0.0339 - accuracy: 0.9885\n",
            "Epoch 114: saving model to model/keypoint_classifier\\keypoint_classifier.hdf5\n",
            "40/40 [==============================] - 0s 3ms/step - loss: 0.0338 - accuracy: 0.9885 - val_loss: 8.8393e-04 - val_accuracy: 1.0000\n",
            "Epoch 115/200\n",
            "36/40 [==========================>...] - ETA: 0s - loss: 0.0325 - accuracy: 0.9894\n",
            "Epoch 115: saving model to model/keypoint_classifier\\keypoint_classifier.hdf5\n",
            "40/40 [==============================] - 0s 3ms/step - loss: 0.0333 - accuracy: 0.9891 - val_loss: 4.4438e-04 - val_accuracy: 1.0000\n",
            "Epoch 116/200\n",
            "34/40 [========================>.....] - ETA: 0s - loss: 0.0374 - accuracy: 0.9867\n",
            "Epoch 116: saving model to model/keypoint_classifier\\keypoint_classifier.hdf5\n",
            "40/40 [==============================] - 0s 3ms/step - loss: 0.0378 - accuracy: 0.9867 - val_loss: 7.3152e-04 - val_accuracy: 1.0000\n",
            "Epoch 117/200\n",
            "38/40 [===========================>..] - ETA: 0s - loss: 0.0332 - accuracy: 0.9889\n",
            "Epoch 117: saving model to model/keypoint_classifier\\keypoint_classifier.hdf5\n",
            "40/40 [==============================] - 0s 3ms/step - loss: 0.0336 - accuracy: 0.9887 - val_loss: 5.2854e-04 - val_accuracy: 1.0000\n",
            "Epoch 118/200\n",
            " 1/40 [..............................] - ETA: 0s - loss: 0.0330 - accuracy: 0.9922\n",
            "Epoch 118: saving model to model/keypoint_classifier\\keypoint_classifier.hdf5\n",
            "40/40 [==============================] - 0s 2ms/step - loss: 0.0281 - accuracy: 0.9903 - val_loss: 6.3248e-04 - val_accuracy: 1.0000\n",
            "Epoch 119/200\n",
            " 1/40 [..............................] - ETA: 0s - loss: 0.0216 - accuracy: 0.9922\n",
            "Epoch 119: saving model to model/keypoint_classifier\\keypoint_classifier.hdf5\n",
            "40/40 [==============================] - 0s 2ms/step - loss: 0.0304 - accuracy: 0.9903 - val_loss: 4.1087e-04 - val_accuracy: 1.0000\n",
            "Epoch 120/200\n",
            "35/40 [=========================>....] - ETA: 0s - loss: 0.0344 - accuracy: 0.9893\n",
            "Epoch 120: saving model to model/keypoint_classifier\\keypoint_classifier.hdf5\n",
            "40/40 [==============================] - 0s 3ms/step - loss: 0.0326 - accuracy: 0.9899 - val_loss: 4.4863e-04 - val_accuracy: 1.0000\n",
            "Epoch 121/200\n",
            "37/40 [==========================>...] - ETA: 0s - loss: 0.0321 - accuracy: 0.9897\n",
            "Epoch 121: saving model to model/keypoint_classifier\\keypoint_classifier.hdf5\n",
            "40/40 [==============================] - 0s 3ms/step - loss: 0.0333 - accuracy: 0.9893 - val_loss: 3.9859e-04 - val_accuracy: 1.0000\n",
            "Epoch 122/200\n",
            "37/40 [==========================>...] - ETA: 0s - loss: 0.0362 - accuracy: 0.9886\n",
            "Epoch 122: saving model to model/keypoint_classifier\\keypoint_classifier.hdf5\n",
            "40/40 [==============================] - 0s 3ms/step - loss: 0.0352 - accuracy: 0.9889 - val_loss: 5.7320e-04 - val_accuracy: 1.0000\n",
            "Epoch 123/200\n",
            "38/40 [===========================>..] - ETA: 0s - loss: 0.0261 - accuracy: 0.9907\n",
            "Epoch 123: saving model to model/keypoint_classifier\\keypoint_classifier.hdf5\n",
            "40/40 [==============================] - 0s 3ms/step - loss: 0.0265 - accuracy: 0.9907 - val_loss: 4.0361e-04 - val_accuracy: 1.0000\n",
            "Epoch 124/200\n",
            "36/40 [==========================>...] - ETA: 0s - loss: 0.0353 - accuracy: 0.9885\n",
            "Epoch 124: saving model to model/keypoint_classifier\\keypoint_classifier.hdf5\n",
            "40/40 [==============================] - 0s 3ms/step - loss: 0.0357 - accuracy: 0.9889 - val_loss: 6.4322e-04 - val_accuracy: 1.0000\n",
            "Epoch 125/200\n",
            "35/40 [=========================>....] - ETA: 0s - loss: 0.0345 - accuracy: 0.9888\n",
            "Epoch 125: saving model to model/keypoint_classifier\\keypoint_classifier.hdf5\n",
            "40/40 [==============================] - 0s 3ms/step - loss: 0.0370 - accuracy: 0.9879 - val_loss: 5.0747e-04 - val_accuracy: 1.0000\n",
            "Epoch 126/200\n",
            "36/40 [==========================>...] - ETA: 0s - loss: 0.0357 - accuracy: 0.9872\n",
            "Epoch 126: saving model to model/keypoint_classifier\\keypoint_classifier.hdf5\n",
            "40/40 [==============================] - 0s 3ms/step - loss: 0.0346 - accuracy: 0.9877 - val_loss: 4.3593e-04 - val_accuracy: 1.0000\n",
            "Epoch 127/200\n",
            "34/40 [========================>.....] - ETA: 0s - loss: 0.0309 - accuracy: 0.9894\n",
            "Epoch 127: saving model to model/keypoint_classifier\\keypoint_classifier.hdf5\n",
            "40/40 [==============================] - 0s 3ms/step - loss: 0.0329 - accuracy: 0.9889 - val_loss: 4.9045e-04 - val_accuracy: 1.0000\n",
            "Epoch 128/200\n",
            "35/40 [=========================>....] - ETA: 0s - loss: 0.0332 - accuracy: 0.9895\n",
            "Epoch 128: saving model to model/keypoint_classifier\\keypoint_classifier.hdf5\n",
            "40/40 [==============================] - 0s 3ms/step - loss: 0.0352 - accuracy: 0.9893 - val_loss: 4.3622e-04 - val_accuracy: 1.0000\n",
            "Epoch 129/200\n",
            " 1/40 [..............................] - ETA: 0s - loss: 0.0520 - accuracy: 0.9766\n",
            "Epoch 129: saving model to model/keypoint_classifier\\keypoint_classifier.hdf5\n",
            "40/40 [==============================] - 0s 2ms/step - loss: 0.0410 - accuracy: 0.9873 - val_loss: 7.1249e-04 - val_accuracy: 1.0000\n",
            "Epoch 130/200\n",
            "21/40 [==============>...............] - ETA: 0s - loss: 0.0326 - accuracy: 0.9892\n",
            "Epoch 130: saving model to model/keypoint_classifier\\keypoint_classifier.hdf5\n",
            "40/40 [==============================] - 0s 4ms/step - loss: 0.0331 - accuracy: 0.9891 - val_loss: 6.7678e-04 - val_accuracy: 1.0000\n",
            "Epoch 131/200\n",
            "35/40 [=========================>....] - ETA: 0s - loss: 0.0330 - accuracy: 0.9908\n",
            "Epoch 131: saving model to model/keypoint_classifier\\keypoint_classifier.hdf5\n",
            "40/40 [==============================] - 0s 3ms/step - loss: 0.0345 - accuracy: 0.9901 - val_loss: 4.7120e-04 - val_accuracy: 1.0000\n",
            "Epoch 131: early stopping\n"
          ]
        },
        {
          "data": {
            "text/plain": [
              "<keras.src.callbacks.History at 0x20e989a1ae0>"
            ]
          },
          "execution_count": 11,
          "metadata": {},
          "output_type": "execute_result"
        }
      ],
      "source": [
        "model.fit(\n",
        "    X_train,\n",
        "    y_train,\n",
        "    epochs=200,\n",
        "    batch_size=128,\n",
        "    validation_data=(X_test, y_test),\n",
        "    callbacks=[cp_callback, es_callback]\n",
        ")"
      ]
    },
    {
      "cell_type": "code",
      "execution_count": 12,
      "metadata": {
        "colab": {
          "base_uri": "https://localhost:8080/"
        },
        "id": "pxvb2Y299hE3",
        "outputId": "59eb3185-2e37-4b9e-bc9d-ab1b8ac29b7f"
      },
      "outputs": [
        {
          "name": "stdout",
          "output_type": "stream",
          "text": [
            "10/10 [==============================] - 0s 1ms/step - loss: 4.7120e-04 - accuracy: 1.0000\n"
          ]
        }
      ],
      "source": [
        "# Model evaluation\n",
        "val_loss, val_acc = model.evaluate(X_test, y_test, batch_size=128)"
      ]
    },
    {
      "cell_type": "code",
      "execution_count": 13,
      "metadata": {
        "id": "RBkmDeUW9hE4"
      },
      "outputs": [],
      "source": [
        "# Loading the saved model\n",
        "# model = tf.keras.models.load_model(model_save_path)"
      ]
    },
    {
      "cell_type": "code",
      "execution_count": 13,
      "metadata": {
        "colab": {
          "base_uri": "https://localhost:8080/"
        },
        "id": "tFz9Tb0I9hE4",
        "outputId": "1c3b3528-54ae-4ee2-ab04-77429211cbef"
      },
      "outputs": [
        {
          "name": "stdout",
          "output_type": "stream",
          "text": [
            "1/1 [==============================] - 0s 79ms/step\n",
            "[3.9795518e-07 2.3387941e-12 9.9999964e-01 7.2134386e-12]\n",
            "2\n"
          ]
        }
      ],
      "source": [
        "# Inference test\n",
        "predict_result = model.predict(np.array([X_test[0]]))\n",
        "print(np.squeeze(predict_result))\n",
        "print(np.argmax(np.squeeze(predict_result)))"
      ]
    },
    {
      "cell_type": "markdown",
      "metadata": {
        "id": "S3U4yNWx9hE4"
      },
      "source": [
        "# Confusion matrix"
      ]
    },
    {
      "cell_type": "code",
      "execution_count": 14,
      "metadata": {
        "colab": {
          "base_uri": "https://localhost:8080/",
          "height": 582
        },
        "id": "AP1V6SCk9hE5",
        "outputId": "08e41a80-7a4a-4619-8125-ecc371368d19"
      },
      "outputs": [
        {
          "name": "stdout",
          "output_type": "stream",
          "text": [
            "40/40 [==============================] - 0s 985us/step\n"
          ]
        },
        {
          "data": {
            "image/png": "[encoded data removed]",
            "text/plain": [
              "<Figure size 700x600 with 2 Axes>"
            ]
          },
          "metadata": {},
          "output_type": "display_data"
        },
        {
          "name": "stdout",
          "output_type": "stream",
          "text": [
            "Classification Report\n",
            "              precision    recall  f1-score   support\n",
            "\n",
            "           0       1.00      1.00      1.00       320\n",
            "           1       1.00      1.00      1.00       339\n",
            "           2       1.00      1.00      1.00       320\n",
            "           3       1.00      1.00      1.00       280\n",
            "\n",
            "    accuracy                           1.00      1259\n",
            "   macro avg       1.00      1.00      1.00      1259\n",
            "weighted avg       1.00      1.00      1.00      1259\n",
            "\n"
          ]
        }
      ],
      "source": [
        "import pandas as pd\n",
        "import seaborn as sns\n",
        "import matplotlib.pyplot as plt\n",
        "from sklearn.metrics import confusion_matrix, classification_report\n",
        "\n",
        "def print_confusion_matrix(y_true, y_pred, report=True):\n",
        "    labels = sorted(list(set(y_true)))\n",
        "    cmx_data = confusion_matrix(y_true, y_pred, labels=labels)\n",
        "    \n",
        "    df_cmx = pd.DataFrame(cmx_data, index=labels, columns=labels)\n",
        " \n",
        "    fig, ax = plt.subplots(figsize=(7, 6))\n",
        "    sns.heatmap(df_cmx, annot=True, fmt='g' ,square=False)\n",
        "    ax.set_ylim(len(set(y_true)), 0)\n",
        "    plt.show()\n",
        "    \n",
        "    if report:\n",
        "        print('Classification Report')\n",
        "        print(classification_report(y_test, y_pred))\n",
        "\n",
        "Y_pred = model.predict(X_test)\n",
        "y_pred = np.argmax(Y_pred, axis=1)\n",
        "\n",
        "print_confusion_matrix(y_test, y_pred)"
      ]
    },
    {
      "cell_type": "markdown",
      "metadata": {
        "id": "FNP6aqzc9hE5"
      },
      "source": [
        "# Convert to model for Tensorflow-Lite"
      ]
    },
    {
      "cell_type": "code",
      "execution_count": 15,
      "metadata": {
        "id": "ODjnYyld9hE6"
      },
      "outputs": [
        {
          "name": "stderr",
          "output_type": "stream",
          "text": [
            "d:\\Projects\\VocalWave\\.venv\\lib\\site-packages\\keras\\src\\engine\\training.py:3103: UserWarning: You are saving your model as an HDF5 file via `model.save()`. This file format is considered legacy. We recommend using instead the native Keras format, e.g. `model.save('my_model.keras')`.\n",
            "  saving_api.save_model(\n"
          ]
        }
      ],
      "source": [
        "# Save as a model dedicated to inference\n",
        "model.save(model_save_path, include_optimizer=False)"
      ]
    },
    {
      "cell_type": "code",
      "execution_count": 16,
      "metadata": {
        "colab": {
          "base_uri": "https://localhost:8080/"
        },
        "id": "zRfuK8Y59hE6",
        "outputId": "a4ca585c-b5d5-4244-8291-8674063209bb"
      },
      "outputs": [
        {
          "name": "stdout",
          "output_type": "stream",
          "text": [
            "INFO:tensorflow:Assets written to: C:\\Users\\kawan\\AppData\\Local\\Temp\\tmpv5jlih32\\assets\n"
          ]
        },
        {
          "name": "stderr",
          "output_type": "stream",
          "text": [
            "INFO:tensorflow:Assets written to: C:\\Users\\kawan\\AppData\\Local\\Temp\\tmpv5jlih32\\assets\n"
          ]
        },
        {
          "data": {
            "text/plain": [
              "6544"
            ]
          },
          "execution_count": 16,
          "metadata": {},
          "output_type": "execute_result"
        }
      ],
      "source": [
        "# Transform model (quantization)\n",
        "\n",
        "converter = tf.lite.TFLiteConverter.from_keras_model(model)\n",
        "converter.optimizations = [tf.lite.Optimize.DEFAULT]\n",
        "tflite_quantized_model = converter.convert()\n",
        "\n",
        "open(tflite_save_path, 'wb').write(tflite_quantized_model)"
      ]
    },
    {
      "cell_type": "markdown",
      "metadata": {
        "id": "CHBPBXdx9hE6"
      },
      "source": [
        "# Inference test"
      ]
    },
    {
      "cell_type": "code",
      "execution_count": null,
      "metadata": {
        "id": "mGAzLocO9hE7"
      },
      "outputs": [],
      "source": [
        "interpreter = tf.lite.Interpreter(model_path=tflite_save_path)\n",
        "interpreter.allocate_tensors()"
      ]
    },
    {
      "cell_type": "code",
      "execution_count": null,
      "metadata": {
        "id": "oQuDK8YS9hE7"
      },
      "outputs": [],
      "source": [
        "# Get I / O tensor\n",
        "input_details = interpreter.get_input_details()\n",
        "output_details = interpreter.get_output_details()"
      ]
    },
    {
      "cell_type": "code",
      "execution_count": null,
      "metadata": {
        "id": "2_ixAf_l9hE7"
      },
      "outputs": [],
      "source": [
        "interpreter.set_tensor(input_details[0]['index'], np.array([X_test[0]]))"
      ]
    },
    {
      "cell_type": "code",
      "execution_count": null,
      "metadata": {
        "colab": {
          "base_uri": "https://localhost:8080/"
        },
        "id": "s4FoAnuc9hE7",
        "outputId": "91f18257-8d8b-4ef3-c558-e9b5f94fabbf",
        "scrolled": true
      },
      "outputs": [
        {
          "name": "stdout",
          "output_type": "stream",
          "text": [
            "CPU times: user 131 µs, sys: 17 µs, total: 148 µs\n",
            "Wall time: 679 µs\n"
          ]
        }
      ],
      "source": [
        "%%time\n",
        "# Inference implementation\n",
        "interpreter.invoke()\n",
        "tflite_results = interpreter.get_tensor(output_details[0]['index'])"
      ]
    },
    {
      "cell_type": "code",
      "execution_count": null,
      "metadata": {
        "colab": {
          "base_uri": "https://localhost:8080/"
        },
        "id": "vONjp19J9hE8",
        "outputId": "77205e24-fd00-42c4-f7b6-e06e527c2cba"
      },
      "outputs": [
        {
          "name": "stdout",
          "output_type": "stream",
          "text": [
            "[9.8105639e-01 1.8674169e-02 2.2328216e-04 4.6191799e-05]\n",
            "0\n"
          ]
        }
      ],
      "source": [
        "print(np.squeeze(tflite_results))\n",
        "print(np.argmax(np.squeeze(tflite_results)))"
      ]
    }
  ],
  "metadata": {
    "accelerator": "GPU",
    "colab": {
      "collapsed_sections": [],
      "name": "keypoint_classification_EN.ipynb",
      "provenance": [],
      "toc_visible": true
    },
    "kernelspec": {
      "display_name": "Python 3",
      "language": "python",
      "name": "python3"
    },
    "language_info": {
      "codemirror_mode": {
        "name": "ipython",
        "version": 3
      },
      "file_extension": ".py",
      "mimetype": "text/x-python",
      "name": "python",
      "nbconvert_exporter": "python",
      "pygments_lexer": "ipython3",
      "version": "3.10.9"
    }
  },
  "nbformat": 4,
  "nbformat_minor": 0
}
